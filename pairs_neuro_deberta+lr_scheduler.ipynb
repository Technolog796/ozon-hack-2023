{
 "cells": [
  {
   "cell_type": "code",
   "execution_count": 2,
   "id": "f87861cb",
   "metadata": {
    "ExecuteTime": {
     "start_time": "2023-05-28T14:19:38.918172500Z"
    },
    "is_executing": true
   },
   "outputs": [],
   "source": [
    "import gc\n",
    "import os\n",
    "\n",
    "import numpy as np\n",
    "import pandas as pd\n",
    "import random\n",
    "from sklearn.metrics import roc_auc_score\n",
    "from tqdm.notebook import tqdm\n",
    "\n",
    "import torch\n",
    "import torch.nn as nn\n",
    "from torch.utils.data import Dataset\n",
    "\n",
    "import pytorch_lightning as pl\n",
    "\n",
    "from transformers import DebertaV2Config, DebertaV2Model\n",
    "\n",
    "os.environ['CUDA_LAUNCH_BLOCKING'] = \"1\"\n",
    "os.environ['TRANSFORMERS_CACHE'] = './cache/'"
   ]
  },
  {
   "cell_type": "code",
   "execution_count": 3,
   "id": "3cea0d01",
   "metadata": {
    "ExecuteTime": {
     "end_time": "2023-05-24T09:26:24.554569400Z",
     "start_time": "2023-05-24T09:26:24.551055400Z"
    }
   },
   "outputs": [
    {
     "data": {
      "text/plain": [
       "('2.0.1+cu118', True)"
      ]
     },
     "execution_count": 3,
     "metadata": {},
     "output_type": "execute_result"
    }
   ],
   "source": [
    "torch.__version__, torch.cuda.is_available()"
   ]
  },
  {
   "cell_type": "code",
   "execution_count": 4,
   "id": "5795f32d",
   "metadata": {
    "ExecuteTime": {
     "end_time": "2023-05-24T09:26:24.639270100Z",
     "start_time": "2023-05-24T09:26:24.553060400Z"
    }
   },
   "outputs": [
    {
     "name": "stderr",
     "output_type": "stream",
     "text": [
      "Global seed set to 56\n"
     ]
    },
    {
     "data": {
      "text/plain": [
       "56"
      ]
     },
     "execution_count": 4,
     "metadata": {},
     "output_type": "execute_result"
    }
   ],
   "source": [
    "pl.seed_everything(56, workers=True)"
   ]
  },
  {
   "cell_type": "code",
   "execution_count": 5,
   "id": "a31bc962",
   "metadata": {
    "ExecuteTime": {
     "end_time": "2023-05-24T09:26:31.043231800Z",
     "start_time": "2023-05-24T09:26:24.580441300Z"
    }
   },
   "outputs": [
    {
     "data": {
      "text/html": [
       "<div>\n",
       "<style scoped>\n",
       "    .dataframe tbody tr th:only-of-type {\n",
       "        vertical-align: middle;\n",
       "    }\n",
       "\n",
       "    .dataframe tbody tr th {\n",
       "        vertical-align: top;\n",
       "    }\n",
       "\n",
       "    .dataframe thead th {\n",
       "        text-align: right;\n",
       "    }\n",
       "</style>\n",
       "<table border=\"1\" class=\"dataframe\">\n",
       "  <thead>\n",
       "    <tr style=\"text-align: right;\">\n",
       "      <th></th>\n",
       "      <th>main_pic_embeddings_resnet_v1</th>\n",
       "      <th>name_bert_64</th>\n",
       "    </tr>\n",
       "    <tr>\n",
       "      <th>variantid</th>\n",
       "      <th></th>\n",
       "      <th></th>\n",
       "    </tr>\n",
       "  </thead>\n",
       "  <tbody>\n",
       "    <tr>\n",
       "      <th>51195767</th>\n",
       "      <td>[[0.04603629, 0.18839523, -0.09973055, -0.6636...</td>\n",
       "      <td>[-0.47045058, 0.67237014, 0.48984158, -0.54485...</td>\n",
       "    </tr>\n",
       "    <tr>\n",
       "      <th>53565809</th>\n",
       "      <td>[[1.1471839, -0.665361, 0.7745614, 0.26716197,...</td>\n",
       "      <td>[-0.6575592, 0.6522429, 0.5426037, -0.54347897...</td>\n",
       "    </tr>\n",
       "    <tr>\n",
       "      <th>56763357</th>\n",
       "      <td>[[-0.90570974, 1.0296293, 1.0769907, 0.27746, ...</td>\n",
       "      <td>[-0.7384308, 0.70784587, 0.3012653, -0.3583719...</td>\n",
       "    </tr>\n",
       "    <tr>\n",
       "      <th>56961772</th>\n",
       "      <td>[[0.13133773, -0.5577079, 0.32498044, 0.191717...</td>\n",
       "      <td>[-0.44812852, 0.5283565, 0.28981736, -0.506841...</td>\n",
       "    </tr>\n",
       "    <tr>\n",
       "      <th>61054740</th>\n",
       "      <td>[[0.21696381, 0.10989461, -0.08012986, 0.69186...</td>\n",
       "      <td>[-0.72692573, 0.75206333, 0.37740713, -0.52502...</td>\n",
       "    </tr>\n",
       "    <tr>\n",
       "      <th>...</th>\n",
       "      <td>...</td>\n",
       "      <td>...</td>\n",
       "    </tr>\n",
       "    <tr>\n",
       "      <th>820128810</th>\n",
       "      <td>[[-1.4492652, -0.80129164, -0.12344764, 0.7194...</td>\n",
       "      <td>[-0.8253241, 0.6785133, 0.53978086, -0.4888316...</td>\n",
       "    </tr>\n",
       "    <tr>\n",
       "      <th>821135769</th>\n",
       "      <td>[[0.012127608, -0.8534423, 0.5415518, -0.44912...</td>\n",
       "      <td>[-0.7413257, 0.46105132, 0.5639801, -0.5462132...</td>\n",
       "    </tr>\n",
       "    <tr>\n",
       "      <th>822095690</th>\n",
       "      <td>[[0.4248176, -0.15944786, -0.22844064, 0.42768...</td>\n",
       "      <td>[-0.49261805, 0.56726897, 0.7037877, -0.697246...</td>\n",
       "    </tr>\n",
       "    <tr>\n",
       "      <th>822101044</th>\n",
       "      <td>[[0.4248176, -0.15944786, -0.22844064, 0.42768...</td>\n",
       "      <td>[-0.44051006, 0.54029673, 0.63768685, -0.68040...</td>\n",
       "    </tr>\n",
       "    <tr>\n",
       "      <th>822394794</th>\n",
       "      <td>[[0.48594046, -0.8139478, -0.11380915, -0.3833...</td>\n",
       "      <td>[-0.56425023, 0.41288334, 0.5501014, -0.330675...</td>\n",
       "    </tr>\n",
       "  </tbody>\n",
       "</table>\n",
       "<p>457063 rows × 2 columns</p>\n",
       "</div>"
      ],
      "text/plain": [
       "                               main_pic_embeddings_resnet_v1   \n",
       "variantid                                                      \n",
       "51195767   [[0.04603629, 0.18839523, -0.09973055, -0.6636...  \\\n",
       "53565809   [[1.1471839, -0.665361, 0.7745614, 0.26716197,...   \n",
       "56763357   [[-0.90570974, 1.0296293, 1.0769907, 0.27746, ...   \n",
       "56961772   [[0.13133773, -0.5577079, 0.32498044, 0.191717...   \n",
       "61054740   [[0.21696381, 0.10989461, -0.08012986, 0.69186...   \n",
       "...                                                      ...   \n",
       "820128810  [[-1.4492652, -0.80129164, -0.12344764, 0.7194...   \n",
       "821135769  [[0.012127608, -0.8534423, 0.5415518, -0.44912...   \n",
       "822095690  [[0.4248176, -0.15944786, -0.22844064, 0.42768...   \n",
       "822101044  [[0.4248176, -0.15944786, -0.22844064, 0.42768...   \n",
       "822394794  [[0.48594046, -0.8139478, -0.11380915, -0.3833...   \n",
       "\n",
       "                                                name_bert_64  \n",
       "variantid                                                     \n",
       "51195767   [-0.47045058, 0.67237014, 0.48984158, -0.54485...  \n",
       "53565809   [-0.6575592, 0.6522429, 0.5426037, -0.54347897...  \n",
       "56763357   [-0.7384308, 0.70784587, 0.3012653, -0.3583719...  \n",
       "56961772   [-0.44812852, 0.5283565, 0.28981736, -0.506841...  \n",
       "61054740   [-0.72692573, 0.75206333, 0.37740713, -0.52502...  \n",
       "...                                                      ...  \n",
       "820128810  [-0.8253241, 0.6785133, 0.53978086, -0.4888316...  \n",
       "821135769  [-0.7413257, 0.46105132, 0.5639801, -0.5462132...  \n",
       "822095690  [-0.49261805, 0.56726897, 0.7037877, -0.697246...  \n",
       "822101044  [-0.44051006, 0.54029673, 0.63768685, -0.68040...  \n",
       "822394794  [-0.56425023, 0.41288334, 0.5501014, -0.330675...  \n",
       "\n",
       "[457063 rows x 2 columns]"
      ]
     },
     "execution_count": 5,
     "metadata": {},
     "output_type": "execute_result"
    }
   ],
   "source": [
    "columns = ['variantid', 'main_pic_embeddings_resnet_v1', 'name_bert_64']\n",
    "train_data = pd.read_parquet('./datasets/train_data.parquet', columns=columns).set_index('variantid')\n",
    "test_data = pd.read_parquet('./datasets/test_data.parquet', columns=columns).set_index('variantid')\n",
    "train_data"
   ]
  },
  {
   "cell_type": "code",
   "execution_count": 6,
   "id": "e0cabc66",
   "metadata": {
    "ExecuteTime": {
     "end_time": "2023-05-24T09:26:31.044740200Z",
     "start_time": "2023-05-24T09:26:31.041227800Z"
    }
   },
   "outputs": [
    {
     "data": {
      "text/html": [
       "<div>\n",
       "<style scoped>\n",
       "    .dataframe tbody tr th:only-of-type {\n",
       "        vertical-align: middle;\n",
       "    }\n",
       "\n",
       "    .dataframe tbody tr th {\n",
       "        vertical-align: top;\n",
       "    }\n",
       "\n",
       "    .dataframe thead th {\n",
       "        text-align: right;\n",
       "    }\n",
       "</style>\n",
       "<table border=\"1\" class=\"dataframe\">\n",
       "  <thead>\n",
       "    <tr style=\"text-align: right;\">\n",
       "      <th></th>\n",
       "      <th>target</th>\n",
       "      <th>variantid1</th>\n",
       "      <th>variantid2</th>\n",
       "    </tr>\n",
       "  </thead>\n",
       "  <tbody>\n",
       "    <tr>\n",
       "      <th>0</th>\n",
       "      <td>0</td>\n",
       "      <td>51197862</td>\n",
       "      <td>51198054</td>\n",
       "    </tr>\n",
       "    <tr>\n",
       "      <th>1</th>\n",
       "      <td>1</td>\n",
       "      <td>53062686</td>\n",
       "      <td>536165289</td>\n",
       "    </tr>\n",
       "    <tr>\n",
       "      <th>2</th>\n",
       "      <td>1</td>\n",
       "      <td>53602615</td>\n",
       "      <td>587809782</td>\n",
       "    </tr>\n",
       "    <tr>\n",
       "      <th>3</th>\n",
       "      <td>1</td>\n",
       "      <td>53888651</td>\n",
       "      <td>89598677</td>\n",
       "    </tr>\n",
       "    <tr>\n",
       "      <th>4</th>\n",
       "      <td>0</td>\n",
       "      <td>56930698</td>\n",
       "      <td>551526166</td>\n",
       "    </tr>\n",
       "    <tr>\n",
       "      <th>...</th>\n",
       "      <td>...</td>\n",
       "      <td>...</td>\n",
       "      <td>...</td>\n",
       "    </tr>\n",
       "    <tr>\n",
       "      <th>306535</th>\n",
       "      <td>0</td>\n",
       "      <td>817327230</td>\n",
       "      <td>822083612</td>\n",
       "    </tr>\n",
       "    <tr>\n",
       "      <th>306536</th>\n",
       "      <td>0</td>\n",
       "      <td>817560551</td>\n",
       "      <td>818069912</td>\n",
       "    </tr>\n",
       "    <tr>\n",
       "      <th>306537</th>\n",
       "      <td>0</td>\n",
       "      <td>817854719</td>\n",
       "      <td>817857267</td>\n",
       "    </tr>\n",
       "    <tr>\n",
       "      <th>306538</th>\n",
       "      <td>0</td>\n",
       "      <td>820036017</td>\n",
       "      <td>820037019</td>\n",
       "    </tr>\n",
       "    <tr>\n",
       "      <th>306539</th>\n",
       "      <td>0</td>\n",
       "      <td>821514120</td>\n",
       "      <td>821514311</td>\n",
       "    </tr>\n",
       "  </tbody>\n",
       "</table>\n",
       "<p>306540 rows × 3 columns</p>\n",
       "</div>"
      ],
      "text/plain": [
       "        target  variantid1  variantid2\n",
       "0            0    51197862    51198054\n",
       "1            1    53062686   536165289\n",
       "2            1    53602615   587809782\n",
       "3            1    53888651    89598677\n",
       "4            0    56930698   551526166\n",
       "...        ...         ...         ...\n",
       "306535       0   817327230   822083612\n",
       "306536       0   817560551   818069912\n",
       "306537       0   817854719   817857267\n",
       "306538       0   820036017   820037019\n",
       "306539       0   821514120   821514311\n",
       "\n",
       "[306540 rows x 3 columns]"
      ]
     },
     "execution_count": 6,
     "metadata": {},
     "output_type": "execute_result"
    }
   ],
   "source": [
    "train_pairs = pd.read_parquet('./datasets/train_pairs_w_target.parquet')\n",
    "test_pairs = pd.read_parquet('./datasets/test_pairs_wo_target.parquet')\n",
    "train_pairs['target'] = train_pairs['target'].astype(int)\n",
    "train_pairs"
   ]
  },
  {
   "cell_type": "code",
   "execution_count": null,
   "id": "923e9967",
   "metadata": {
    "ExecuteTime": {
     "end_time": "2023-05-24T09:26:31.045251600Z",
     "start_time": "2023-05-24T09:26:31.044231900Z"
    }
   },
   "outputs": [],
   "source": []
  },
  {
   "cell_type": "code",
   "execution_count": 7,
   "id": "cf4a585e",
   "metadata": {
    "ExecuteTime": {
     "end_time": "2023-05-24T09:26:50.054631700Z",
     "start_time": "2023-05-24T09:26:31.050274200Z"
    }
   },
   "outputs": [
    {
     "data": {
      "text/html": [
       "<div>\n",
       "<style scoped>\n",
       "    .dataframe tbody tr th:only-of-type {\n",
       "        vertical-align: middle;\n",
       "    }\n",
       "\n",
       "    .dataframe tbody tr th {\n",
       "        vertical-align: top;\n",
       "    }\n",
       "\n",
       "    .dataframe thead th {\n",
       "        text-align: right;\n",
       "    }\n",
       "</style>\n",
       "<table border=\"1\" class=\"dataframe\">\n",
       "  <thead>\n",
       "    <tr style=\"text-align: right;\">\n",
       "      <th></th>\n",
       "      <th>name_labse_768</th>\n",
       "    </tr>\n",
       "    <tr>\n",
       "      <th>variantid</th>\n",
       "      <th></th>\n",
       "    </tr>\n",
       "  </thead>\n",
       "  <tbody>\n",
       "    <tr>\n",
       "      <th>51195767</th>\n",
       "      <td>[-0.033874325, 0.03722446, 0.0029757991, 0.068...</td>\n",
       "    </tr>\n",
       "    <tr>\n",
       "      <th>53565809</th>\n",
       "      <td>[0.015568526, -0.03899538, 0.064447366, 0.0383...</td>\n",
       "    </tr>\n",
       "    <tr>\n",
       "      <th>56763357</th>\n",
       "      <td>[-0.033072222, -0.04237577, 0.020771954, 0.065...</td>\n",
       "    </tr>\n",
       "    <tr>\n",
       "      <th>56961772</th>\n",
       "      <td>[0.014727573, -0.025661988, 0.023943473, -0.00...</td>\n",
       "    </tr>\n",
       "    <tr>\n",
       "      <th>61054740</th>\n",
       "      <td>[0.043145332, -0.052424084, 0.017260496, 0.045...</td>\n",
       "    </tr>\n",
       "    <tr>\n",
       "      <th>...</th>\n",
       "      <td>...</td>\n",
       "    </tr>\n",
       "    <tr>\n",
       "      <th>820128810</th>\n",
       "      <td>[-0.003678058, -0.031628493, 0.0065589263, 0.0...</td>\n",
       "    </tr>\n",
       "    <tr>\n",
       "      <th>821135769</th>\n",
       "      <td>[-0.06858361, 0.027011767, -0.016400583, -0.02...</td>\n",
       "    </tr>\n",
       "    <tr>\n",
       "      <th>822095690</th>\n",
       "      <td>[-0.04474233, -0.034224413, 0.026076552, 0.026...</td>\n",
       "    </tr>\n",
       "    <tr>\n",
       "      <th>822101044</th>\n",
       "      <td>[-0.05541598, 0.000863006, 0.01093415, 0.02208...</td>\n",
       "    </tr>\n",
       "    <tr>\n",
       "      <th>822394794</th>\n",
       "      <td>[-0.024839332, -0.010900456, 0.035838403, -0.0...</td>\n",
       "    </tr>\n",
       "  </tbody>\n",
       "</table>\n",
       "<p>457063 rows × 1 columns</p>\n",
       "</div>"
      ],
      "text/plain": [
       "                                              name_labse_768\n",
       "variantid                                                   \n",
       "51195767   [-0.033874325, 0.03722446, 0.0029757991, 0.068...\n",
       "53565809   [0.015568526, -0.03899538, 0.064447366, 0.0383...\n",
       "56763357   [-0.033072222, -0.04237577, 0.020771954, 0.065...\n",
       "56961772   [0.014727573, -0.025661988, 0.023943473, -0.00...\n",
       "61054740   [0.043145332, -0.052424084, 0.017260496, 0.045...\n",
       "...                                                      ...\n",
       "820128810  [-0.003678058, -0.031628493, 0.0065589263, 0.0...\n",
       "821135769  [-0.06858361, 0.027011767, -0.016400583, -0.02...\n",
       "822095690  [-0.04474233, -0.034224413, 0.026076552, 0.026...\n",
       "822101044  [-0.05541598, 0.000863006, 0.01093415, 0.02208...\n",
       "822394794  [-0.024839332, -0.010900456, 0.035838403, -0.0...\n",
       "\n",
       "[457063 rows x 1 columns]"
      ]
     },
     "execution_count": 7,
     "metadata": {},
     "output_type": "execute_result"
    }
   ],
   "source": [
    "name_labse_embs = pd.read_parquet('datasets/name_labse_embs.parquet').set_index('variantid')\n",
    "name_labse_embs"
   ]
  },
  {
   "cell_type": "code",
   "execution_count": null,
   "id": "633bd441",
   "metadata": {
    "ExecuteTime": {
     "end_time": "2023-05-24T09:26:50.069136800Z",
     "start_time": "2023-05-24T09:26:50.059164100Z"
    }
   },
   "outputs": [],
   "source": []
  },
  {
   "cell_type": "code",
   "execution_count": 8,
   "id": "c912ebfc",
   "metadata": {
    "ExecuteTime": {
     "end_time": "2023-05-24T09:26:50.275253800Z",
     "start_time": "2023-05-24T09:26:50.078199Z"
    }
   },
   "outputs": [],
   "source": [
    "val_pairs = train_pairs[pd.read_csv('./datasets/val_idx.csv', index_col=0).values].copy()\n",
    "train_pairs = train_pairs[pd.read_csv('./datasets/train_idx.csv', index_col=0).values].copy()"
   ]
  },
  {
   "cell_type": "code",
   "execution_count": null,
   "id": "cd93d9d5",
   "metadata": {
    "ExecuteTime": {
     "end_time": "2023-05-24T09:14:06.912241300Z",
     "start_time": "2023-05-24T09:14:06.896197100Z"
    }
   },
   "outputs": [],
   "source": []
  },
  {
   "cell_type": "code",
   "execution_count": 11,
   "id": "0c25370d",
   "metadata": {
    "ExecuteTime": {
     "end_time": "2023-05-24T09:26:50.288717200Z",
     "start_time": "2023-05-24T09:26:50.275253800Z"
    }
   },
   "outputs": [],
   "source": [
    "class Args:\n",
    "    batch_size = 512\n",
    "    epochs = 15\n",
    "    lr = 1e-4\n",
    "    lr_warmup_epochs = 5\n",
    "    lr_warmup_decay = 0.01\n",
    "    lr_min = 1e-5\n",
    "    \n",
    "args = Args()"
   ]
  },
  {
   "cell_type": "code",
   "execution_count": 12,
   "id": "8955f29b",
   "metadata": {
    "ExecuteTime": {
     "end_time": "2023-05-24T09:26:50.327418700Z",
     "start_time": "2023-05-24T09:26:50.296275300Z"
    }
   },
   "outputs": [],
   "source": [
    "class ItemsDataset(Dataset):\n",
    "    def __init__(self, pairs, data):\n",
    "        super().__init__()\n",
    "        self.pairs = pairs.values\n",
    "        self.main_pic_embs = data['main_pic_embeddings_resnet_v1']\n",
    "        self.name_embs = data['name_bert_64']\n",
    "        self.name_labse_embs = name_labse_embs['name_labse_768']\n",
    "        self.pairs_len = len(self.pairs)\n",
    "        \n",
    "    def __len__(self):\n",
    "        return self.pairs_len\n",
    "\n",
    "    def __getitem__(self, idx):\n",
    "        target, id1, id2 = self.pairs[idx, :]\n",
    "        return (\n",
    "            torch.tensor(np.concatenate([self.main_pic_embs[id1][0], self.name_embs[id1], self.name_labse_embs[id1]])),\n",
    "            torch.tensor(np.concatenate([self.main_pic_embs[id2][0], self.name_embs[id2], self.name_labse_embs[id2]])),\n",
    "            target\n",
    "        )"
   ]
  },
  {
   "cell_type": "code",
   "execution_count": 13,
   "id": "e40e3ffd",
   "metadata": {
    "ExecuteTime": {
     "end_time": "2023-05-24T09:26:50.328417900Z",
     "start_time": "2023-05-24T09:26:50.312369500Z"
    }
   },
   "outputs": [],
   "source": [
    "def get_data_loader(pairs, data, batch_size, drop_last, shuffle):\n",
    "    dataset = ItemsDataset(pairs, data)\n",
    "    data_loader = torch.utils.data.DataLoader(\n",
    "        dataset=dataset,\n",
    "        batch_size=batch_size,\n",
    "        num_workers=0,\n",
    "        drop_last=drop_last,\n",
    "        shuffle=shuffle,\n",
    "        pin_memory=True\n",
    "    )\n",
    "    return data_loader"
   ]
  },
  {
   "cell_type": "code",
   "execution_count": 14,
   "id": "0e1ef7cc",
   "metadata": {
    "ExecuteTime": {
     "end_time": "2023-05-24T09:26:50.335201100Z",
     "start_time": "2023-05-24T09:26:50.324398600Z"
    }
   },
   "outputs": [],
   "source": [
    "def get_loaders(args):\n",
    "    train_loader = get_data_loader(\n",
    "        pairs=train_pairs,\n",
    "        data=train_data,\n",
    "        batch_size=args.batch_size,\n",
    "        drop_last=True,\n",
    "        shuffle=True\n",
    "    )\n",
    "    \n",
    "    val_loader = get_data_loader(\n",
    "        pairs=val_pairs,\n",
    "        data=train_data,\n",
    "        batch_size=args.batch_size,\n",
    "        drop_last=False,\n",
    "        shuffle=False\n",
    "    )\n",
    "    return train_loader, val_loader"
   ]
  },
  {
   "cell_type": "code",
   "execution_count": 15,
   "id": "7c6d7ad8",
   "metadata": {
    "ExecuteTime": {
     "end_time": "2023-05-24T09:26:50.410912Z",
     "start_time": "2023-05-24T09:26:50.337210700Z"
    }
   },
   "outputs": [
    {
     "data": {
      "text/plain": [
       "(399, 200)"
      ]
     },
     "execution_count": 15,
     "metadata": {},
     "output_type": "execute_result"
    }
   ],
   "source": [
    "train_loader, val_loader = get_loaders(args)\n",
    "len(train_loader), len(val_loader)"
   ]
  },
  {
   "cell_type": "code",
   "execution_count": 16,
   "id": "f78907fe",
   "metadata": {
    "ExecuteTime": {
     "end_time": "2023-05-24T09:26:53.477220300Z",
     "start_time": "2023-05-24T09:26:50.376144Z"
    }
   },
   "outputs": [
    {
     "data": {
      "text/plain": [
       "[tensor([[-3.2774e-03,  3.2531e-01, -3.3157e-01,  ...,  3.1994e-02,\n",
       "          -3.3705e-02,  1.7488e-02],\n",
       "         [ 5.0361e-01,  1.1200e+00,  4.5101e-01,  ..., -3.0027e-03,\n",
       "          -1.4640e-02,  3.1890e-02],\n",
       "         [ 6.6419e-01,  1.1968e-01, -4.1827e-01,  ..., -4.8692e-02,\n",
       "           1.8094e-02, -6.9256e-03],\n",
       "         ...,\n",
       "         [ 1.7638e-01,  3.5629e-01,  5.9098e-01,  ..., -1.5599e-02,\n",
       "          -7.0778e-02, -1.9628e-04],\n",
       "         [ 3.3006e-01, -3.6003e-01,  2.6317e-01,  ...,  5.3874e-02,\n",
       "          -2.4707e-02, -3.2029e-03],\n",
       "         [-1.3787e-01,  2.6778e-01,  6.7039e-01,  ..., -9.7806e-03,\n",
       "           3.0475e-02,  4.1302e-02]]),\n",
       " tensor([[-0.0436,  0.4931, -0.3070,  ...,  0.0513,  0.0016,  0.0265],\n",
       "         [ 0.4324,  0.8119,  0.3148,  ...,  0.0115, -0.0241,  0.0392],\n",
       "         [ 0.5154, -0.0099, -0.0911,  ..., -0.0433, -0.0030,  0.0253],\n",
       "         ...,\n",
       "         [ 0.1687,  0.4118,  0.5480,  ..., -0.0255, -0.0697, -0.0030],\n",
       "         [ 0.6076, -0.3946,  0.6024,  ...,  0.0539, -0.0247, -0.0032],\n",
       "         [-0.4031, -0.0769,  0.4919,  ..., -0.0098,  0.0305,  0.0413]]),\n",
       " tensor([1, 1, 1, 1, 1, 1, 1, 0, 0, 1, 1, 1, 1, 0, 0, 1, 1, 0, 0, 0, 1, 1, 0, 1,\n",
       "         1, 1, 1, 1, 1, 1, 1, 1, 1, 0, 0, 0, 1, 0, 0, 0, 1, 1, 0, 1, 1, 1, 0, 0,\n",
       "         0, 0, 0, 0, 1, 1, 1, 0, 1, 1, 1, 0, 0, 0, 1, 0, 1, 1, 1, 0, 0, 0, 0, 1,\n",
       "         1, 1, 0, 0, 1, 0, 0, 0, 1, 1, 1, 1, 1, 1, 0, 0, 0, 1, 1, 1, 1, 1, 1, 1,\n",
       "         0, 0, 0, 0, 0, 1, 0, 0, 1, 1, 1, 1, 1, 1, 0, 1, 0, 1, 1, 1, 0, 0, 0, 0,\n",
       "         1, 1, 1, 0, 0, 0, 1, 1, 1, 0, 0, 1, 1, 1, 1, 0, 0, 1, 0, 0, 1, 1, 0, 0,\n",
       "         0, 0, 0, 0, 0, 0, 1, 0, 0, 0, 0, 1, 1, 0, 0, 1, 0, 0, 0, 1, 1, 1, 0, 0,\n",
       "         0, 0, 0, 1, 0, 0, 1, 0, 0, 1, 0, 1, 1, 0, 0, 0, 0, 0, 1, 0, 0, 0, 0, 1,\n",
       "         0, 0, 0, 0, 1, 1, 0, 1, 0, 0, 1, 1, 1, 1, 0, 0, 1, 0, 0, 0, 0, 0, 0, 1,\n",
       "         0, 0, 1, 0, 1, 0, 0, 1, 0, 0, 1, 1, 0, 0, 1, 1, 0, 0, 0, 1, 1, 0, 0, 1,\n",
       "         0, 1, 1, 0, 1, 1, 1, 0, 1, 1, 1, 1, 1, 1, 1, 1, 1, 0, 0, 1, 1, 1, 1, 0,\n",
       "         0, 0, 0, 0, 0, 1, 0, 0, 0, 0, 0, 0, 0, 0, 0, 1, 0, 1, 1, 1, 1, 0, 1, 1,\n",
       "         1, 0, 0, 0, 0, 0, 0, 1, 1, 0, 0, 1, 0, 1, 1, 1, 0, 0, 1, 1, 0, 0, 1, 0,\n",
       "         1, 0, 1, 0, 1, 1, 1, 1, 0, 0, 0, 1, 1, 1, 0, 1, 1, 1, 1, 0, 0, 1, 0, 0,\n",
       "         0, 1, 1, 0, 1, 0, 1, 0, 0, 0, 1, 0, 0, 1, 1, 0, 0, 0, 1, 1, 1, 1, 1, 0,\n",
       "         1, 0, 0, 1, 1, 0, 0, 1, 1, 0, 1, 0, 1, 0, 0, 1, 1, 0, 1, 0, 0, 1, 1, 0,\n",
       "         1, 0, 0, 1, 0, 0, 1, 0, 1, 0, 1, 1, 0, 0, 1, 0, 1, 1, 1, 0, 1, 0, 0, 0,\n",
       "         1, 0, 0, 1, 0, 1, 1, 1, 1, 0, 0, 0, 1, 0, 0, 0, 1, 1, 0, 1, 0, 1, 1, 0,\n",
       "         0, 0, 0, 1, 0, 0, 0, 1, 0, 0, 0, 0, 0, 0, 0, 0, 1, 0, 1, 0, 0, 0, 0, 1,\n",
       "         0, 1, 0, 0, 1, 0, 1, 1, 0, 0, 0, 0, 0, 0, 0, 0, 0, 0, 0, 1, 0, 0, 0, 0,\n",
       "         0, 0, 0, 0, 0, 1, 1, 0, 0, 0, 1, 0, 1, 1, 0, 0, 0, 1, 0, 1, 1, 1, 1, 0,\n",
       "         1, 0, 0, 0, 0, 1, 1, 1])]"
      ]
     },
     "execution_count": 16,
     "metadata": {},
     "output_type": "execute_result"
    }
   ],
   "source": [
    "next(iter(val_loader))"
   ]
  },
  {
   "cell_type": "code",
   "execution_count": 17,
   "id": "20026910",
   "metadata": {
    "ExecuteTime": {
     "end_time": "2023-05-24T09:45:37.636405600Z",
     "start_time": "2023-05-24T09:45:37.611598300Z"
    }
   },
   "outputs": [],
   "source": [
    "class Net(pl.LightningModule):\n",
    "    margin = 0.75\n",
    "    \n",
    "    def __init__(self):\n",
    "        super(Net, self).__init__()\n",
    "\n",
    "        input_size = 128 + 64 + 768\n",
    "        output_size = 512\n",
    "        # self.stabilizer = nn.Linear(input_size, input_size)\n",
    "        self.bn = nn.BatchNorm1d(input_size)\n",
    "        \n",
    "        deberta_cfg = DebertaV2Config(\n",
    "            hidden_size=input_size,\n",
    "            num_hidden_layers=1,\n",
    "            num_attention_heads=1,\n",
    "            intermediate_size=1024,\n",
    "        )\n",
    "        self.deberta = DebertaV2Model(deberta_cfg, ).encoder\n",
    "        \n",
    "        features_num = 2 * input_size\n",
    "        embedding_size = (features_num + output_size) // 2\n",
    "        self.neck = nn.Sequential(\n",
    "            nn.BatchNorm1d(features_num),\n",
    "            nn.Linear(features_num, embedding_size, bias=False),\n",
    "            nn.ReLU(inplace=True),\n",
    "            nn.BatchNorm1d(embedding_size),\n",
    "            nn.Linear(embedding_size, embedding_size, bias=False),\n",
    "            nn.BatchNorm1d(embedding_size),\n",
    "        )\n",
    "        \n",
    "        self.output_layer = nn.Linear(embedding_size, output_size)\n",
    "        \n",
    "    def forward(self, x):\n",
    "        # x = self.stabilizer(x)\n",
    "        x = self.bn(x)\n",
    "        x = x.unsqueeze(1)\n",
    "        attention_mask = torch.ones((x.shape[0], 1), device='cuda')\n",
    "        last_hidden = self.deberta(x, attention_mask)\n",
    "        last_hidden = torch.concat([last_hidden[0].mean(1), last_hidden[0].max(1)[0]], -1)\n",
    "        outputs = self.neck(last_hidden)\n",
    "        outputs = self.output_layer(outputs)\n",
    "        return outputs\n",
    "\n",
    "    \n",
    "    def configure_optimizers(self):\n",
    "        optimizer = torch.optim.AdamW(\n",
    "            self.parameters(), lr=args.lr, betas=(0.9, 0.999), weight_decay=0.05\n",
    "        )\n",
    "        main_lr_scheduler = torch.optim.lr_scheduler.CosineAnnealingLR(\n",
    "            optimizer, T_max=args.epochs - args.lr_warmup_epochs, eta_min=args.lr_min\n",
    "        )\n",
    "        warmup_lr_scheduler = torch.optim.lr_scheduler.LinearLR(\n",
    "            optimizer, start_factor=args.lr_warmup_decay, total_iters=args.lr_warmup_epochs\n",
    "        )\n",
    "        lr_scheduler = torch.optim.lr_scheduler.SequentialLR(\n",
    "            optimizer, schedulers=[warmup_lr_scheduler, main_lr_scheduler], milestones=[args.lr_warmup_epochs]\n",
    "        )\n",
    "        return (\n",
    "            {\n",
    "                \"optimizer\": optimizer,\n",
    "                \"lr_scheduler\": {\n",
    "                    \"scheduler\": lr_scheduler,\n",
    "                    \"interval\": \"epoch\",\n",
    "                    \"frequency\": 1,\n",
    "                    \"strict\": True,\n",
    "                },\n",
    "            },\n",
    "        )\n",
    "    \n",
    "    def training_step(self, batch, batch_idx):\n",
    "        # self.log('step', batch_idx, logger=True, on_epoch=True)\n",
    "        x1, x2, labels = batch\n",
    "        out1 = self.forward(x1)\n",
    "        out2 = self.forward(x2)\n",
    "        \n",
    "        fnorm = torch.norm(out1, p=2, dim=1, keepdim=True)\n",
    "        out1 = out1.div(fnorm.expand_as(out1))\n",
    "        fnorm = torch.norm(out2, p=2, dim=1, keepdim=True)\n",
    "        out2 = out2.div(fnorm.expand_as(out2))\n",
    "        \n",
    "        dists = nn.PairwiseDistance()(out1, out2)\n",
    "        loss = (labels) * torch.pow(dists, 2) + (1 - labels) * torch.pow(torch.clamp(self.margin - dists, min=0.0), 2)\n",
    "        loss = torch.mean(loss)\n",
    "        self.log(\"train_loss\", loss, on_step=False, logger=False, on_epoch=True, prog_bar=True)\n",
    "        return loss\n",
    "    \n",
    "    def validation_step(self, batch, batch_idx):        \n",
    "        x1, x2, labels = batch\n",
    "        out1 = self.forward(x1)\n",
    "        out2 = self.forward(x2)\n",
    "        \n",
    "        fnorm = torch.norm(out1, p=2, dim=1, keepdim=True)\n",
    "        out1 = out1.div(fnorm.expand_as(out1))\n",
    "        fnorm = torch.norm(out2, p=2, dim=1, keepdim=True)\n",
    "        out2 = out2.div(fnorm.expand_as(out2))\n",
    "        \n",
    "        dists = nn.PairwiseDistance()(out1, out2)\n",
    "        loss = (labels) * torch.pow(dists, 2) + (1 - labels) * torch.pow(torch.clamp(self.margin - dists, min=0.0), 2)\n",
    "        loss = torch.mean(loss)\n",
    "        self.log(\"val_loss\", loss, logger=False, on_epoch=True, prog_bar=True)   \n",
    "        \n",
    "        try:\n",
    "            auc = roc_auc_score(labels.detach().cpu(), 1 - dists.detach().cpu())\n",
    "        except:\n",
    "            auc = 0\n",
    "            \n",
    "        self.log(\"val_auc\", auc, logger=False, on_epoch=True, prog_bar=True)\n",
    "        \n",
    "    def train_dataloader(self):\n",
    "        return train_loader\n",
    "\n",
    "    def val_dataloader(self):\n",
    "        return val_loader\n",
    "    \n",
    "    def predict_step(self, batch, batch_idx):\n",
    "        x1, x2, labels = batch\n",
    "        out1 = self.forward(x1)\n",
    "        out2 = self.forward(x2)\n",
    "        \n",
    "        fnorm = torch.norm(out1, p=2, dim=1, keepdim=True)\n",
    "        out1 = out1.div(fnorm.expand_as(out1))\n",
    "        fnorm = torch.norm(out2, p=2, dim=1, keepdim=True)\n",
    "        out2 = out2.div(fnorm.expand_as(out2))\n",
    "        \n",
    "        dists = nn.PairwiseDistance()(out1, out2)\n",
    "        return torch.cat([out1, out2, (1 - dists).unsqueeze(-1)], dim=1).detach().cpu()"
   ]
  },
  {
   "cell_type": "code",
   "execution_count": 18,
   "id": "5ee41190",
   "metadata": {
    "ExecuteTime": {
     "end_time": "2023-05-24T09:45:38.732627900Z",
     "start_time": "2023-05-24T09:45:38.492065600Z"
    }
   },
   "outputs": [],
   "source": [
    "model = Net()"
   ]
  },
  {
   "cell_type": "code",
   "execution_count": 19,
   "id": "55ef7cc2",
   "metadata": {},
   "outputs": [
    {
     "data": {
      "text/plain": [
       "=====================================================================================\n",
       "Layer (type:depth-idx)                                       Param #\n",
       "=====================================================================================\n",
       "Net                                                          --\n",
       "├─BatchNorm1d: 1-1                                           1,920\n",
       "├─DebertaV2Encoder: 1-2                                      --\n",
       "│    └─ModuleList: 2-1                                       --\n",
       "│    │    └─DebertaV2Layer: 3-1                              5,662,144\n",
       "├─Sequential: 1-3                                            --\n",
       "│    └─BatchNorm1d: 2-2                                      3,840\n",
       "│    └─Linear: 2-3                                           2,334,720\n",
       "│    └─ReLU: 2-4                                             --\n",
       "│    └─BatchNorm1d: 2-5                                      2,432\n",
       "│    └─Linear: 2-6                                           1,478,656\n",
       "│    └─BatchNorm1d: 2-7                                      2,432\n",
       "├─Linear: 1-4                                                623,104\n",
       "=====================================================================================\n",
       "Total params: 10,109,248\n",
       "Trainable params: 10,109,248\n",
       "Non-trainable params: 0\n",
       "====================================================================================="
      ]
     },
     "execution_count": 19,
     "metadata": {},
     "output_type": "execute_result"
    }
   ],
   "source": [
    "import torchinfo\n",
    "\n",
    "torchinfo.summary(model)"
   ]
  },
  {
   "cell_type": "code",
   "execution_count": null,
   "id": "55224dc6",
   "metadata": {
    "scrolled": false
   },
   "outputs": [
    {
     "name": "stderr",
     "output_type": "stream",
     "text": [
      "GPU available: True (cuda), used: True\n",
      "TPU available: False, using: 0 TPU cores\n",
      "IPU available: False, using: 0 IPUs\n",
      "HPU available: False, using: 0 HPUs\n",
      "LOCAL_RANK: 0 - CUDA_VISIBLE_DEVICES: [0]\n",
      "\n",
      "  | Name         | Type             | Params\n",
      "--------------------------------------------------\n",
      "0 | bn           | BatchNorm1d      | 1.9 K \n",
      "1 | deberta      | DebertaV2Encoder | 5.7 M \n",
      "2 | neck         | Sequential       | 3.8 M \n",
      "3 | output_layer | Linear           | 623 K \n",
      "--------------------------------------------------\n",
      "10.1 M    Trainable params\n",
      "0         Non-trainable params\n",
      "10.1 M    Total params\n",
      "40.437    Total estimated model params size (MB)\n"
     ]
    },
    {
     "data": {
      "application/vnd.jupyter.widget-view+json": {
       "model_id": "",
       "version_major": 2,
       "version_minor": 0
      },
      "text/plain": [
       "Sanity Checking: 0it [00:00, ?it/s]"
      ]
     },
     "metadata": {},
     "output_type": "display_data"
    },
    {
     "name": "stderr",
     "output_type": "stream",
     "text": [
      "D:\\python_projects\\ozon-hack-2023\\venv\\lib\\site-packages\\pytorch_lightning\\trainer\\connectors\\data_connector.py:430: PossibleUserWarning: The dataloader, val_dataloader, does not have many workers which may be a bottleneck. Consider increasing the value of the `num_workers` argument` (try 12 which is the number of cpus on this machine) in the `DataLoader` init to improve performance.\n",
      "  rank_zero_warn(\n",
      "D:\\python_projects\\ozon-hack-2023\\venv\\lib\\site-packages\\pytorch_lightning\\trainer\\connectors\\data_connector.py:430: PossibleUserWarning: The dataloader, train_dataloader, does not have many workers which may be a bottleneck. Consider increasing the value of the `num_workers` argument` (try 12 which is the number of cpus on this machine) in the `DataLoader` init to improve performance.\n",
      "  rank_zero_warn(\n"
     ]
    },
    {
     "data": {
      "application/vnd.jupyter.widget-view+json": {
       "model_id": "16b947f6d67e44cf8c2b2083019bda2b",
       "version_major": 2,
       "version_minor": 0
      },
      "text/plain": [
       "Training: 0it [00:00, ?it/s]"
      ]
     },
     "metadata": {},
     "output_type": "display_data"
    }
   ],
   "source": [
    "trainer = pl.Trainer(\n",
    "    logger=False, # CSVLogger('./'),\n",
    "    enable_checkpointing=False,\n",
    "    \n",
    "    accelerator='gpu', \n",
    "    devices=1,\n",
    "    profiler='advanced',\n",
    "    precision=32,\n",
    "    check_val_every_n_epoch=1,\n",
    "    max_epochs=args.epochs\n",
    ")\n",
    "\n",
    "trainer.fit(model)"
   ]
  },
  {
   "cell_type": "code",
   "execution_count": null,
   "id": "f13a865e",
   "metadata": {},
   "outputs": [],
   "source": [
    "test_preds = trainer.predict(model, val_loader)"
   ]
  },
  {
   "cell_type": "code",
   "execution_count": null,
   "id": "6d1f6db3",
   "metadata": {},
   "outputs": [],
   "source": [
    "roc_auc_score(val_pairs.target, np.concatenate([pred.numpy()[:, -1] for pred in test_preds]))"
   ]
  },
  {
   "cell_type": "code",
   "execution_count": null,
   "id": "557a3f13",
   "metadata": {},
   "outputs": [],
   "source": [
    "# 0.8770786225758669"
   ]
  },
  {
   "cell_type": "code",
   "execution_count": null,
   "id": "f325131a",
   "metadata": {},
   "outputs": [],
   "source": []
  },
  {
   "cell_type": "code",
   "execution_count": null,
   "id": "72f60750",
   "metadata": {},
   "outputs": [],
   "source": [
    "train_dataset = ItemsDataset(train_pairs, train_data)\n",
    "train_loader = torch.utils.data.DataLoader(\n",
    "    dataset=train_dataset,\n",
    "    batch_size=args.batch_size,\n",
    "    num_workers=0,\n",
    "    drop_last=False,\n",
    "    shuffle=False,\n",
    "    pin_memory=True\n",
    ")"
   ]
  },
  {
   "cell_type": "code",
   "execution_count": null,
   "id": "48a697ef",
   "metadata": {},
   "outputs": [],
   "source": [
    "features = np.concatenate([pred.numpy() for pred in trainer.predict(model, train_loader)])"
   ]
  },
  {
   "cell_type": "code",
   "execution_count": null,
   "id": "c0c04635",
   "metadata": {},
   "outputs": [],
   "source": [
    "val_features = np.concatenate([pred.numpy() for pred in trainer.predict(model, val_loader)])"
   ]
  },
  {
   "cell_type": "code",
   "execution_count": null,
   "id": "9c56e583",
   "metadata": {},
   "outputs": [],
   "source": [
    "from catboost import CatBoostClassifier, Pool, cv"
   ]
  },
  {
   "cell_type": "code",
   "execution_count": null,
   "id": "1a434e41",
   "metadata": {},
   "outputs": [],
   "source": [
    "train_pool = Pool(\n",
    "    data=features,\n",
    "    label=train_pairs.target,\n",
    ")\n",
    "\n",
    "val_pool = Pool(\n",
    "    data=val_features,\n",
    "    label=val_pairs.target,\n",
    ")"
   ]
  },
  {
   "cell_type": "code",
   "execution_count": null,
   "id": "9b04b2d3",
   "metadata": {},
   "outputs": [],
   "source": [
    "params = {\n",
    "    'loss_function': 'Logloss',\n",
    "    'custom_metric': ['AUC'],\n",
    "    'task_type': 'CPU',\n",
    "}"
   ]
  },
  {
   "cell_type": "code",
   "execution_count": null,
   "id": "92df1dad",
   "metadata": {},
   "outputs": [],
   "source": [
    "model_cb = CatBoostClassifier(**params, random_seed=56)\n",
    "model_cb.fit(train_pool, eval_set=val_pool, verbose=False, plot=True)"
   ]
  },
  {
   "cell_type": "code",
   "execution_count": null,
   "id": "6a8d9853",
   "metadata": {},
   "outputs": [],
   "source": [
    "np.max(model_cb.get_evals_result()['validation']['AUC'])"
   ]
  },
  {
   "cell_type": "code",
   "execution_count": null,
   "id": "cc57823d",
   "metadata": {},
   "outputs": [],
   "source": [
    "# 0.8818639431064165"
   ]
  },
  {
   "cell_type": "code",
   "execution_count": null,
   "id": "5559ed96",
   "metadata": {},
   "outputs": [],
   "source": [
    "cv_data = cv(\n",
    "    params=params,\n",
    "    pool=val_pool,\n",
    "    fold_count=3,\n",
    "    shuffle=True,\n",
    "    partition_random_seed=0,\n",
    "    plot=True,\n",
    "    stratified=True,\n",
    "    verbose=False\n",
    ")"
   ]
  },
  {
   "cell_type": "code",
   "execution_count": null,
   "id": "c2a7054a",
   "metadata": {},
   "outputs": [],
   "source": [
    "max_iter = cv_data['test-AUC-mean'].argmax()\n",
    "print(f\"Best iteration: {max_iter}\\nBest AUC: {round(cv_data.iloc[max_iter]['test-AUC-mean'], 4)}±{round(cv_data.iloc[max_iter]['test-AUC-std'], 4)}\")"
   ]
  },
  {
   "cell_type": "code",
   "execution_count": 33,
   "id": "efd4b33f",
   "metadata": {},
   "outputs": [],
   "source": [
    "# 0.8915"
   ]
  },
  {
   "cell_type": "code",
   "execution_count": null,
   "id": "04c72146",
   "metadata": {},
   "outputs": [],
   "source": []
  }
 ],
 "metadata": {
  "finalized": {
   "timestamp": 1684602749696,
   "trusted": true
  },
  "kernelspec": {
   "display_name": "Python 3 (ipykernel)",
   "language": "python",
   "name": "python3"
  },
  "language_info": {
   "codemirror_mode": {
    "name": "ipython",
    "version": 3
   },
   "file_extension": ".py",
   "mimetype": "text/x-python",
   "name": "python",
   "nbconvert_exporter": "python",
   "pygments_lexer": "ipython3",
   "version": "3.10.11"
  }
 },
 "nbformat": 4,
 "nbformat_minor": 5
}
