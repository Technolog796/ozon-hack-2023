{
 "cells": [
  {
   "cell_type": "code",
   "execution_count": 1,
   "id": "f87861cb",
   "metadata": {},
   "outputs": [],
   "source": [
    "import gc\n",
    "import os\n",
    "\n",
    "import numpy as np\n",
    "import pandas as pd\n",
    "import random\n",
    "from tqdm.notebook import tqdm\n",
    "\n",
    "import torch\n",
    "import torch.nn as nn\n",
    "from torch.utils.data import Dataset\n",
    "\n",
    "import pytorch_lightning as pl\n",
    "from pytorch_lightning.loggers import WandbLogger\n",
    "from pytorch_lightning.profiler import SimpleProfiler\n",
    "from pytorch_lightning.callbacks import LearningRateMonitor, ModelCheckpoint"
   ]
  },
  {
   "cell_type": "code",
   "execution_count": 2,
   "id": "3cea0d01",
   "metadata": {},
   "outputs": [
    {
     "data": {
      "text/plain": [
       "('1.13.1+cu117', True)"
      ]
     },
     "execution_count": 2,
     "metadata": {},
     "output_type": "execute_result"
    }
   ],
   "source": [
    "torch.__version__, torch.cuda.is_available()"
   ]
  },
  {
   "cell_type": "code",
   "execution_count": 3,
   "id": "5795f32d",
   "metadata": {},
   "outputs": [
    {
     "data": {
      "text/plain": [
       "56"
      ]
     },
     "execution_count": 3,
     "metadata": {},
     "output_type": "execute_result"
    }
   ],
   "source": [
    "pl.seed_everything(56)"
   ]
  },
  {
   "cell_type": "code",
   "execution_count": 4,
   "id": "a31bc962",
   "metadata": {},
   "outputs": [
    {
     "data": {
      "text/html": [
       "<div>\n",
       "<style scoped>\n",
       "    .dataframe tbody tr th:only-of-type {\n",
       "        vertical-align: middle;\n",
       "    }\n",
       "\n",
       "    .dataframe tbody tr th {\n",
       "        vertical-align: top;\n",
       "    }\n",
       "\n",
       "    .dataframe thead th {\n",
       "        text-align: right;\n",
       "    }\n",
       "</style>\n",
       "<table border=\"1\" class=\"dataframe\">\n",
       "  <thead>\n",
       "    <tr style=\"text-align: right;\">\n",
       "      <th></th>\n",
       "      <th>main_pic_embeddings_resnet_v1</th>\n",
       "      <th>name_bert_64</th>\n",
       "    </tr>\n",
       "    <tr>\n",
       "      <th>variantid</th>\n",
       "      <th></th>\n",
       "      <th></th>\n",
       "    </tr>\n",
       "  </thead>\n",
       "  <tbody>\n",
       "    <tr>\n",
       "      <th>51195767</th>\n",
       "      <td>[[0.04603629, 0.18839523, -0.09973055, -0.6636...</td>\n",
       "      <td>[-0.47045058, 0.67237014, 0.48984158, -0.54485...</td>\n",
       "    </tr>\n",
       "    <tr>\n",
       "      <th>53565809</th>\n",
       "      <td>[[1.1471839, -0.665361, 0.7745614, 0.26716197,...</td>\n",
       "      <td>[-0.6575592, 0.6522429, 0.5426037, -0.54347897...</td>\n",
       "    </tr>\n",
       "    <tr>\n",
       "      <th>56763357</th>\n",
       "      <td>[[-0.90570974, 1.0296293, 1.0769907, 0.27746, ...</td>\n",
       "      <td>[-0.7384308, 0.70784587, 0.3012653, -0.3583719...</td>\n",
       "    </tr>\n",
       "    <tr>\n",
       "      <th>56961772</th>\n",
       "      <td>[[0.13133773, -0.5577079, 0.32498044, 0.191717...</td>\n",
       "      <td>[-0.44812852, 0.5283565, 0.28981736, -0.506841...</td>\n",
       "    </tr>\n",
       "    <tr>\n",
       "      <th>61054740</th>\n",
       "      <td>[[0.21696381, 0.10989461, -0.08012986, 0.69186...</td>\n",
       "      <td>[-0.72692573, 0.75206333, 0.37740713, -0.52502...</td>\n",
       "    </tr>\n",
       "    <tr>\n",
       "      <th>...</th>\n",
       "      <td>...</td>\n",
       "      <td>...</td>\n",
       "    </tr>\n",
       "    <tr>\n",
       "      <th>820128810</th>\n",
       "      <td>[[-1.4492652, -0.80129164, -0.12344764, 0.7194...</td>\n",
       "      <td>[-0.8253241, 0.6785133, 0.53978086, -0.4888316...</td>\n",
       "    </tr>\n",
       "    <tr>\n",
       "      <th>821135769</th>\n",
       "      <td>[[0.012127608, -0.8534423, 0.5415518, -0.44912...</td>\n",
       "      <td>[-0.7413257, 0.46105132, 0.5639801, -0.5462132...</td>\n",
       "    </tr>\n",
       "    <tr>\n",
       "      <th>822095690</th>\n",
       "      <td>[[0.4248176, -0.15944786, -0.22844064, 0.42768...</td>\n",
       "      <td>[-0.49261805, 0.56726897, 0.7037877, -0.697246...</td>\n",
       "    </tr>\n",
       "    <tr>\n",
       "      <th>822101044</th>\n",
       "      <td>[[0.4248176, -0.15944786, -0.22844064, 0.42768...</td>\n",
       "      <td>[-0.44051006, 0.54029673, 0.63768685, -0.68040...</td>\n",
       "    </tr>\n",
       "    <tr>\n",
       "      <th>822394794</th>\n",
       "      <td>[[0.48594046, -0.8139478, -0.11380915, -0.3833...</td>\n",
       "      <td>[-0.56425023, 0.41288334, 0.5501014, -0.330675...</td>\n",
       "    </tr>\n",
       "  </tbody>\n",
       "</table>\n",
       "<p>457063 rows × 2 columns</p>\n",
       "</div>"
      ],
      "text/plain": [
       "                               main_pic_embeddings_resnet_v1  \\\n",
       "variantid                                                      \n",
       "51195767   [[0.04603629, 0.18839523, -0.09973055, -0.6636...   \n",
       "53565809   [[1.1471839, -0.665361, 0.7745614, 0.26716197,...   \n",
       "56763357   [[-0.90570974, 1.0296293, 1.0769907, 0.27746, ...   \n",
       "56961772   [[0.13133773, -0.5577079, 0.32498044, 0.191717...   \n",
       "61054740   [[0.21696381, 0.10989461, -0.08012986, 0.69186...   \n",
       "...                                                      ...   \n",
       "820128810  [[-1.4492652, -0.80129164, -0.12344764, 0.7194...   \n",
       "821135769  [[0.012127608, -0.8534423, 0.5415518, -0.44912...   \n",
       "822095690  [[0.4248176, -0.15944786, -0.22844064, 0.42768...   \n",
       "822101044  [[0.4248176, -0.15944786, -0.22844064, 0.42768...   \n",
       "822394794  [[0.48594046, -0.8139478, -0.11380915, -0.3833...   \n",
       "\n",
       "                                                name_bert_64  \n",
       "variantid                                                     \n",
       "51195767   [-0.47045058, 0.67237014, 0.48984158, -0.54485...  \n",
       "53565809   [-0.6575592, 0.6522429, 0.5426037, -0.54347897...  \n",
       "56763357   [-0.7384308, 0.70784587, 0.3012653, -0.3583719...  \n",
       "56961772   [-0.44812852, 0.5283565, 0.28981736, -0.506841...  \n",
       "61054740   [-0.72692573, 0.75206333, 0.37740713, -0.52502...  \n",
       "...                                                      ...  \n",
       "820128810  [-0.8253241, 0.6785133, 0.53978086, -0.4888316...  \n",
       "821135769  [-0.7413257, 0.46105132, 0.5639801, -0.5462132...  \n",
       "822095690  [-0.49261805, 0.56726897, 0.7037877, -0.697246...  \n",
       "822101044  [-0.44051006, 0.54029673, 0.63768685, -0.68040...  \n",
       "822394794  [-0.56425023, 0.41288334, 0.5501014, -0.330675...  \n",
       "\n",
       "[457063 rows x 2 columns]"
      ]
     },
     "execution_count": 4,
     "metadata": {},
     "output_type": "execute_result"
    }
   ],
   "source": [
    "columns = ['variantid', 'main_pic_embeddings_resnet_v1', 'name_bert_64']\n",
    "train_data = pd.read_parquet('./datasets/train_data.parquet', columns=columns).set_index('variantid')\n",
    "test_data = pd.read_parquet('./datasets/test_data.parquet', columns=columns).set_index('variantid')\n",
    "train_data"
   ]
  },
  {
   "cell_type": "code",
   "execution_count": 5,
   "id": "e0cabc66",
   "metadata": {},
   "outputs": [
    {
     "data": {
      "text/html": [
       "<div>\n",
       "<style scoped>\n",
       "    .dataframe tbody tr th:only-of-type {\n",
       "        vertical-align: middle;\n",
       "    }\n",
       "\n",
       "    .dataframe tbody tr th {\n",
       "        vertical-align: top;\n",
       "    }\n",
       "\n",
       "    .dataframe thead th {\n",
       "        text-align: right;\n",
       "    }\n",
       "</style>\n",
       "<table border=\"1\" class=\"dataframe\">\n",
       "  <thead>\n",
       "    <tr style=\"text-align: right;\">\n",
       "      <th></th>\n",
       "      <th>target</th>\n",
       "      <th>variantid1</th>\n",
       "      <th>variantid2</th>\n",
       "    </tr>\n",
       "  </thead>\n",
       "  <tbody>\n",
       "    <tr>\n",
       "      <th>0</th>\n",
       "      <td>0</td>\n",
       "      <td>51197862</td>\n",
       "      <td>51198054</td>\n",
       "    </tr>\n",
       "    <tr>\n",
       "      <th>1</th>\n",
       "      <td>1</td>\n",
       "      <td>53062686</td>\n",
       "      <td>536165289</td>\n",
       "    </tr>\n",
       "    <tr>\n",
       "      <th>2</th>\n",
       "      <td>1</td>\n",
       "      <td>53602615</td>\n",
       "      <td>587809782</td>\n",
       "    </tr>\n",
       "    <tr>\n",
       "      <th>3</th>\n",
       "      <td>1</td>\n",
       "      <td>53888651</td>\n",
       "      <td>89598677</td>\n",
       "    </tr>\n",
       "    <tr>\n",
       "      <th>4</th>\n",
       "      <td>0</td>\n",
       "      <td>56930698</td>\n",
       "      <td>551526166</td>\n",
       "    </tr>\n",
       "    <tr>\n",
       "      <th>...</th>\n",
       "      <td>...</td>\n",
       "      <td>...</td>\n",
       "      <td>...</td>\n",
       "    </tr>\n",
       "    <tr>\n",
       "      <th>306535</th>\n",
       "      <td>0</td>\n",
       "      <td>817327230</td>\n",
       "      <td>822083612</td>\n",
       "    </tr>\n",
       "    <tr>\n",
       "      <th>306536</th>\n",
       "      <td>0</td>\n",
       "      <td>817560551</td>\n",
       "      <td>818069912</td>\n",
       "    </tr>\n",
       "    <tr>\n",
       "      <th>306537</th>\n",
       "      <td>0</td>\n",
       "      <td>817854719</td>\n",
       "      <td>817857267</td>\n",
       "    </tr>\n",
       "    <tr>\n",
       "      <th>306538</th>\n",
       "      <td>0</td>\n",
       "      <td>820036017</td>\n",
       "      <td>820037019</td>\n",
       "    </tr>\n",
       "    <tr>\n",
       "      <th>306539</th>\n",
       "      <td>0</td>\n",
       "      <td>821514120</td>\n",
       "      <td>821514311</td>\n",
       "    </tr>\n",
       "  </tbody>\n",
       "</table>\n",
       "<p>306540 rows × 3 columns</p>\n",
       "</div>"
      ],
      "text/plain": [
       "        target  variantid1  variantid2\n",
       "0            0    51197862    51198054\n",
       "1            1    53062686   536165289\n",
       "2            1    53602615   587809782\n",
       "3            1    53888651    89598677\n",
       "4            0    56930698   551526166\n",
       "...        ...         ...         ...\n",
       "306535       0   817327230   822083612\n",
       "306536       0   817560551   818069912\n",
       "306537       0   817854719   817857267\n",
       "306538       0   820036017   820037019\n",
       "306539       0   821514120   821514311\n",
       "\n",
       "[306540 rows x 3 columns]"
      ]
     },
     "execution_count": 5,
     "metadata": {},
     "output_type": "execute_result"
    }
   ],
   "source": [
    "train_pairs = pd.read_parquet('./datasets/train_pairs_w_target.parquet')\n",
    "test_pairs = pd.read_parquet('./datasets/test_pairs_wo_target.parquet')\n",
    "train_pairs['target'] = train_pairs['target'].astype(int)\n",
    "train_pairs"
   ]
  },
  {
   "cell_type": "code",
   "execution_count": 6,
   "id": "c912ebfc",
   "metadata": {},
   "outputs": [],
   "source": [
    "from sklearn.model_selection import train_test_split\n",
    "\n",
    "train_pairs, val_pairs = train_test_split(train_pairs, test_size=1/3, random_state=56)"
   ]
  },
  {
   "cell_type": "code",
   "execution_count": 42,
   "id": "0c25370d",
   "metadata": {},
   "outputs": [],
   "source": [
    "class Args:\n",
    "    batch_size = 128\n",
    "    \n",
    "args = Args()"
   ]
  },
  {
   "cell_type": "code",
   "execution_count": 43,
   "id": "8955f29b",
   "metadata": {},
   "outputs": [],
   "source": [
    "class ItemsDataset(Dataset):\n",
    "    def __init__(self, pairs, data):\n",
    "        super().__init__()\n",
    "        self.pairs = pairs.values\n",
    "        self.main_pic_embs = data['main_pic_embeddings_resnet_v1']\n",
    "        self.name_embs = data['name_bert_64']\n",
    "        self.pairs_len = len(self.pairs)\n",
    "        \n",
    "    def __len__(self):\n",
    "        return self.pairs_len\n",
    "\n",
    "    def __getitem__(self, idx):\n",
    "        target, id1, id2 = self.pairs[idx, :]\n",
    "        return (\n",
    "            torch.tensor(np.concatenate([self.main_pic_embs[id1][0], self.name_embs[id1]])),\n",
    "            torch.tensor(np.concatenate([self.main_pic_embs[id2][0], self.name_embs[id2]])),\n",
    "            target\n",
    "        )"
   ]
  },
  {
   "cell_type": "code",
   "execution_count": 44,
   "id": "e40e3ffd",
   "metadata": {},
   "outputs": [],
   "source": [
    "def get_data_loader(pairs, data, batch_size, drop_last, shuffle):\n",
    "    dataset = ItemsDataset(pairs, data)\n",
    "    data_loader = torch.utils.data.DataLoader(\n",
    "        dataset=dataset,\n",
    "        batch_size=batch_size,\n",
    "        num_workers=0,\n",
    "        drop_last=drop_last,\n",
    "        shuffle=shuffle,\n",
    "        pin_memory=True\n",
    "    )\n",
    "    return data_loader"
   ]
  },
  {
   "cell_type": "code",
   "execution_count": 45,
   "id": "0e1ef7cc",
   "metadata": {},
   "outputs": [],
   "source": [
    "def get_loaders(args):\n",
    "    train_loader = get_data_loader(\n",
    "        pairs=train_pairs,\n",
    "        data=train_data,\n",
    "        batch_size=args.batch_size,\n",
    "        drop_last=True,\n",
    "        shuffle=True\n",
    "    )\n",
    "    \n",
    "    val_loader = get_data_loader(\n",
    "        pairs=val_pairs,\n",
    "        data=train_data,\n",
    "        batch_size=args.batch_size,\n",
    "        drop_last=False,\n",
    "        shuffle=False\n",
    "    )\n",
    "    return train_loader, val_loader"
   ]
  },
  {
   "cell_type": "code",
   "execution_count": 46,
   "id": "7c6d7ad8",
   "metadata": {},
   "outputs": [
    {
     "data": {
      "text/plain": [
       "(1596, 799)"
      ]
     },
     "execution_count": 46,
     "metadata": {},
     "output_type": "execute_result"
    }
   ],
   "source": [
    "train_loader, val_loader = get_loaders(args)\n",
    "len(train_loader), len(val_loader)"
   ]
  },
  {
   "cell_type": "code",
   "execution_count": 47,
   "id": "57609dc7",
   "metadata": {},
   "outputs": [
    {
     "name": "stdout",
     "output_type": "stream",
     "text": [
      "tensor([[ 0.3512, -0.7226,  0.0562,  ...,  0.5596,  0.4663, -0.6564],\n",
      "        [-0.0760,  0.1140, -0.1749,  ...,  0.4524,  0.6216, -0.5421],\n",
      "        [ 0.1295,  0.6638, -1.1495,  ...,  0.3405,  0.5890, -0.1374],\n",
      "        ...,\n",
      "        [-0.2727, -0.3946,  0.6830,  ...,  0.6262,  0.6097, -0.7120],\n",
      "        [ 0.3715, -0.8268,  0.2563,  ...,  0.6903,  0.4710, -0.7594],\n",
      "        [-0.2465,  0.5650,  0.2164,  ...,  0.7199,  0.1538, -0.2697]]) tensor([[ 3.5116e-01, -7.2256e-01,  5.6164e-02,  ...,  5.9298e-01,\n",
      "          4.6295e-01, -6.6532e-01],\n",
      "        [ 1.7391e-02, -4.8241e-04, -7.9498e-03,  ...,  4.5241e-01,\n",
      "          6.2162e-01, -5.4208e-01],\n",
      "        [ 2.2914e-01,  5.9452e-01, -1.2918e+00,  ...,  2.4591e-01,\n",
      "          5.7773e-01, -1.0669e-01],\n",
      "        ...,\n",
      "        [-2.4348e-01, -2.8727e-01,  7.1816e-01,  ...,  6.7026e-01,\n",
      "          6.4032e-01, -6.8571e-01],\n",
      "        [ 1.6671e-01, -7.4368e-01,  4.9496e-01,  ...,  6.9033e-01,\n",
      "          4.7099e-01, -7.5944e-01],\n",
      "        [ 1.4499e-02,  7.9724e-01,  1.7383e-01,  ...,  7.2993e-01,\n",
      "          1.3294e-01, -3.4657e-01]]) tensor([1, 0, 1, 0, 1, 0, 0, 0, 0, 0, 1, 1, 1, 0, 1, 1, 1, 0, 0, 0, 1, 0, 0, 0,\n",
      "        1, 1, 1, 0, 0, 0, 0, 0, 0, 0, 0, 0, 0, 0, 1, 1, 1, 1, 0, 1, 1, 0, 0, 0,\n",
      "        1, 0, 0, 1, 0, 0, 1, 0, 0, 0, 0, 1, 0, 1, 1, 1, 1, 0, 0, 1, 0, 0, 1, 0,\n",
      "        1, 0, 1, 1, 0, 0, 1, 1, 0, 0, 0, 1, 0, 1, 0, 0, 0, 1, 1, 0, 0, 1, 0, 0,\n",
      "        0, 0, 1, 0, 0, 1, 0, 0, 1, 0, 1, 0, 0, 1, 0, 1, 1, 0, 0, 1, 1, 0, 1, 0,\n",
      "        1, 1, 1, 0, 0, 0, 0, 1])\n"
     ]
    }
   ],
   "source": [
    "for x1, x2, target in train_loader:\n",
    "    print(x1, x2, target)\n",
    "    break"
   ]
  },
  {
   "cell_type": "code",
   "execution_count": 48,
   "id": "20026910",
   "metadata": {},
   "outputs": [],
   "source": [
    "class Net(pl.LightningModule):\n",
    "    margin = 0.5\n",
    "    \n",
    "    def __init__(self):\n",
    "        super().__init__()\n",
    "        \n",
    "        # self.linear = nn.Linear(128 + 64, 256)\n",
    "        \n",
    "        features_num = 128 + 64\n",
    "        # output_size = 256\n",
    "        # embedding_size = (features_num + output_size) // 2\n",
    "        embedding_size = 256\n",
    "        self.neck = nn.Sequential(\n",
    "            nn.BatchNorm1d(features_num),\n",
    "            nn.Linear(features_num, embedding_size, bias=False),\n",
    "            nn.ReLU(inplace=True),\n",
    "            nn.BatchNorm1d(embedding_size),\n",
    "            nn.Linear(embedding_size, embedding_size, bias=False),\n",
    "            nn.BatchNorm1d(embedding_size),\n",
    "        )\n",
    "        # self.linear = nn.Linear(embedding_size, output_size)\n",
    "        \n",
    "    def forward(self, x):\n",
    "        # return self.linear(x)\n",
    "        # return self.linear(self.neck(x))\n",
    "        return self.neck(x)\n",
    "    \n",
    "    def configure_optimizers(self):\n",
    "        optimizer = torch.optim.AdamW(\n",
    "            self.parameters(), lr=1e-4, betas=(0.9, 0.999), weight_decay=0.05\n",
    "        )\n",
    "        return (\n",
    "            {\n",
    "                \"optimizer\": optimizer,\n",
    "            },\n",
    "        )\n",
    "    \n",
    "    def training_step(self, batch, batch_idx):\n",
    "        self.log('step', batch_idx, logger=True, on_epoch=True)\n",
    "        x1, x2, labels = batch\n",
    "        out1 = self.forward(x1)\n",
    "        out2 = self.forward(x2)\n",
    "        \n",
    "        fnorm = torch.norm(out1, p=2, dim=1, keepdim=True)\n",
    "        out1 = out1.div(fnorm.expand_as(out1))\n",
    "        fnorm = torch.norm(out2, p=2, dim=1, keepdim=True)\n",
    "        out2 = out2.div(fnorm.expand_as(out2))\n",
    "        \n",
    "        dists = nn.PairwiseDistance()(out1, out2)\n",
    "        # loss = (1 - labels - dists).abs().mean()\n",
    "        loss = (1 - labels) * torch.pow(dists, 2) + (labels) * torch.pow(torch.clamp(self.margin - dists, min=0.0), 2)\n",
    "        loss = torch.mean(loss)\n",
    "        self.log(\"train_loss\", loss, logger=True, on_epoch=True)\n",
    "        return loss\n",
    "    \n",
    "    def validation_step(self, batch, batch_idx):        \n",
    "        x1, x2, labels = batch\n",
    "        out1 = self.forward(x1)\n",
    "        out2 = self.forward(x2)\n",
    "        \n",
    "        fnorm = torch.norm(out1, p=2, dim=1, keepdim=True)\n",
    "        out1 = out1.div(fnorm.expand_as(out1))\n",
    "        fnorm = torch.norm(out2, p=2, dim=1, keepdim=True)\n",
    "        out2 = out2.div(fnorm.expand_as(out2))\n",
    "        \n",
    "        dists = nn.PairwiseDistance()(out1, out2)\n",
    "        # loss = (1 - labels - dists).abs().mean()\n",
    "        loss = (1 - labels) * torch.pow(dists, 2) + (labels) * torch.pow(torch.clamp(self.margin - dists, min=0.0), 2)\n",
    "        loss = torch.mean(loss)\n",
    "        self.log(\"val_loss\", loss, logger=True, on_epoch=True, prog_bar=True)   \n",
    "        \n",
    "        try:\n",
    "            auc = roc_auc_score(labels.detach().cpu(), dists.detach().cpu())\n",
    "        except:\n",
    "            auc = 0\n",
    "        self.log(\"val_auc\", auc, logger=True, on_epoch=True, prog_bar=True)\n",
    "        \n",
    "    def train_dataloader(self):\n",
    "        return train_loader\n",
    "\n",
    "    def val_dataloader(self):\n",
    "        return val_loader"
   ]
  },
  {
   "cell_type": "code",
   "execution_count": 49,
   "id": "5ee41190",
   "metadata": {},
   "outputs": [],
   "source": [
    "model = Net()"
   ]
  },
  {
   "cell_type": "code",
   "execution_count": 50,
   "id": "55ef7cc2",
   "metadata": {},
   "outputs": [
    {
     "data": {
      "text/plain": [
       "=================================================================\n",
       "Layer (type:depth-idx)                   Param #\n",
       "=================================================================\n",
       "Net                                      --\n",
       "├─Sequential: 1-1                        --\n",
       "│    └─BatchNorm1d: 2-1                  384\n",
       "│    └─Linear: 2-2                       49,152\n",
       "│    └─ReLU: 2-3                         --\n",
       "│    └─BatchNorm1d: 2-4                  512\n",
       "│    └─Linear: 2-5                       65,536\n",
       "│    └─BatchNorm1d: 2-6                  512\n",
       "=================================================================\n",
       "Total params: 116,096\n",
       "Trainable params: 116,096\n",
       "Non-trainable params: 0\n",
       "================================================================="
      ]
     },
     "execution_count": 50,
     "metadata": {},
     "output_type": "execute_result"
    }
   ],
   "source": [
    "import torchinfo\n",
    "\n",
    "torchinfo.summary(model)"
   ]
  },
  {
   "cell_type": "code",
   "execution_count": 51,
   "id": "55224dc6",
   "metadata": {},
   "outputs": [
    {
     "data": {
      "application/vnd.jupyter.widget-view+json": {
       "model_id": "",
       "version_major": 2,
       "version_minor": 0
      },
      "text/plain": [
       "Sanity Checking: 0it [00:00, ?it/s]"
      ]
     },
     "metadata": {},
     "output_type": "display_data"
    },
    {
     "name": "stderr",
     "output_type": "stream",
     "text": [
      "2023-05-19 14:40:36,781 [31248] WARNING  py.warnings:109: [JupyterRequire] C:\\Users\\Konder\\AppData\\Roaming\\Python\\Python38\\site-packages\\pytorch_lightning\\trainer\\connectors\\data_connector.py:240: PossibleUserWarning: The dataloader, val_dataloader 0, does not have many workers which may be a bottleneck. Consider increasing the value of the `num_workers` argument` (try 24 which is the number of cpus on this machine) in the `DataLoader` init to improve performance.\n",
      "  rank_zero_warn(\n",
      "\n",
      "2023-05-19 14:40:36,829 [31248] WARNING  py.warnings:109: [JupyterRequire] C:\\Users\\Konder\\AppData\\Roaming\\Python\\Python38\\site-packages\\pytorch_lightning\\trainer\\connectors\\data_connector.py:240: PossibleUserWarning: The dataloader, train_dataloader, does not have many workers which may be a bottleneck. Consider increasing the value of the `num_workers` argument` (try 24 which is the number of cpus on this machine) in the `DataLoader` init to improve performance.\n",
      "  rank_zero_warn(\n",
      "\n"
     ]
    },
    {
     "data": {
      "application/vnd.jupyter.widget-view+json": {
       "model_id": "768a466d9bc54fab9cd30f55922f9884",
       "version_major": 2,
       "version_minor": 0
      },
      "text/plain": [
       "Training: 0it [00:00, ?it/s]"
      ]
     },
     "metadata": {},
     "output_type": "display_data"
    },
    {
     "data": {
      "application/vnd.jupyter.widget-view+json": {
       "model_id": "",
       "version_major": 2,
       "version_minor": 0
      },
      "text/plain": [
       "Validation: 0it [00:00, ?it/s]"
      ]
     },
     "metadata": {},
     "output_type": "display_data"
    },
    {
     "data": {
      "application/vnd.jupyter.widget-view+json": {
       "model_id": "",
       "version_major": 2,
       "version_minor": 0
      },
      "text/plain": [
       "Validation: 0it [00:00, ?it/s]"
      ]
     },
     "metadata": {},
     "output_type": "display_data"
    },
    {
     "data": {
      "application/vnd.jupyter.widget-view+json": {
       "model_id": "",
       "version_major": 2,
       "version_minor": 0
      },
      "text/plain": [
       "Validation: 0it [00:00, ?it/s]"
      ]
     },
     "metadata": {},
     "output_type": "display_data"
    },
    {
     "data": {
      "application/vnd.jupyter.widget-view+json": {
       "model_id": "",
       "version_major": 2,
       "version_minor": 0
      },
      "text/plain": [
       "Validation: 0it [00:00, ?it/s]"
      ]
     },
     "metadata": {},
     "output_type": "display_data"
    },
    {
     "data": {
      "application/vnd.jupyter.widget-view+json": {
       "model_id": "",
       "version_major": 2,
       "version_minor": 0
      },
      "text/plain": [
       "Validation: 0it [00:00, ?it/s]"
      ]
     },
     "metadata": {},
     "output_type": "display_data"
    },
    {
     "data": {
      "application/vnd.jupyter.widget-view+json": {
       "model_id": "",
       "version_major": 2,
       "version_minor": 0
      },
      "text/plain": [
       "Validation: 0it [00:00, ?it/s]"
      ]
     },
     "metadata": {},
     "output_type": "display_data"
    },
    {
     "data": {
      "application/vnd.jupyter.widget-view+json": {
       "model_id": "",
       "version_major": 2,
       "version_minor": 0
      },
      "text/plain": [
       "Validation: 0it [00:00, ?it/s]"
      ]
     },
     "metadata": {},
     "output_type": "display_data"
    },
    {
     "data": {
      "application/vnd.jupyter.widget-view+json": {
       "model_id": "",
       "version_major": 2,
       "version_minor": 0
      },
      "text/plain": [
       "Validation: 0it [00:00, ?it/s]"
      ]
     },
     "metadata": {},
     "output_type": "display_data"
    },
    {
     "data": {
      "application/vnd.jupyter.widget-view+json": {
       "model_id": "",
       "version_major": 2,
       "version_minor": 0
      },
      "text/plain": [
       "Validation: 0it [00:00, ?it/s]"
      ]
     },
     "metadata": {},
     "output_type": "display_data"
    },
    {
     "data": {
      "application/vnd.jupyter.widget-view+json": {
       "model_id": "",
       "version_major": 2,
       "version_minor": 0
      },
      "text/plain": [
       "Validation: 0it [00:00, ?it/s]"
      ]
     },
     "metadata": {},
     "output_type": "display_data"
    }
   ],
   "source": [
    "trainer = pl.Trainer(\n",
    "    accelerator='gpu', \n",
    "    devices=1,\n",
    "    profiler='advanced',\n",
    "    precision=32,\n",
    "    check_val_every_n_epoch=1,\n",
    "    max_epochs=10\n",
    ")\n",
    "\n",
    "trainer.fit(model)"
   ]
  },
  {
   "cell_type": "code",
   "execution_count": null,
   "id": "4a47deb3",
   "metadata": {},
   "outputs": [],
   "source": []
  },
  {
   "cell_type": "code",
   "execution_count": 52,
   "id": "b8492978",
   "metadata": {},
   "outputs": [
    {
     "data": {
      "application/vnd.jupyter.widget-view+json": {
       "model_id": "77170eb359a04a1e8ee28a3cf253b19f",
       "version_major": 2,
       "version_minor": 0
      },
      "text/plain": [
       "  0%|          | 0/799 [00:00<?, ?it/s]"
      ]
     },
     "metadata": {},
     "output_type": "display_data"
    }
   ],
   "source": [
    "dists, labels = [], []\n",
    "for x1, x2, target in tqdm(val_loader):\n",
    "    out1 = model.forward(x1).detach().cpu()\n",
    "    out2 = model.forward(x2).detach().cpu()\n",
    "    \n",
    "    fnorm = torch.norm(out1, p=2, dim=1, keepdim=True)\n",
    "    out1 = out1.div(fnorm.expand_as(out1))\n",
    "    fnorm = torch.norm(out2, p=2, dim=1, keepdim=True)\n",
    "    out2 = out2.div(fnorm.expand_as(out2))\n",
    "        \n",
    "    dists.append(\n",
    "        nn.PairwiseDistance()(out1, out2).numpy()\n",
    "    )\n",
    "    labels.append(target.numpy())\n",
    "dists = np.concatenate(dists)\n",
    "labels = np.concatenate(labels)"
   ]
  },
  {
   "cell_type": "code",
   "execution_count": 53,
   "id": "f621723b",
   "metadata": {},
   "outputs": [
    {
     "data": {
      "text/plain": [
       "array([0.03664988, 0.31131503, 0.13132453, ..., 0.18759945, 0.26426277,\n",
       "       0.06078308], dtype=float32)"
      ]
     },
     "execution_count": 53,
     "metadata": {},
     "output_type": "execute_result"
    }
   ],
   "source": [
    "dists"
   ]
  },
  {
   "cell_type": "code",
   "execution_count": 54,
   "id": "6370ae1a",
   "metadata": {},
   "outputs": [
    {
     "data": {
      "text/plain": [
       "array([0, 1, 0, ..., 1, 0, 1], dtype=int64)"
      ]
     },
     "execution_count": 54,
     "metadata": {},
     "output_type": "execute_result"
    }
   ],
   "source": [
    "labels"
   ]
  },
  {
   "cell_type": "code",
   "execution_count": 55,
   "id": "e429490d",
   "metadata": {},
   "outputs": [],
   "source": [
    "from sklearn.metrics import roc_auc_score"
   ]
  },
  {
   "cell_type": "code",
   "execution_count": 56,
   "id": "4c8c1c76",
   "metadata": {},
   "outputs": [
    {
     "data": {
      "text/plain": [
       "0.8293653754020429"
      ]
     },
     "execution_count": 56,
     "metadata": {},
     "output_type": "execute_result"
    }
   ],
   "source": [
    "roc_auc_score(labels, dists)"
   ]
  },
  {
   "cell_type": "raw",
   "id": "5b4704c4",
   "metadata": {},
   "source": [
    "0.8352066774333718"
   ]
  },
  {
   "cell_type": "code",
   "execution_count": null,
   "id": "4b759e8c",
   "metadata": {},
   "outputs": [],
   "source": []
  },
  {
   "cell_type": "code",
   "execution_count": 57,
   "id": "eb7f5dc9",
   "metadata": {},
   "outputs": [],
   "source": [
    "train_dataset = ItemsDataset(train_pairs, train_data)\n",
    "train_loader = torch.utils.data.DataLoader(\n",
    "    dataset=train_dataset,\n",
    "    batch_size=args.batch_size,\n",
    "    num_workers=0,\n",
    "    drop_last=False,\n",
    "    shuffle=False,\n",
    "    pin_memory=True\n",
    ")"
   ]
  },
  {
   "cell_type": "code",
   "execution_count": 58,
   "id": "7a4ce409",
   "metadata": {},
   "outputs": [
    {
     "data": {
      "application/vnd.jupyter.widget-view+json": {
       "model_id": "2aa59bacb6a740e88e82269f3382d6ab",
       "version_major": 2,
       "version_minor": 0
      },
      "text/plain": [
       "  0%|          | 0/1597 [00:00<?, ?it/s]"
      ]
     },
     "metadata": {},
     "output_type": "display_data"
    }
   ],
   "source": [
    "features, labels = [], []\n",
    "for x1, x2, target in tqdm(train_loader):\n",
    "    out1 = model.forward(x1).detach().cpu()\n",
    "    out2 = model.forward(x2).detach().cpu()\n",
    "    \n",
    "    fnorm = torch.norm(out1, p=2, dim=1, keepdim=True)\n",
    "    out1 = out1.div(fnorm.expand_as(out1))\n",
    "    fnorm = torch.norm(out2, p=2, dim=1, keepdim=True)\n",
    "    out2 = out2.div(fnorm.expand_as(out2))\n",
    "    \n",
    "    features.append(np.concatenate([out1, out2, nn.PairwiseDistance()(out1, out2).numpy().reshape((-1, 1))], axis=1))\n",
    "    labels.append(target.numpy())\n",
    "features = np.concatenate(features)\n",
    "labels = np.concatenate(labels)    "
   ]
  },
  {
   "cell_type": "code",
   "execution_count": 59,
   "id": "1fb5e581",
   "metadata": {},
   "outputs": [
    {
     "data": {
      "application/vnd.jupyter.widget-view+json": {
       "model_id": "2b097eb3f52f4e69aa7a8503a6e053d1",
       "version_major": 2,
       "version_minor": 0
      },
      "text/plain": [
       "  0%|          | 0/799 [00:00<?, ?it/s]"
      ]
     },
     "metadata": {},
     "output_type": "display_data"
    }
   ],
   "source": [
    "val_features, val_labels = [], []\n",
    "for x1, x2, target in tqdm(val_loader):\n",
    "    out1 = model.forward(x1).detach().cpu()\n",
    "    out2 = model.forward(x2).detach().cpu()\n",
    "    \n",
    "    fnorm = torch.norm(out1, p=2, dim=1, keepdim=True)\n",
    "    out1 = out1.div(fnorm.expand_as(out1))\n",
    "    fnorm = torch.norm(out2, p=2, dim=1, keepdim=True)\n",
    "    out2 = out2.div(fnorm.expand_as(out2))\n",
    "    \n",
    "    val_features.append(np.concatenate([out1, out2, nn.PairwiseDistance()(out1, out2).numpy().reshape((-1, 1))], axis=1))\n",
    "    val_labels.append(target.numpy())\n",
    "val_features = np.concatenate(val_features)\n",
    "val_labels = np.concatenate(val_labels)"
   ]
  },
  {
   "cell_type": "code",
   "execution_count": 60,
   "id": "ee3204fa",
   "metadata": {},
   "outputs": [],
   "source": [
    "from catboost import CatBoostClassifier, Pool, cv"
   ]
  },
  {
   "cell_type": "code",
   "execution_count": 61,
   "id": "72620dbf",
   "metadata": {},
   "outputs": [],
   "source": [
    "train_pool = Pool(\n",
    "    data=features,\n",
    "    label=labels,\n",
    ")\n",
    "\n",
    "val_pool = Pool(\n",
    "    data=val_features,\n",
    "    label=val_labels,\n",
    ")"
   ]
  },
  {
   "cell_type": "code",
   "execution_count": 62,
   "id": "afde421c",
   "metadata": {},
   "outputs": [],
   "source": [
    "params = {\n",
    "    'loss_function': 'CrossEntropy',\n",
    "    'custom_metric': ['AUC'],\n",
    "    'task_type': 'CPU',\n",
    "}"
   ]
  },
  {
   "cell_type": "code",
   "execution_count": 63,
   "id": "6e6f86d6",
   "metadata": {},
   "outputs": [
    {
     "data": {
      "application/vnd.jupyter.widget-view+json": {
       "model_id": "0efc28ef58c443b886b411f6a2e09d77",
       "version_major": 2,
       "version_minor": 0
      },
      "text/plain": [
       "MetricVisualizer(layout=Layout(align_self='stretch', height='500px'))"
      ]
     },
     "metadata": {},
     "output_type": "display_data"
    },
    {
     "data": {
      "text/plain": [
       "<catboost.core.CatBoostClassifier at 0x1990ea287c0>"
      ]
     },
     "execution_count": 63,
     "metadata": {},
     "output_type": "execute_result"
    }
   ],
   "source": [
    "model_cb = CatBoostClassifier(**params, random_seed=56)\n",
    "model_cb.fit(train_pool, eval_set=val_pool, verbose=False, plot=True)"
   ]
  },
  {
   "cell_type": "code",
   "execution_count": 64,
   "id": "7440beed",
   "metadata": {},
   "outputs": [
    {
     "data": {
      "text/plain": [
       "0.846490944059759"
      ]
     },
     "execution_count": 64,
     "metadata": {},
     "output_type": "execute_result"
    }
   ],
   "source": [
    "np.max(model_cb.get_evals_result()['validation']['AUC'])"
   ]
  },
  {
   "cell_type": "raw",
   "id": "cb3b6bf2",
   "metadata": {},
   "source": [
    "0.8309541397795637 -> 0.846490944059759"
   ]
  }
 ],
 "metadata": {
  "kernelspec": {
   "display_name": "Python 3 (ipykernel)",
   "language": "python",
   "name": "python3"
  },
  "language_info": {
   "codemirror_mode": {
    "name": "ipython",
    "version": 3
   },
   "file_extension": ".py",
   "mimetype": "text/x-python",
   "name": "python",
   "nbconvert_exporter": "python",
   "pygments_lexer": "ipython3",
   "version": "3.8.13"
  }
 },
 "nbformat": 4,
 "nbformat_minor": 5
}
