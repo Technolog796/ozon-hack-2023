{
 "cells": [
  {
   "cell_type": "code",
   "execution_count": 1,
   "id": "f87861cb",
   "metadata": {},
   "outputs": [],
   "source": [
    "import gc\n",
    "import os\n",
    "\n",
    "import numpy as np\n",
    "import pandas as pd\n",
    "import random\n",
    "from tqdm.notebook import tqdm\n",
    "\n",
    "import torch\n",
    "import torch.nn as nn\n",
    "from torch.utils.data import Dataset\n",
    "\n",
    "import pytorch_lightning as pl\n",
    "from pytorch_lightning.loggers import CSVLogger, WandbLogger\n",
    "from pytorch_lightning.callbacks import LearningRateMonitor, ModelCheckpoint"
   ]
  },
  {
   "cell_type": "code",
   "execution_count": 2,
   "id": "3cea0d01",
   "metadata": {},
   "outputs": [
    {
     "data": {
      "text/plain": [
       "('2.0.1+cu117', True)"
      ]
     },
     "execution_count": 2,
     "metadata": {},
     "output_type": "execute_result"
    }
   ],
   "source": [
    "torch.__version__, torch.cuda.is_available()"
   ]
  },
  {
   "cell_type": "code",
   "execution_count": 3,
   "id": "5795f32d",
   "metadata": {},
   "outputs": [
    {
     "data": {
      "text/plain": [
       "56"
      ]
     },
     "execution_count": 3,
     "metadata": {},
     "output_type": "execute_result"
    }
   ],
   "source": [
    "pl.seed_everything(56, workers=True)"
   ]
  },
  {
   "cell_type": "code",
   "execution_count": 4,
   "id": "a31bc962",
   "metadata": {},
   "outputs": [
    {
     "data": {
      "text/html": [
       "<div>\n",
       "<style scoped>\n",
       "    .dataframe tbody tr th:only-of-type {\n",
       "        vertical-align: middle;\n",
       "    }\n",
       "\n",
       "    .dataframe tbody tr th {\n",
       "        vertical-align: top;\n",
       "    }\n",
       "\n",
       "    .dataframe thead th {\n",
       "        text-align: right;\n",
       "    }\n",
       "</style>\n",
       "<table border=\"1\" class=\"dataframe\">\n",
       "  <thead>\n",
       "    <tr style=\"text-align: right;\">\n",
       "      <th></th>\n",
       "      <th>main_pic_embeddings_resnet_v1</th>\n",
       "      <th>name_bert_64</th>\n",
       "    </tr>\n",
       "    <tr>\n",
       "      <th>variantid</th>\n",
       "      <th></th>\n",
       "      <th></th>\n",
       "    </tr>\n",
       "  </thead>\n",
       "  <tbody>\n",
       "    <tr>\n",
       "      <th>51195767</th>\n",
       "      <td>[[0.04603629, 0.18839523, -0.09973055, -0.6636...</td>\n",
       "      <td>[-0.47045058, 0.67237014, 0.48984158, -0.54485...</td>\n",
       "    </tr>\n",
       "    <tr>\n",
       "      <th>53565809</th>\n",
       "      <td>[[1.1471839, -0.665361, 0.7745614, 0.26716197,...</td>\n",
       "      <td>[-0.6575592, 0.6522429, 0.5426037, -0.54347897...</td>\n",
       "    </tr>\n",
       "    <tr>\n",
       "      <th>56763357</th>\n",
       "      <td>[[-0.90570974, 1.0296293, 1.0769907, 0.27746, ...</td>\n",
       "      <td>[-0.7384308, 0.70784587, 0.3012653, -0.3583719...</td>\n",
       "    </tr>\n",
       "    <tr>\n",
       "      <th>56961772</th>\n",
       "      <td>[[0.13133773, -0.5577079, 0.32498044, 0.191717...</td>\n",
       "      <td>[-0.44812852, 0.5283565, 0.28981736, -0.506841...</td>\n",
       "    </tr>\n",
       "    <tr>\n",
       "      <th>61054740</th>\n",
       "      <td>[[0.21696381, 0.10989461, -0.08012986, 0.69186...</td>\n",
       "      <td>[-0.72692573, 0.75206333, 0.37740713, -0.52502...</td>\n",
       "    </tr>\n",
       "    <tr>\n",
       "      <th>...</th>\n",
       "      <td>...</td>\n",
       "      <td>...</td>\n",
       "    </tr>\n",
       "    <tr>\n",
       "      <th>820128810</th>\n",
       "      <td>[[-1.4492652, -0.80129164, -0.12344764, 0.7194...</td>\n",
       "      <td>[-0.8253241, 0.6785133, 0.53978086, -0.4888316...</td>\n",
       "    </tr>\n",
       "    <tr>\n",
       "      <th>821135769</th>\n",
       "      <td>[[0.012127608, -0.8534423, 0.5415518, -0.44912...</td>\n",
       "      <td>[-0.7413257, 0.46105132, 0.5639801, -0.5462132...</td>\n",
       "    </tr>\n",
       "    <tr>\n",
       "      <th>822095690</th>\n",
       "      <td>[[0.4248176, -0.15944786, -0.22844064, 0.42768...</td>\n",
       "      <td>[-0.49261805, 0.56726897, 0.7037877, -0.697246...</td>\n",
       "    </tr>\n",
       "    <tr>\n",
       "      <th>822101044</th>\n",
       "      <td>[[0.4248176, -0.15944786, -0.22844064, 0.42768...</td>\n",
       "      <td>[-0.44051006, 0.54029673, 0.63768685, -0.68040...</td>\n",
       "    </tr>\n",
       "    <tr>\n",
       "      <th>822394794</th>\n",
       "      <td>[[0.48594046, -0.8139478, -0.11380915, -0.3833...</td>\n",
       "      <td>[-0.56425023, 0.41288334, 0.5501014, -0.330675...</td>\n",
       "    </tr>\n",
       "  </tbody>\n",
       "</table>\n",
       "<p>457063 rows × 2 columns</p>\n",
       "</div>"
      ],
      "text/plain": [
       "                               main_pic_embeddings_resnet_v1  \\\n",
       "variantid                                                      \n",
       "51195767   [[0.04603629, 0.18839523, -0.09973055, -0.6636...   \n",
       "53565809   [[1.1471839, -0.665361, 0.7745614, 0.26716197,...   \n",
       "56763357   [[-0.90570974, 1.0296293, 1.0769907, 0.27746, ...   \n",
       "56961772   [[0.13133773, -0.5577079, 0.32498044, 0.191717...   \n",
       "61054740   [[0.21696381, 0.10989461, -0.08012986, 0.69186...   \n",
       "...                                                      ...   \n",
       "820128810  [[-1.4492652, -0.80129164, -0.12344764, 0.7194...   \n",
       "821135769  [[0.012127608, -0.8534423, 0.5415518, -0.44912...   \n",
       "822095690  [[0.4248176, -0.15944786, -0.22844064, 0.42768...   \n",
       "822101044  [[0.4248176, -0.15944786, -0.22844064, 0.42768...   \n",
       "822394794  [[0.48594046, -0.8139478, -0.11380915, -0.3833...   \n",
       "\n",
       "                                                name_bert_64  \n",
       "variantid                                                     \n",
       "51195767   [-0.47045058, 0.67237014, 0.48984158, -0.54485...  \n",
       "53565809   [-0.6575592, 0.6522429, 0.5426037, -0.54347897...  \n",
       "56763357   [-0.7384308, 0.70784587, 0.3012653, -0.3583719...  \n",
       "56961772   [-0.44812852, 0.5283565, 0.28981736, -0.506841...  \n",
       "61054740   [-0.72692573, 0.75206333, 0.37740713, -0.52502...  \n",
       "...                                                      ...  \n",
       "820128810  [-0.8253241, 0.6785133, 0.53978086, -0.4888316...  \n",
       "821135769  [-0.7413257, 0.46105132, 0.5639801, -0.5462132...  \n",
       "822095690  [-0.49261805, 0.56726897, 0.7037877, -0.697246...  \n",
       "822101044  [-0.44051006, 0.54029673, 0.63768685, -0.68040...  \n",
       "822394794  [-0.56425023, 0.41288334, 0.5501014, -0.330675...  \n",
       "\n",
       "[457063 rows x 2 columns]"
      ]
     },
     "execution_count": 4,
     "metadata": {},
     "output_type": "execute_result"
    }
   ],
   "source": [
    "columns = ['variantid', 'main_pic_embeddings_resnet_v1', 'name_bert_64']\n",
    "train_data = pd.read_parquet('./datasets/train_data.parquet', columns=columns).set_index('variantid')\n",
    "test_data = pd.read_parquet('./datasets/test_data.parquet', columns=columns).set_index('variantid')\n",
    "train_data"
   ]
  },
  {
   "cell_type": "code",
   "execution_count": 5,
   "id": "e0cabc66",
   "metadata": {},
   "outputs": [
    {
     "data": {
      "text/html": [
       "<div>\n",
       "<style scoped>\n",
       "    .dataframe tbody tr th:only-of-type {\n",
       "        vertical-align: middle;\n",
       "    }\n",
       "\n",
       "    .dataframe tbody tr th {\n",
       "        vertical-align: top;\n",
       "    }\n",
       "\n",
       "    .dataframe thead th {\n",
       "        text-align: right;\n",
       "    }\n",
       "</style>\n",
       "<table border=\"1\" class=\"dataframe\">\n",
       "  <thead>\n",
       "    <tr style=\"text-align: right;\">\n",
       "      <th></th>\n",
       "      <th>target</th>\n",
       "      <th>variantid1</th>\n",
       "      <th>variantid2</th>\n",
       "    </tr>\n",
       "  </thead>\n",
       "  <tbody>\n",
       "    <tr>\n",
       "      <th>0</th>\n",
       "      <td>0</td>\n",
       "      <td>51197862</td>\n",
       "      <td>51198054</td>\n",
       "    </tr>\n",
       "    <tr>\n",
       "      <th>1</th>\n",
       "      <td>1</td>\n",
       "      <td>53062686</td>\n",
       "      <td>536165289</td>\n",
       "    </tr>\n",
       "    <tr>\n",
       "      <th>2</th>\n",
       "      <td>1</td>\n",
       "      <td>53602615</td>\n",
       "      <td>587809782</td>\n",
       "    </tr>\n",
       "    <tr>\n",
       "      <th>3</th>\n",
       "      <td>1</td>\n",
       "      <td>53888651</td>\n",
       "      <td>89598677</td>\n",
       "    </tr>\n",
       "    <tr>\n",
       "      <th>4</th>\n",
       "      <td>0</td>\n",
       "      <td>56930698</td>\n",
       "      <td>551526166</td>\n",
       "    </tr>\n",
       "    <tr>\n",
       "      <th>...</th>\n",
       "      <td>...</td>\n",
       "      <td>...</td>\n",
       "      <td>...</td>\n",
       "    </tr>\n",
       "    <tr>\n",
       "      <th>306535</th>\n",
       "      <td>0</td>\n",
       "      <td>817327230</td>\n",
       "      <td>822083612</td>\n",
       "    </tr>\n",
       "    <tr>\n",
       "      <th>306536</th>\n",
       "      <td>0</td>\n",
       "      <td>817560551</td>\n",
       "      <td>818069912</td>\n",
       "    </tr>\n",
       "    <tr>\n",
       "      <th>306537</th>\n",
       "      <td>0</td>\n",
       "      <td>817854719</td>\n",
       "      <td>817857267</td>\n",
       "    </tr>\n",
       "    <tr>\n",
       "      <th>306538</th>\n",
       "      <td>0</td>\n",
       "      <td>820036017</td>\n",
       "      <td>820037019</td>\n",
       "    </tr>\n",
       "    <tr>\n",
       "      <th>306539</th>\n",
       "      <td>0</td>\n",
       "      <td>821514120</td>\n",
       "      <td>821514311</td>\n",
       "    </tr>\n",
       "  </tbody>\n",
       "</table>\n",
       "<p>306540 rows × 3 columns</p>\n",
       "</div>"
      ],
      "text/plain": [
       "        target  variantid1  variantid2\n",
       "0            0    51197862    51198054\n",
       "1            1    53062686   536165289\n",
       "2            1    53602615   587809782\n",
       "3            1    53888651    89598677\n",
       "4            0    56930698   551526166\n",
       "...        ...         ...         ...\n",
       "306535       0   817327230   822083612\n",
       "306536       0   817560551   818069912\n",
       "306537       0   817854719   817857267\n",
       "306538       0   820036017   820037019\n",
       "306539       0   821514120   821514311\n",
       "\n",
       "[306540 rows x 3 columns]"
      ]
     },
     "execution_count": 5,
     "metadata": {},
     "output_type": "execute_result"
    }
   ],
   "source": [
    "train_pairs = pd.read_parquet('./datasets/train_pairs_w_target.parquet')\n",
    "test_pairs = pd.read_parquet('./datasets/test_pairs_wo_target.parquet')\n",
    "train_pairs['target'] = train_pairs['target'].astype(int)\n",
    "train_pairs"
   ]
  },
  {
   "cell_type": "code",
   "execution_count": null,
   "id": "923e9967",
   "metadata": {},
   "outputs": [],
   "source": []
  },
  {
   "cell_type": "code",
   "execution_count": 6,
   "id": "cf4a585e",
   "metadata": {},
   "outputs": [
    {
     "data": {
      "text/html": [
       "<div>\n",
       "<style scoped>\n",
       "    .dataframe tbody tr th:only-of-type {\n",
       "        vertical-align: middle;\n",
       "    }\n",
       "\n",
       "    .dataframe tbody tr th {\n",
       "        vertical-align: top;\n",
       "    }\n",
       "\n",
       "    .dataframe thead th {\n",
       "        text-align: right;\n",
       "    }\n",
       "</style>\n",
       "<table border=\"1\" class=\"dataframe\">\n",
       "  <thead>\n",
       "    <tr style=\"text-align: right;\">\n",
       "      <th></th>\n",
       "      <th>name_labse_768</th>\n",
       "    </tr>\n",
       "    <tr>\n",
       "      <th>variantid</th>\n",
       "      <th></th>\n",
       "    </tr>\n",
       "  </thead>\n",
       "  <tbody>\n",
       "    <tr>\n",
       "      <th>51195767</th>\n",
       "      <td>[-0.033874325, 0.03722446, 0.0029757991, 0.068...</td>\n",
       "    </tr>\n",
       "    <tr>\n",
       "      <th>53565809</th>\n",
       "      <td>[0.015568526, -0.03899538, 0.064447366, 0.0383...</td>\n",
       "    </tr>\n",
       "    <tr>\n",
       "      <th>56763357</th>\n",
       "      <td>[-0.033072222, -0.04237577, 0.020771954, 0.065...</td>\n",
       "    </tr>\n",
       "    <tr>\n",
       "      <th>56961772</th>\n",
       "      <td>[0.014727573, -0.025661988, 0.023943473, -0.00...</td>\n",
       "    </tr>\n",
       "    <tr>\n",
       "      <th>61054740</th>\n",
       "      <td>[0.043145332, -0.052424084, 0.017260496, 0.045...</td>\n",
       "    </tr>\n",
       "    <tr>\n",
       "      <th>...</th>\n",
       "      <td>...</td>\n",
       "    </tr>\n",
       "    <tr>\n",
       "      <th>820128810</th>\n",
       "      <td>[-0.003678058, -0.031628493, 0.0065589263, 0.0...</td>\n",
       "    </tr>\n",
       "    <tr>\n",
       "      <th>821135769</th>\n",
       "      <td>[-0.06858361, 0.027011767, -0.016400583, -0.02...</td>\n",
       "    </tr>\n",
       "    <tr>\n",
       "      <th>822095690</th>\n",
       "      <td>[-0.04474233, -0.034224413, 0.026076552, 0.026...</td>\n",
       "    </tr>\n",
       "    <tr>\n",
       "      <th>822101044</th>\n",
       "      <td>[-0.05541598, 0.000863006, 0.01093415, 0.02208...</td>\n",
       "    </tr>\n",
       "    <tr>\n",
       "      <th>822394794</th>\n",
       "      <td>[-0.024839332, -0.010900456, 0.035838403, -0.0...</td>\n",
       "    </tr>\n",
       "  </tbody>\n",
       "</table>\n",
       "<p>457063 rows × 1 columns</p>\n",
       "</div>"
      ],
      "text/plain": [
       "                                              name_labse_768\n",
       "variantid                                                   \n",
       "51195767   [-0.033874325, 0.03722446, 0.0029757991, 0.068...\n",
       "53565809   [0.015568526, -0.03899538, 0.064447366, 0.0383...\n",
       "56763357   [-0.033072222, -0.04237577, 0.020771954, 0.065...\n",
       "56961772   [0.014727573, -0.025661988, 0.023943473, -0.00...\n",
       "61054740   [0.043145332, -0.052424084, 0.017260496, 0.045...\n",
       "...                                                      ...\n",
       "820128810  [-0.003678058, -0.031628493, 0.0065589263, 0.0...\n",
       "821135769  [-0.06858361, 0.027011767, -0.016400583, -0.02...\n",
       "822095690  [-0.04474233, -0.034224413, 0.026076552, 0.026...\n",
       "822101044  [-0.05541598, 0.000863006, 0.01093415, 0.02208...\n",
       "822394794  [-0.024839332, -0.010900456, 0.035838403, -0.0...\n",
       "\n",
       "[457063 rows x 1 columns]"
      ]
     },
     "execution_count": 6,
     "metadata": {},
     "output_type": "execute_result"
    }
   ],
   "source": [
    "name_labse_embs = pd.read_parquet('F:/name_labse_embs.parquet').set_index('variantid')\n",
    "name_labse_embs"
   ]
  },
  {
   "cell_type": "code",
   "execution_count": null,
   "id": "633bd441",
   "metadata": {},
   "outputs": [],
   "source": []
  },
  {
   "cell_type": "code",
   "execution_count": 7,
   "id": "c912ebfc",
   "metadata": {},
   "outputs": [],
   "source": [
    "from sklearn.model_selection import train_test_split\n",
    "\n",
    "train_pairs, val_pairs = train_test_split(train_pairs, test_size=1/3, random_state=56)"
   ]
  },
  {
   "cell_type": "code",
   "execution_count": null,
   "id": "93b0d047",
   "metadata": {},
   "outputs": [],
   "source": []
  },
  {
   "cell_type": "code",
   "execution_count": 8,
   "id": "0e241c4c",
   "metadata": {},
   "outputs": [
    {
     "data": {
      "application/vnd.jupyter.widget-view+json": {
       "model_id": "6112addca6f94f8eb65ebfd699ec5b93",
       "version_major": 2,
       "version_minor": 0
      },
      "text/plain": [
       "  0%|          | 0/151476 [00:00<?, ?it/s]"
      ]
     },
     "metadata": {},
     "output_type": "display_data"
    },
    {
     "name": "stdout",
     "output_type": "stream",
     "text": [
      "65608\n"
     ]
    },
    {
     "data": {
      "text/html": [
       "<div>\n",
       "<style scoped>\n",
       "    .dataframe tbody tr th:only-of-type {\n",
       "        vertical-align: middle;\n",
       "    }\n",
       "\n",
       "    .dataframe tbody tr th {\n",
       "        vertical-align: top;\n",
       "    }\n",
       "\n",
       "    .dataframe thead th {\n",
       "        text-align: right;\n",
       "    }\n",
       "</style>\n",
       "<table border=\"1\" class=\"dataframe\">\n",
       "  <thead>\n",
       "    <tr style=\"text-align: right;\">\n",
       "      <th></th>\n",
       "      <th>target</th>\n",
       "      <th>variantid1</th>\n",
       "      <th>variantid2</th>\n",
       "    </tr>\n",
       "  </thead>\n",
       "  <tbody>\n",
       "    <tr>\n",
       "      <th>289224</th>\n",
       "      <td>0</td>\n",
       "      <td>510049910</td>\n",
       "      <td>510050530</td>\n",
       "    </tr>\n",
       "    <tr>\n",
       "      <th>2357</th>\n",
       "      <td>1</td>\n",
       "      <td>80637721</td>\n",
       "      <td>501978948</td>\n",
       "    </tr>\n",
       "    <tr>\n",
       "      <th>49071</th>\n",
       "      <td>0</td>\n",
       "      <td>53565392</td>\n",
       "      <td>89434955</td>\n",
       "    </tr>\n",
       "    <tr>\n",
       "      <th>10858</th>\n",
       "      <td>1</td>\n",
       "      <td>77458419</td>\n",
       "      <td>426023153</td>\n",
       "    </tr>\n",
       "    <tr>\n",
       "      <th>133164</th>\n",
       "      <td>0</td>\n",
       "      <td>563560139</td>\n",
       "      <td>653233648</td>\n",
       "    </tr>\n",
       "    <tr>\n",
       "      <th>...</th>\n",
       "      <td>...</td>\n",
       "      <td>...</td>\n",
       "      <td>...</td>\n",
       "    </tr>\n",
       "    <tr>\n",
       "      <th>65603</th>\n",
       "      <td>1</td>\n",
       "      <td>659695305</td>\n",
       "      <td>700171302</td>\n",
       "    </tr>\n",
       "    <tr>\n",
       "      <th>65604</th>\n",
       "      <td>1</td>\n",
       "      <td>773459545</td>\n",
       "      <td>776840249</td>\n",
       "    </tr>\n",
       "    <tr>\n",
       "      <th>65605</th>\n",
       "      <td>1</td>\n",
       "      <td>750245639</td>\n",
       "      <td>780670219</td>\n",
       "    </tr>\n",
       "    <tr>\n",
       "      <th>65606</th>\n",
       "      <td>1</td>\n",
       "      <td>532474266</td>\n",
       "      <td>621912422</td>\n",
       "    </tr>\n",
       "    <tr>\n",
       "      <th>65607</th>\n",
       "      <td>1</td>\n",
       "      <td>777934190</td>\n",
       "      <td>779893406</td>\n",
       "    </tr>\n",
       "  </tbody>\n",
       "</table>\n",
       "<p>269968 rows × 3 columns</p>\n",
       "</div>"
      ],
      "text/plain": [
       "        target  variantid1  variantid2\n",
       "289224       0   510049910   510050530\n",
       "2357         1    80637721   501978948\n",
       "49071        0    53565392    89434955\n",
       "10858        1    77458419   426023153\n",
       "133164       0   563560139   653233648\n",
       "...        ...         ...         ...\n",
       "65603        1   659695305   700171302\n",
       "65604        1   773459545   776840249\n",
       "65605        1   750245639   780670219\n",
       "65606        1   532474266   621912422\n",
       "65607        1   777934190   779893406\n",
       "\n",
       "[269968 rows x 3 columns]"
      ]
     },
     "execution_count": 8,
     "metadata": {},
     "output_type": "execute_result"
    }
   ],
   "source": [
    "# говнокод, потом красивее сделаю\n",
    "\n",
    "pairs = {}\n",
    "for target, v, u in zip(train_pairs.target, train_pairs.variantid1, train_pairs.variantid2):\n",
    "    if not target:\n",
    "        continue\n",
    "    if v not in pairs:\n",
    "        pairs[v] = {}\n",
    "    if u not in pairs:\n",
    "        pairs[u] = {}\n",
    "        \n",
    "    pairs[v][u] = pairs[u][v] = 1\n",
    "    \n",
    "new_pairs = set()\n",
    "for b in tqdm(pairs):\n",
    "    for a in pairs[b]:\n",
    "        for c in pairs[b]:\n",
    "            if a >= c:\n",
    "                continue\n",
    "            if pairs.get(a, {}).get(c, -1) != 1 and pairs.get(c, {}).get(a, -1) != 1:   \n",
    "                new_pairs.add((a, c))\n",
    "                \n",
    "print(len(new_pairs))\n",
    "\n",
    "tmp = []\n",
    "for a, c in new_pairs:\n",
    "    tmp.append({\n",
    "        'target': 1,\n",
    "        'variantid1': a,\n",
    "        'variantid2': c\n",
    "    })\n",
    "train_pairs = pd.concat([train_pairs, pd.DataFrame(tmp)])\n",
    "train_pairs"
   ]
  },
  {
   "cell_type": "code",
   "execution_count": null,
   "id": "cd93d9d5",
   "metadata": {},
   "outputs": [],
   "source": []
  },
  {
   "cell_type": "code",
   "execution_count": 9,
   "id": "0c25370d",
   "metadata": {},
   "outputs": [],
   "source": [
    "class Args:\n",
    "    batch_size = 128\n",
    "    \n",
    "args = Args()"
   ]
  },
  {
   "cell_type": "code",
   "execution_count": 10,
   "id": "8955f29b",
   "metadata": {},
   "outputs": [],
   "source": [
    "class ItemsDataset(Dataset):\n",
    "    def __init__(self, pairs, data):\n",
    "        super().__init__()\n",
    "        self.pairs = pairs.values\n",
    "        self.main_pic_embs = data['main_pic_embeddings_resnet_v1']\n",
    "        self.name_embs = data['name_bert_64']\n",
    "        self.name_labse_embs = name_labse_embs['name_labse_768']\n",
    "        self.pairs_len = len(self.pairs)\n",
    "        \n",
    "    def __len__(self):\n",
    "        return self.pairs_len\n",
    "\n",
    "    def __getitem__(self, idx):\n",
    "        target, id1, id2 = self.pairs[idx, :]\n",
    "        return (\n",
    "            torch.tensor(np.concatenate([self.main_pic_embs[id1][0], self.name_embs[id1], self.name_labse_embs[id1]])),\n",
    "            torch.tensor(np.concatenate([self.main_pic_embs[id2][0], self.name_embs[id2], self.name_labse_embs[id2]])),\n",
    "            target\n",
    "        )"
   ]
  },
  {
   "cell_type": "code",
   "execution_count": 11,
   "id": "e40e3ffd",
   "metadata": {},
   "outputs": [],
   "source": [
    "def get_data_loader(pairs, data, batch_size, drop_last, shuffle):\n",
    "    dataset = ItemsDataset(pairs, data)\n",
    "    data_loader = torch.utils.data.DataLoader(\n",
    "        dataset=dataset,\n",
    "        batch_size=batch_size,\n",
    "        num_workers=0,\n",
    "        drop_last=drop_last,\n",
    "        shuffle=shuffle,\n",
    "        pin_memory=True\n",
    "    )\n",
    "    return data_loader"
   ]
  },
  {
   "cell_type": "code",
   "execution_count": 12,
   "id": "0e1ef7cc",
   "metadata": {},
   "outputs": [],
   "source": [
    "def get_loaders(args):\n",
    "    train_loader = get_data_loader(\n",
    "        pairs=train_pairs,\n",
    "        data=train_data,\n",
    "        batch_size=args.batch_size,\n",
    "        drop_last=True,\n",
    "        shuffle=True\n",
    "    )\n",
    "    \n",
    "    val_loader = get_data_loader(\n",
    "        pairs=val_pairs,\n",
    "        data=train_data,\n",
    "        batch_size=args.batch_size,\n",
    "        drop_last=False,\n",
    "        shuffle=False\n",
    "    )\n",
    "    return train_loader, val_loader"
   ]
  },
  {
   "cell_type": "code",
   "execution_count": 13,
   "id": "7c6d7ad8",
   "metadata": {},
   "outputs": [
    {
     "data": {
      "text/plain": [
       "(2109, 799)"
      ]
     },
     "execution_count": 13,
     "metadata": {},
     "output_type": "execute_result"
    }
   ],
   "source": [
    "train_loader, val_loader = get_loaders(args)\n",
    "len(train_loader), len(val_loader)"
   ]
  },
  {
   "cell_type": "code",
   "execution_count": 14,
   "id": "f78907fe",
   "metadata": {},
   "outputs": [
    {
     "name": "stdout",
     "output_type": "stream",
     "text": [
      "tensor([[-5.2847e-01, -5.6575e-01,  4.2611e-01,  ...,  4.2836e-02,\n",
      "         -2.8867e-02, -2.1974e-02],\n",
      "        [ 5.9270e-01,  2.3759e-01,  7.3751e-01,  ..., -4.5626e-02,\n",
      "          5.2197e-03, -2.1057e-03],\n",
      "        [ 6.2605e-01,  1.9685e-01, -7.0319e-01,  ...,  5.1364e-02,\n",
      "         -7.9402e-02,  3.7430e-02],\n",
      "        ...,\n",
      "        [ 2.9476e-01, -9.7835e-01,  5.4095e-02,  ...,  3.8090e-02,\n",
      "         -7.6552e-02, -8.1115e-04],\n",
      "        [-4.8808e-01,  9.0264e-01,  5.9657e-02,  ..., -2.4508e-02,\n",
      "         -5.2012e-02, -4.5858e-02],\n",
      "        [ 8.5562e-01, -4.6656e-01, -1.2545e+00,  ...,  6.1883e-02,\n",
      "         -5.4190e-02,  2.3340e-02]]) tensor([[-0.4530, -0.5522,  0.4620,  ...,  0.0386, -0.0148, -0.0225],\n",
      "        [ 0.8618,  0.4206,  0.8139,  ...,  0.0070, -0.0370,  0.0324],\n",
      "        [ 0.7072,  0.2122, -0.5537,  ...,  0.0472, -0.0813,  0.0420],\n",
      "        ...,\n",
      "        [ 0.2948, -0.9784,  0.0541,  ...,  0.0320, -0.0652, -0.0038],\n",
      "        [-0.2858,  0.8239, -0.0776,  ..., -0.0287, -0.0597, -0.0434],\n",
      "        [ 0.7853, -0.4528, -1.2548,  ..., -0.0129, -0.0625,  0.0232]]) tensor([1, 0, 0, 0, 1, 0, 0, 1, 0, 1, 1, 1, 0, 1, 1, 1, 1, 0, 1, 1, 1, 0, 0, 0,\n",
      "        1, 1, 1, 1, 0, 0, 1, 0, 1, 0, 1, 0, 0, 1, 1, 0, 0, 1, 0, 0, 0, 1, 1, 1,\n",
      "        0, 1, 0, 1, 0, 0, 1, 1, 1, 1, 1, 1, 1, 0, 1, 1, 1, 1, 1, 0, 0, 1, 1, 0,\n",
      "        0, 0, 1, 1, 1, 0, 1, 1, 0, 0, 1, 1, 1, 1, 1, 1, 0, 1, 0, 0, 1, 1, 0, 1,\n",
      "        1, 0, 1, 1, 1, 0, 1, 0, 1, 0, 1, 0, 0, 1, 1, 0, 1, 0, 0, 0, 1, 1, 1, 1,\n",
      "        0, 0, 0, 0, 1, 0, 1, 0])\n"
     ]
    }
   ],
   "source": [
    "for x1, x2, target in train_loader:\n",
    "    print(x1, x2, target)\n",
    "    break"
   ]
  },
  {
   "cell_type": "code",
   "execution_count": 20,
   "id": "20026910",
   "metadata": {},
   "outputs": [],
   "source": [
    "from sklearn.metrics import roc_auc_score\n",
    "\n",
    "class Net(pl.LightningModule):\n",
    "    margin = 0.75\n",
    "    \n",
    "    def __init__(self):\n",
    "        super().__init__()\n",
    "        \n",
    "        # self.linear = nn.Linear(128 + 64, 256)\n",
    "        \n",
    "        features_num = 128 + 64 + 768\n",
    "        # output_size = 256\n",
    "        # embedding_size = (features_num + output_size) // 2\n",
    "        embedding_size = 256\n",
    "        self.neck = nn.Sequential(\n",
    "            nn.BatchNorm1d(features_num),\n",
    "            nn.Linear(features_num, embedding_size, bias=False),\n",
    "            nn.ReLU(inplace=True),\n",
    "            nn.BatchNorm1d(embedding_size),\n",
    "            nn.Linear(embedding_size, embedding_size, bias=False),\n",
    "            nn.BatchNorm1d(embedding_size),\n",
    "        )\n",
    "        # self.linear = nn.Linear(embedding_size, output_size)\n",
    "        \n",
    "    def forward(self, x):\n",
    "        # return self.linear(x)\n",
    "        # return self.linear(self.neck(x))\n",
    "        return self.neck(x)\n",
    "    \n",
    "    def configure_optimizers(self):\n",
    "        optimizer = torch.optim.AdamW(\n",
    "            self.parameters(), lr=1e-4, betas=(0.9, 0.999), weight_decay=0.05\n",
    "        )\n",
    "        # optimizer = torch.optim.SGD(self.parameters(), lr=1e-1, momentum=0.9, weight_decay=0.0001)\n",
    "        return (\n",
    "            {\n",
    "                \"optimizer\": optimizer,\n",
    "            },\n",
    "        )\n",
    "    \n",
    "    def training_step(self, batch, batch_idx):\n",
    "        # self.log('step', batch_idx, logger=True, on_epoch=True)\n",
    "        x1, x2, labels = batch\n",
    "        out1 = self.forward(x1)\n",
    "        out2 = self.forward(x2)\n",
    "        \n",
    "        fnorm = torch.norm(out1, p=2, dim=1, keepdim=True)\n",
    "        out1 = out1.div(fnorm.expand_as(out1))\n",
    "        fnorm = torch.norm(out2, p=2, dim=1, keepdim=True)\n",
    "        out2 = out2.div(fnorm.expand_as(out2))\n",
    "        \n",
    "        dists = nn.PairwiseDistance()(out1, out2)\n",
    "        loss = (labels) * torch.pow(dists, 2) + (1 - labels) * torch.pow(torch.clamp(self.margin - dists, min=0.0), 2)\n",
    "        loss = torch.mean(loss)\n",
    "        self.log(\"train_loss\", loss, on_step=False, logger=False, on_epoch=True, prog_bar=True)\n",
    "        return loss\n",
    "    \n",
    "    def validation_step(self, batch, batch_idx):        \n",
    "        x1, x2, labels = batch\n",
    "        out1 = self.forward(x1)\n",
    "        out2 = self.forward(x2)\n",
    "        \n",
    "        fnorm = torch.norm(out1, p=2, dim=1, keepdim=True)\n",
    "        out1 = out1.div(fnorm.expand_as(out1))\n",
    "        fnorm = torch.norm(out2, p=2, dim=1, keepdim=True)\n",
    "        out2 = out2.div(fnorm.expand_as(out2))\n",
    "        \n",
    "        dists = nn.PairwiseDistance()(out1, out2)\n",
    "        loss = (labels) * torch.pow(dists, 2) + (1 - labels) * torch.pow(torch.clamp(self.margin - dists, min=0.0), 2)\n",
    "        loss = torch.mean(loss)\n",
    "        self.log(\"val_loss\", loss, logger=False, on_epoch=True, prog_bar=True)   \n",
    "        \n",
    "        try:\n",
    "            auc = roc_auc_score(labels.detach().cpu(), 1 - dists.detach().cpu())\n",
    "        except:\n",
    "            auc = 0\n",
    "            \n",
    "        self.log(\"val_auc\", auc, logger=False, on_epoch=True, prog_bar=True)\n",
    "        \n",
    "    def train_dataloader(self):\n",
    "        return train_loader\n",
    "\n",
    "    def val_dataloader(self):\n",
    "        return val_loader\n",
    "    \n",
    "    def predict_step(self, batch, batch_idx):\n",
    "        x1, x2, labels = batch\n",
    "        out1 = self.forward(x1)\n",
    "        out2 = self.forward(x2)\n",
    "        \n",
    "        fnorm = torch.norm(out1, p=2, dim=1, keepdim=True)\n",
    "        out1 = out1.div(fnorm.expand_as(out1))\n",
    "        fnorm = torch.norm(out2, p=2, dim=1, keepdim=True)\n",
    "        out2 = out2.div(fnorm.expand_as(out2))\n",
    "        \n",
    "        dists = nn.PairwiseDistance()(out1, out2)\n",
    "        return torch.cat([out1, out2, (1 - dists).unsqueeze(-1)], dim=1).detach().cpu()"
   ]
  },
  {
   "cell_type": "code",
   "execution_count": 21,
   "id": "5ee41190",
   "metadata": {},
   "outputs": [],
   "source": [
    "model = Net()"
   ]
  },
  {
   "cell_type": "code",
   "execution_count": 22,
   "id": "55ef7cc2",
   "metadata": {},
   "outputs": [
    {
     "data": {
      "text/plain": [
       "=================================================================\n",
       "Layer (type:depth-idx)                   Param #\n",
       "=================================================================\n",
       "Net                                      --\n",
       "├─Sequential: 1-1                        --\n",
       "│    └─BatchNorm1d: 2-1                  1,920\n",
       "│    └─Linear: 2-2                       245,760\n",
       "│    └─ReLU: 2-3                         --\n",
       "│    └─BatchNorm1d: 2-4                  512\n",
       "│    └─Linear: 2-5                       65,536\n",
       "│    └─BatchNorm1d: 2-6                  512\n",
       "=================================================================\n",
       "Total params: 314,240\n",
       "Trainable params: 314,240\n",
       "Non-trainable params: 0\n",
       "================================================================="
      ]
     },
     "execution_count": 22,
     "metadata": {},
     "output_type": "execute_result"
    }
   ],
   "source": [
    "import torchinfo\n",
    "\n",
    "torchinfo.summary(model)"
   ]
  },
  {
   "cell_type": "code",
   "execution_count": 23,
   "id": "55224dc6",
   "metadata": {
    "scrolled": false
   },
   "outputs": [
    {
     "data": {
      "application/vnd.jupyter.widget-view+json": {
       "model_id": "",
       "version_major": 2,
       "version_minor": 0
      },
      "text/plain": [
       "Sanity Checking: 0it [00:00, ?it/s]"
      ]
     },
     "metadata": {},
     "output_type": "display_data"
    },
    {
     "name": "stderr",
     "output_type": "stream",
     "text": [
      "2023-05-22 19:24:24,280 [18672] WARNING  py.warnings:109: [JupyterRequire] C:\\Users\\Konder\\AppData\\Roaming\\Python\\Python38\\site-packages\\pytorch_lightning\\trainer\\connectors\\data_connector.py:430: PossibleUserWarning: The dataloader, val_dataloader, does not have many workers which may be a bottleneck. Consider increasing the value of the `num_workers` argument` (try 24 which is the number of cpus on this machine) in the `DataLoader` init to improve performance.\n",
      "  rank_zero_warn(\n",
      "\n",
      "2023-05-22 19:24:24,346 [18672] WARNING  py.warnings:109: [JupyterRequire] C:\\Users\\Konder\\AppData\\Roaming\\Python\\Python38\\site-packages\\pytorch_lightning\\trainer\\connectors\\data_connector.py:430: PossibleUserWarning: The dataloader, train_dataloader, does not have many workers which may be a bottleneck. Consider increasing the value of the `num_workers` argument` (try 24 which is the number of cpus on this machine) in the `DataLoader` init to improve performance.\n",
      "  rank_zero_warn(\n",
      "\n"
     ]
    },
    {
     "data": {
      "application/vnd.jupyter.widget-view+json": {
       "model_id": "149ba637b6124257b4910e05e9f817a8",
       "version_major": 2,
       "version_minor": 0
      },
      "text/plain": [
       "Training: 0it [00:00, ?it/s]"
      ]
     },
     "metadata": {},
     "output_type": "display_data"
    },
    {
     "data": {
      "application/vnd.jupyter.widget-view+json": {
       "model_id": "",
       "version_major": 2,
       "version_minor": 0
      },
      "text/plain": [
       "Validation: 0it [00:00, ?it/s]"
      ]
     },
     "metadata": {},
     "output_type": "display_data"
    },
    {
     "data": {
      "application/vnd.jupyter.widget-view+json": {
       "model_id": "",
       "version_major": 2,
       "version_minor": 0
      },
      "text/plain": [
       "Validation: 0it [00:00, ?it/s]"
      ]
     },
     "metadata": {},
     "output_type": "display_data"
    },
    {
     "data": {
      "application/vnd.jupyter.widget-view+json": {
       "model_id": "",
       "version_major": 2,
       "version_minor": 0
      },
      "text/plain": [
       "Validation: 0it [00:00, ?it/s]"
      ]
     },
     "metadata": {},
     "output_type": "display_data"
    },
    {
     "data": {
      "application/vnd.jupyter.widget-view+json": {
       "model_id": "",
       "version_major": 2,
       "version_minor": 0
      },
      "text/plain": [
       "Validation: 0it [00:00, ?it/s]"
      ]
     },
     "metadata": {},
     "output_type": "display_data"
    },
    {
     "data": {
      "application/vnd.jupyter.widget-view+json": {
       "model_id": "",
       "version_major": 2,
       "version_minor": 0
      },
      "text/plain": [
       "Validation: 0it [00:00, ?it/s]"
      ]
     },
     "metadata": {},
     "output_type": "display_data"
    },
    {
     "data": {
      "application/vnd.jupyter.widget-view+json": {
       "model_id": "",
       "version_major": 2,
       "version_minor": 0
      },
      "text/plain": [
       "Validation: 0it [00:00, ?it/s]"
      ]
     },
     "metadata": {},
     "output_type": "display_data"
    },
    {
     "data": {
      "application/vnd.jupyter.widget-view+json": {
       "model_id": "",
       "version_major": 2,
       "version_minor": 0
      },
      "text/plain": [
       "Validation: 0it [00:00, ?it/s]"
      ]
     },
     "metadata": {},
     "output_type": "display_data"
    },
    {
     "data": {
      "application/vnd.jupyter.widget-view+json": {
       "model_id": "",
       "version_major": 2,
       "version_minor": 0
      },
      "text/plain": [
       "Validation: 0it [00:00, ?it/s]"
      ]
     },
     "metadata": {},
     "output_type": "display_data"
    },
    {
     "data": {
      "application/vnd.jupyter.widget-view+json": {
       "model_id": "",
       "version_major": 2,
       "version_minor": 0
      },
      "text/plain": [
       "Validation: 0it [00:00, ?it/s]"
      ]
     },
     "metadata": {},
     "output_type": "display_data"
    },
    {
     "data": {
      "application/vnd.jupyter.widget-view+json": {
       "model_id": "",
       "version_major": 2,
       "version_minor": 0
      },
      "text/plain": [
       "Validation: 0it [00:00, ?it/s]"
      ]
     },
     "metadata": {},
     "output_type": "display_data"
    }
   ],
   "source": [
    "trainer = pl.Trainer(\n",
    "    logger=False, # CSVLogger('./'),\n",
    "    enable_checkpointing=False,\n",
    "    \n",
    "    accelerator='gpu', \n",
    "    devices=1,\n",
    "    profiler='advanced',\n",
    "    precision=32,\n",
    "    check_val_every_n_epoch=1,\n",
    "    max_epochs=10\n",
    ")\n",
    "\n",
    "trainer.fit(model)"
   ]
  },
  {
   "cell_type": "code",
   "execution_count": null,
   "id": "b9807888",
   "metadata": {},
   "outputs": [],
   "source": []
  },
  {
   "cell_type": "code",
   "execution_count": 24,
   "id": "f13a865e",
   "metadata": {},
   "outputs": [
    {
     "name": "stderr",
     "output_type": "stream",
     "text": [
      "2023-05-22 19:33:47,069 [18672] WARNING  py.warnings:109: [JupyterRequire] C:\\Users\\Konder\\AppData\\Roaming\\Python\\Python38\\site-packages\\pytorch_lightning\\trainer\\connectors\\data_connector.py:430: PossibleUserWarning: The dataloader, predict_dataloader, does not have many workers which may be a bottleneck. Consider increasing the value of the `num_workers` argument` (try 24 which is the number of cpus on this machine) in the `DataLoader` init to improve performance.\n",
      "  rank_zero_warn(\n",
      "\n"
     ]
    },
    {
     "data": {
      "application/vnd.jupyter.widget-view+json": {
       "model_id": "1048a3d1641445e583be791f07002884",
       "version_major": 2,
       "version_minor": 0
      },
      "text/plain": [
       "Predicting: 0it [00:00, ?it/s]"
      ]
     },
     "metadata": {},
     "output_type": "display_data"
    }
   ],
   "source": [
    "test_preds = trainer.predict(model, val_loader)"
   ]
  },
  {
   "cell_type": "code",
   "execution_count": 25,
   "id": "6d1f6db3",
   "metadata": {},
   "outputs": [
    {
     "data": {
      "text/plain": [
       "0.8705586711845904"
      ]
     },
     "execution_count": 25,
     "metadata": {},
     "output_type": "execute_result"
    }
   ],
   "source": [
    "roc_auc_score(val_pairs.target, np.concatenate([pred.numpy()[:, -1] for pred in test_preds]))"
   ]
  },
  {
   "cell_type": "raw",
   "id": "90b37a4f",
   "metadata": {},
   "source": [
    "0.8705586711845904"
   ]
  },
  {
   "cell_type": "code",
   "execution_count": null,
   "id": "f325131a",
   "metadata": {},
   "outputs": [],
   "source": []
  },
  {
   "cell_type": "code",
   "execution_count": 26,
   "id": "72f60750",
   "metadata": {},
   "outputs": [],
   "source": [
    "train_dataset = ItemsDataset(train_pairs, train_data)\n",
    "train_loader = torch.utils.data.DataLoader(\n",
    "    dataset=train_dataset,\n",
    "    batch_size=args.batch_size,\n",
    "    num_workers=0,\n",
    "    drop_last=False,\n",
    "    shuffle=False,\n",
    "    pin_memory=True\n",
    ")"
   ]
  },
  {
   "cell_type": "code",
   "execution_count": 27,
   "id": "48a697ef",
   "metadata": {},
   "outputs": [
    {
     "name": "stderr",
     "output_type": "stream",
     "text": [
      "2023-05-22 19:34:00,498 [18672] WARNING  py.warnings:109: [JupyterRequire] C:\\Users\\Konder\\AppData\\Roaming\\Python\\Python38\\site-packages\\pytorch_lightning\\trainer\\connectors\\data_connector.py:430: PossibleUserWarning: The dataloader, predict_dataloader, does not have many workers which may be a bottleneck. Consider increasing the value of the `num_workers` argument` (try 24 which is the number of cpus on this machine) in the `DataLoader` init to improve performance.\n",
      "  rank_zero_warn(\n",
      "\n"
     ]
    },
    {
     "data": {
      "application/vnd.jupyter.widget-view+json": {
       "model_id": "d93ae6c51c8048f9a5309281f2e12ce4",
       "version_major": 2,
       "version_minor": 0
      },
      "text/plain": [
       "Predicting: 0it [00:00, ?it/s]"
      ]
     },
     "metadata": {},
     "output_type": "display_data"
    }
   ],
   "source": [
    "features = np.concatenate([pred.numpy() for pred in trainer.predict(model, train_loader)])"
   ]
  },
  {
   "cell_type": "code",
   "execution_count": 28,
   "id": "c0c04635",
   "metadata": {},
   "outputs": [
    {
     "data": {
      "application/vnd.jupyter.widget-view+json": {
       "model_id": "8c1828546d8e4030aabe612b677e8349",
       "version_major": 2,
       "version_minor": 0
      },
      "text/plain": [
       "Predicting: 0it [00:00, ?it/s]"
      ]
     },
     "metadata": {},
     "output_type": "display_data"
    }
   ],
   "source": [
    "val_features = np.concatenate([pred.numpy() for pred in trainer.predict(model, val_loader)])"
   ]
  },
  {
   "cell_type": "code",
   "execution_count": 29,
   "id": "9c56e583",
   "metadata": {},
   "outputs": [
    {
     "name": "stderr",
     "output_type": "stream",
     "text": [
      "2023-05-22 19:34:49,961 [18672] WARNING  py.warnings:109: [JupyterRequire] C:\\Users\\Konder\\AppData\\Roaming\\Python\\Python38\\site-packages\\xgboost\\compat.py:36: FutureWarning: pandas.Int64Index is deprecated and will be removed from pandas in a future version. Use pandas.Index with the appropriate dtype instead.\n",
      "  from pandas import MultiIndex, Int64Index\n",
      "\n"
     ]
    }
   ],
   "source": [
    "from catboost import CatBoostClassifier, Pool, cv"
   ]
  },
  {
   "cell_type": "code",
   "execution_count": 30,
   "id": "1a434e41",
   "metadata": {},
   "outputs": [],
   "source": [
    "train_pool = Pool(\n",
    "    data=features,\n",
    "    label=train_pairs.target,\n",
    ")\n",
    "\n",
    "val_pool = Pool(\n",
    "    data=val_features,\n",
    "    label=val_pairs.target,\n",
    ")"
   ]
  },
  {
   "cell_type": "code",
   "execution_count": 47,
   "id": "9b04b2d3",
   "metadata": {},
   "outputs": [],
   "source": [
    "params = {\n",
    "    'loss_function': 'Logloss',\n",
    "    'custom_metric': ['AUC'],\n",
    "    'task_type': 'CPU',\n",
    "}"
   ]
  },
  {
   "cell_type": "code",
   "execution_count": 48,
   "id": "92df1dad",
   "metadata": {},
   "outputs": [
    {
     "data": {
      "application/vnd.jupyter.widget-view+json": {
       "model_id": "6b629a6fc70046a193abb7192dc3b9b4",
       "version_major": 2,
       "version_minor": 0
      },
      "text/plain": [
       "MetricVisualizer(layout=Layout(align_self='stretch', height='500px'))"
      ]
     },
     "metadata": {},
     "output_type": "display_data"
    },
    {
     "name": "stderr",
     "output_type": "stream",
     "text": [
      "Warning: less than 75% gpu memory available for training. Free: 5996.849999 Total: 8191.5625\n",
      "Default metric period is 5 because AUC is/are not implemented for GPU\n"
     ]
    },
    {
     "data": {
      "text/plain": [
       "<catboost.core.CatBoostClassifier at 0x1a692774700>"
      ]
     },
     "execution_count": 48,
     "metadata": {},
     "output_type": "execute_result"
    }
   ],
   "source": [
    "model_cb = CatBoostClassifier(**params, random_seed=56)\n",
    "model_cb.fit(train_pool, eval_set=val_pool, verbose=False, plot=True)"
   ]
  },
  {
   "cell_type": "code",
   "execution_count": 44,
   "id": "6a8d9853",
   "metadata": {},
   "outputs": [
    {
     "data": {
      "text/plain": [
       "0.8793450626201349"
      ]
     },
     "execution_count": 44,
     "metadata": {},
     "output_type": "execute_result"
    }
   ],
   "source": [
    "np.max(model_cb.get_evals_result()['validation']['AUC'])"
   ]
  },
  {
   "cell_type": "raw",
   "id": "415b3352",
   "metadata": {},
   "source": [
    "0.8504946241897238 -> 0.8662871438366898 -> 0.8733346676303434 -> 0.8793450626201349"
   ]
  },
  {
   "cell_type": "code",
   "execution_count": 46,
   "id": "790b06d5",
   "metadata": {},
   "outputs": [
    {
     "data": {
      "text/plain": [
       "0.7306184112482237"
      ]
     },
     "execution_count": 46,
     "metadata": {},
     "output_type": "execute_result"
    }
   ],
   "source": [
    "from sklearn.metrics import precision_recall_curve, auc\n",
    "\n",
    "precision, recall, thrs = precision_recall_curve(val_pairs.target, model_cb.predict_proba(val_pool)[:, 1])\n",
    "gt_prec_level_idx = np.where(precision >= 0.75)[0]\n",
    "auc(recall[gt_prec_level_idx], precision[gt_prec_level_idx])"
   ]
  },
  {
   "cell_type": "code",
   "execution_count": null,
   "id": "576c2891",
   "metadata": {},
   "outputs": [],
   "source": []
  }
 ],
 "metadata": {
  "finalized": {
   "timestamp": 1684602749696,
   "trusted": true
  },
  "kernelspec": {
   "display_name": "Python 3 (ipykernel)",
   "language": "python",
   "name": "python3"
  },
  "language_info": {
   "codemirror_mode": {
    "name": "ipython",
    "version": 3
   },
   "file_extension": ".py",
   "mimetype": "text/x-python",
   "name": "python",
   "nbconvert_exporter": "python",
   "pygments_lexer": "ipython3",
   "version": "3.8.13"
  }
 },
 "nbformat": 4,
 "nbformat_minor": 5
}
