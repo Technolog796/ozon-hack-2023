{
 "cells": [
  {
   "cell_type": "code",
   "execution_count": 2,
   "id": "f87861cb",
   "metadata": {
    "ExecuteTime": {
     "end_time": "2023-05-24T09:26:24.551055400Z",
     "start_time": "2023-05-24T09:26:10.269385300Z"
    }
   },
   "outputs": [],
   "source": [
    "import gc\n",
    "import os\n",
    "\n",
    "import numpy as np\n",
    "import pandas as pd\n",
    "import random\n",
    "from tqdm.notebook import tqdm\n",
    "\n",
    "import torch\n",
    "import torch.nn as nn\n",
    "from torch.utils.data import Dataset\n",
    "\n",
    "import pytorch_lightning as pl\n",
    "from sklearn.metrics import roc_auc_score\n",
    "\n",
    "from transformers import DebertaV2ForSequenceClassification, DebertaV2Config, DebertaV2Model"
   ]
  },
  {
   "cell_type": "code",
   "execution_count": 3,
   "id": "3cea0d01",
   "metadata": {
    "ExecuteTime": {
     "end_time": "2023-05-24T09:26:24.554569400Z",
     "start_time": "2023-05-24T09:26:24.551055400Z"
    }
   },
   "outputs": [
    {
     "data": {
      "text/plain": "('2.0.1+cu118', True)"
     },
     "execution_count": 3,
     "metadata": {},
     "output_type": "execute_result"
    }
   ],
   "source": [
    "torch.__version__, torch.cuda.is_available()"
   ]
  },
  {
   "cell_type": "code",
   "execution_count": 4,
   "outputs": [],
   "source": [
    "import os\n",
    "os.environ['TRANSFORMERS_CACHE'] = './cache/'"
   ],
   "metadata": {
    "collapsed": false,
    "ExecuteTime": {
     "end_time": "2023-05-24T09:26:24.555097400Z",
     "start_time": "2023-05-24T09:26:10.249288200Z"
    }
   }
  },
  {
   "cell_type": "code",
   "execution_count": 5,
   "id": "5795f32d",
   "metadata": {
    "ExecuteTime": {
     "end_time": "2023-05-24T09:26:24.639270100Z",
     "start_time": "2023-05-24T09:26:24.553060400Z"
    }
   },
   "outputs": [
    {
     "name": "stderr",
     "output_type": "stream",
     "text": [
      "Global seed set to 56\n"
     ]
    },
    {
     "data": {
      "text/plain": "56"
     },
     "execution_count": 5,
     "metadata": {},
     "output_type": "execute_result"
    }
   ],
   "source": [
    "pl.seed_everything(56, workers=True)"
   ]
  },
  {
   "cell_type": "code",
   "execution_count": 6,
   "id": "a31bc962",
   "metadata": {
    "ExecuteTime": {
     "end_time": "2023-05-24T09:26:31.043231800Z",
     "start_time": "2023-05-24T09:26:24.580441300Z"
    }
   },
   "outputs": [
    {
     "data": {
      "text/plain": "                               main_pic_embeddings_resnet_v1   \nvariantid                                                      \n51195767   [[0.04603629, 0.18839523, -0.09973055, -0.6636...  \\\n53565809   [[1.1471839, -0.665361, 0.7745614, 0.26716197,...   \n56763357   [[-0.90570974, 1.0296293, 1.0769907, 0.27746, ...   \n56961772   [[0.13133773, -0.5577079, 0.32498044, 0.191717...   \n61054740   [[0.21696381, 0.10989461, -0.08012986, 0.69186...   \n...                                                      ...   \n820128810  [[-1.4492652, -0.80129164, -0.12344764, 0.7194...   \n821135769  [[0.012127608, -0.8534423, 0.5415518, -0.44912...   \n822095690  [[0.4248176, -0.15944786, -0.22844064, 0.42768...   \n822101044  [[0.4248176, -0.15944786, -0.22844064, 0.42768...   \n822394794  [[0.48594046, -0.8139478, -0.11380915, -0.3833...   \n\n                                                name_bert_64  \nvariantid                                                     \n51195767   [-0.47045058, 0.67237014, 0.48984158, -0.54485...  \n53565809   [-0.6575592, 0.6522429, 0.5426037, -0.54347897...  \n56763357   [-0.7384308, 0.70784587, 0.3012653, -0.3583719...  \n56961772   [-0.44812852, 0.5283565, 0.28981736, -0.506841...  \n61054740   [-0.72692573, 0.75206333, 0.37740713, -0.52502...  \n...                                                      ...  \n820128810  [-0.8253241, 0.6785133, 0.53978086, -0.4888316...  \n821135769  [-0.7413257, 0.46105132, 0.5639801, -0.5462132...  \n822095690  [-0.49261805, 0.56726897, 0.7037877, -0.697246...  \n822101044  [-0.44051006, 0.54029673, 0.63768685, -0.68040...  \n822394794  [-0.56425023, 0.41288334, 0.5501014, -0.330675...  \n\n[457063 rows x 2 columns]",
      "text/html": "<div>\n<style scoped>\n    .dataframe tbody tr th:only-of-type {\n        vertical-align: middle;\n    }\n\n    .dataframe tbody tr th {\n        vertical-align: top;\n    }\n\n    .dataframe thead th {\n        text-align: right;\n    }\n</style>\n<table border=\"1\" class=\"dataframe\">\n  <thead>\n    <tr style=\"text-align: right;\">\n      <th></th>\n      <th>main_pic_embeddings_resnet_v1</th>\n      <th>name_bert_64</th>\n    </tr>\n    <tr>\n      <th>variantid</th>\n      <th></th>\n      <th></th>\n    </tr>\n  </thead>\n  <tbody>\n    <tr>\n      <th>51195767</th>\n      <td>[[0.04603629, 0.18839523, -0.09973055, -0.6636...</td>\n      <td>[-0.47045058, 0.67237014, 0.48984158, -0.54485...</td>\n    </tr>\n    <tr>\n      <th>53565809</th>\n      <td>[[1.1471839, -0.665361, 0.7745614, 0.26716197,...</td>\n      <td>[-0.6575592, 0.6522429, 0.5426037, -0.54347897...</td>\n    </tr>\n    <tr>\n      <th>56763357</th>\n      <td>[[-0.90570974, 1.0296293, 1.0769907, 0.27746, ...</td>\n      <td>[-0.7384308, 0.70784587, 0.3012653, -0.3583719...</td>\n    </tr>\n    <tr>\n      <th>56961772</th>\n      <td>[[0.13133773, -0.5577079, 0.32498044, 0.191717...</td>\n      <td>[-0.44812852, 0.5283565, 0.28981736, -0.506841...</td>\n    </tr>\n    <tr>\n      <th>61054740</th>\n      <td>[[0.21696381, 0.10989461, -0.08012986, 0.69186...</td>\n      <td>[-0.72692573, 0.75206333, 0.37740713, -0.52502...</td>\n    </tr>\n    <tr>\n      <th>...</th>\n      <td>...</td>\n      <td>...</td>\n    </tr>\n    <tr>\n      <th>820128810</th>\n      <td>[[-1.4492652, -0.80129164, -0.12344764, 0.7194...</td>\n      <td>[-0.8253241, 0.6785133, 0.53978086, -0.4888316...</td>\n    </tr>\n    <tr>\n      <th>821135769</th>\n      <td>[[0.012127608, -0.8534423, 0.5415518, -0.44912...</td>\n      <td>[-0.7413257, 0.46105132, 0.5639801, -0.5462132...</td>\n    </tr>\n    <tr>\n      <th>822095690</th>\n      <td>[[0.4248176, -0.15944786, -0.22844064, 0.42768...</td>\n      <td>[-0.49261805, 0.56726897, 0.7037877, -0.697246...</td>\n    </tr>\n    <tr>\n      <th>822101044</th>\n      <td>[[0.4248176, -0.15944786, -0.22844064, 0.42768...</td>\n      <td>[-0.44051006, 0.54029673, 0.63768685, -0.68040...</td>\n    </tr>\n    <tr>\n      <th>822394794</th>\n      <td>[[0.48594046, -0.8139478, -0.11380915, -0.3833...</td>\n      <td>[-0.56425023, 0.41288334, 0.5501014, -0.330675...</td>\n    </tr>\n  </tbody>\n</table>\n<p>457063 rows × 2 columns</p>\n</div>"
     },
     "execution_count": 6,
     "metadata": {},
     "output_type": "execute_result"
    }
   ],
   "source": [
    "columns = ['variantid', 'main_pic_embeddings_resnet_v1', 'name_bert_64']\n",
    "train_data = pd.read_parquet('./datasets/train_data.parquet', columns=columns).set_index('variantid')\n",
    "test_data = pd.read_parquet('./datasets/test_data.parquet', columns=columns).set_index('variantid')\n",
    "train_data"
   ]
  },
  {
   "cell_type": "code",
   "execution_count": 7,
   "id": "e0cabc66",
   "metadata": {
    "ExecuteTime": {
     "end_time": "2023-05-24T09:26:31.044740200Z",
     "start_time": "2023-05-24T09:26:31.041227800Z"
    }
   },
   "outputs": [
    {
     "data": {
      "text/plain": "        target  variantid1  variantid2\n0            0    51197862    51198054\n1            1    53062686   536165289\n2            1    53602615   587809782\n3            1    53888651    89598677\n4            0    56930698   551526166\n...        ...         ...         ...\n306535       0   817327230   822083612\n306536       0   817560551   818069912\n306537       0   817854719   817857267\n306538       0   820036017   820037019\n306539       0   821514120   821514311\n\n[306540 rows x 3 columns]",
      "text/html": "<div>\n<style scoped>\n    .dataframe tbody tr th:only-of-type {\n        vertical-align: middle;\n    }\n\n    .dataframe tbody tr th {\n        vertical-align: top;\n    }\n\n    .dataframe thead th {\n        text-align: right;\n    }\n</style>\n<table border=\"1\" class=\"dataframe\">\n  <thead>\n    <tr style=\"text-align: right;\">\n      <th></th>\n      <th>target</th>\n      <th>variantid1</th>\n      <th>variantid2</th>\n    </tr>\n  </thead>\n  <tbody>\n    <tr>\n      <th>0</th>\n      <td>0</td>\n      <td>51197862</td>\n      <td>51198054</td>\n    </tr>\n    <tr>\n      <th>1</th>\n      <td>1</td>\n      <td>53062686</td>\n      <td>536165289</td>\n    </tr>\n    <tr>\n      <th>2</th>\n      <td>1</td>\n      <td>53602615</td>\n      <td>587809782</td>\n    </tr>\n    <tr>\n      <th>3</th>\n      <td>1</td>\n      <td>53888651</td>\n      <td>89598677</td>\n    </tr>\n    <tr>\n      <th>4</th>\n      <td>0</td>\n      <td>56930698</td>\n      <td>551526166</td>\n    </tr>\n    <tr>\n      <th>...</th>\n      <td>...</td>\n      <td>...</td>\n      <td>...</td>\n    </tr>\n    <tr>\n      <th>306535</th>\n      <td>0</td>\n      <td>817327230</td>\n      <td>822083612</td>\n    </tr>\n    <tr>\n      <th>306536</th>\n      <td>0</td>\n      <td>817560551</td>\n      <td>818069912</td>\n    </tr>\n    <tr>\n      <th>306537</th>\n      <td>0</td>\n      <td>817854719</td>\n      <td>817857267</td>\n    </tr>\n    <tr>\n      <th>306538</th>\n      <td>0</td>\n      <td>820036017</td>\n      <td>820037019</td>\n    </tr>\n    <tr>\n      <th>306539</th>\n      <td>0</td>\n      <td>821514120</td>\n      <td>821514311</td>\n    </tr>\n  </tbody>\n</table>\n<p>306540 rows × 3 columns</p>\n</div>"
     },
     "execution_count": 7,
     "metadata": {},
     "output_type": "execute_result"
    }
   ],
   "source": [
    "train_pairs = pd.read_parquet('./datasets/train_pairs_w_target.parquet')\n",
    "test_pairs = pd.read_parquet('./datasets/test_pairs_wo_target.parquet')\n",
    "train_pairs['target'] = train_pairs['target'].astype(int)\n",
    "train_pairs"
   ]
  },
  {
   "cell_type": "code",
   "execution_count": 7,
   "id": "923e9967",
   "metadata": {
    "ExecuteTime": {
     "end_time": "2023-05-24T09:26:31.045251600Z",
     "start_time": "2023-05-24T09:26:31.044231900Z"
    }
   },
   "outputs": [],
   "source": []
  },
  {
   "cell_type": "code",
   "execution_count": 8,
   "id": "cf4a585e",
   "metadata": {
    "ExecuteTime": {
     "end_time": "2023-05-24T09:26:50.054631700Z",
     "start_time": "2023-05-24T09:26:31.050274200Z"
    }
   },
   "outputs": [
    {
     "data": {
      "text/plain": "                                              name_labse_768\nvariantid                                                   \n51195767   [-0.033874325, 0.03722446, 0.0029757991, 0.068...\n53565809   [0.015568526, -0.03899538, 0.064447366, 0.0383...\n56763357   [-0.033072222, -0.04237577, 0.020771954, 0.065...\n56961772   [0.014727573, -0.025661988, 0.023943473, -0.00...\n61054740   [0.043145332, -0.052424084, 0.017260496, 0.045...\n...                                                      ...\n820128810  [-0.003678058, -0.031628493, 0.0065589263, 0.0...\n821135769  [-0.06858361, 0.027011767, -0.016400583, -0.02...\n822095690  [-0.04474233, -0.034224413, 0.026076552, 0.026...\n822101044  [-0.05541598, 0.000863006, 0.01093415, 0.02208...\n822394794  [-0.024839332, -0.010900456, 0.035838403, -0.0...\n\n[457063 rows x 1 columns]",
      "text/html": "<div>\n<style scoped>\n    .dataframe tbody tr th:only-of-type {\n        vertical-align: middle;\n    }\n\n    .dataframe tbody tr th {\n        vertical-align: top;\n    }\n\n    .dataframe thead th {\n        text-align: right;\n    }\n</style>\n<table border=\"1\" class=\"dataframe\">\n  <thead>\n    <tr style=\"text-align: right;\">\n      <th></th>\n      <th>name_labse_768</th>\n    </tr>\n    <tr>\n      <th>variantid</th>\n      <th></th>\n    </tr>\n  </thead>\n  <tbody>\n    <tr>\n      <th>51195767</th>\n      <td>[-0.033874325, 0.03722446, 0.0029757991, 0.068...</td>\n    </tr>\n    <tr>\n      <th>53565809</th>\n      <td>[0.015568526, -0.03899538, 0.064447366, 0.0383...</td>\n    </tr>\n    <tr>\n      <th>56763357</th>\n      <td>[-0.033072222, -0.04237577, 0.020771954, 0.065...</td>\n    </tr>\n    <tr>\n      <th>56961772</th>\n      <td>[0.014727573, -0.025661988, 0.023943473, -0.00...</td>\n    </tr>\n    <tr>\n      <th>61054740</th>\n      <td>[0.043145332, -0.052424084, 0.017260496, 0.045...</td>\n    </tr>\n    <tr>\n      <th>...</th>\n      <td>...</td>\n    </tr>\n    <tr>\n      <th>820128810</th>\n      <td>[-0.003678058, -0.031628493, 0.0065589263, 0.0...</td>\n    </tr>\n    <tr>\n      <th>821135769</th>\n      <td>[-0.06858361, 0.027011767, -0.016400583, -0.02...</td>\n    </tr>\n    <tr>\n      <th>822095690</th>\n      <td>[-0.04474233, -0.034224413, 0.026076552, 0.026...</td>\n    </tr>\n    <tr>\n      <th>822101044</th>\n      <td>[-0.05541598, 0.000863006, 0.01093415, 0.02208...</td>\n    </tr>\n    <tr>\n      <th>822394794</th>\n      <td>[-0.024839332, -0.010900456, 0.035838403, -0.0...</td>\n    </tr>\n  </tbody>\n</table>\n<p>457063 rows × 1 columns</p>\n</div>"
     },
     "execution_count": 8,
     "metadata": {},
     "output_type": "execute_result"
    }
   ],
   "source": [
    "name_labse_embs = pd.read_parquet('datasets/name_labse_embs.parquet').set_index('variantid')\n",
    "name_labse_embs"
   ]
  },
  {
   "cell_type": "code",
   "execution_count": 8,
   "id": "633bd441",
   "metadata": {
    "ExecuteTime": {
     "end_time": "2023-05-24T09:26:50.069136800Z",
     "start_time": "2023-05-24T09:26:50.059164100Z"
    }
   },
   "outputs": [],
   "source": []
  },
  {
   "cell_type": "code",
   "execution_count": 9,
   "id": "c912ebfc",
   "metadata": {
    "ExecuteTime": {
     "end_time": "2023-05-24T09:26:50.275253800Z",
     "start_time": "2023-05-24T09:26:50.078199Z"
    }
   },
   "outputs": [],
   "source": [
    "val_pairs = train_pairs[pd.read_csv('./datasets/val_idx.csv', index_col=0).values].copy()\n",
    "train_pairs = train_pairs[pd.read_csv('./datasets/train_idx.csv', index_col=0).values].copy()"
   ]
  },
  {
   "cell_type": "code",
   "execution_count": null,
   "id": "93b0d047",
   "metadata": {},
   "outputs": [],
   "source": []
  },
  {
   "cell_type": "code",
   "execution_count": 8,
   "id": "0e241c4c",
   "metadata": {},
   "outputs": [
    {
     "data": {
      "application/vnd.jupyter.widget-view+json": {
       "model_id": "6112addca6f94f8eb65ebfd699ec5b93",
       "version_major": 2,
       "version_minor": 0
      },
      "text/plain": [
       "  0%|          | 0/151476 [00:00<?, ?it/s]"
      ]
     },
     "metadata": {},
     "output_type": "display_data"
    },
    {
     "name": "stdout",
     "output_type": "stream",
     "text": [
      "65608\n"
     ]
    },
    {
     "data": {
      "text/html": [
       "<div>\n",
       "<style scoped>\n",
       "    .dataframe tbody tr th:only-of-type {\n",
       "        vertical-align: middle;\n",
       "    }\n",
       "\n",
       "    .dataframe tbody tr th {\n",
       "        vertical-align: top;\n",
       "    }\n",
       "\n",
       "    .dataframe thead th {\n",
       "        text-align: right;\n",
       "    }\n",
       "</style>\n",
       "<table border=\"1\" class=\"dataframe\">\n",
       "  <thead>\n",
       "    <tr style=\"text-align: right;\">\n",
       "      <th></th>\n",
       "      <th>target</th>\n",
       "      <th>variantid1</th>\n",
       "      <th>variantid2</th>\n",
       "    </tr>\n",
       "  </thead>\n",
       "  <tbody>\n",
       "    <tr>\n",
       "      <th>289224</th>\n",
       "      <td>0</td>\n",
       "      <td>510049910</td>\n",
       "      <td>510050530</td>\n",
       "    </tr>\n",
       "    <tr>\n",
       "      <th>2357</th>\n",
       "      <td>1</td>\n",
       "      <td>80637721</td>\n",
       "      <td>501978948</td>\n",
       "    </tr>\n",
       "    <tr>\n",
       "      <th>49071</th>\n",
       "      <td>0</td>\n",
       "      <td>53565392</td>\n",
       "      <td>89434955</td>\n",
       "    </tr>\n",
       "    <tr>\n",
       "      <th>10858</th>\n",
       "      <td>1</td>\n",
       "      <td>77458419</td>\n",
       "      <td>426023153</td>\n",
       "    </tr>\n",
       "    <tr>\n",
       "      <th>133164</th>\n",
       "      <td>0</td>\n",
       "      <td>563560139</td>\n",
       "      <td>653233648</td>\n",
       "    </tr>\n",
       "    <tr>\n",
       "      <th>...</th>\n",
       "      <td>...</td>\n",
       "      <td>...</td>\n",
       "      <td>...</td>\n",
       "    </tr>\n",
       "    <tr>\n",
       "      <th>65603</th>\n",
       "      <td>1</td>\n",
       "      <td>659695305</td>\n",
       "      <td>700171302</td>\n",
       "    </tr>\n",
       "    <tr>\n",
       "      <th>65604</th>\n",
       "      <td>1</td>\n",
       "      <td>773459545</td>\n",
       "      <td>776840249</td>\n",
       "    </tr>\n",
       "    <tr>\n",
       "      <th>65605</th>\n",
       "      <td>1</td>\n",
       "      <td>750245639</td>\n",
       "      <td>780670219</td>\n",
       "    </tr>\n",
       "    <tr>\n",
       "      <th>65606</th>\n",
       "      <td>1</td>\n",
       "      <td>532474266</td>\n",
       "      <td>621912422</td>\n",
       "    </tr>\n",
       "    <tr>\n",
       "      <th>65607</th>\n",
       "      <td>1</td>\n",
       "      <td>777934190</td>\n",
       "      <td>779893406</td>\n",
       "    </tr>\n",
       "  </tbody>\n",
       "</table>\n",
       "<p>269968 rows × 3 columns</p>\n",
       "</div>"
      ],
      "text/plain": [
       "        target  variantid1  variantid2\n",
       "289224       0   510049910   510050530\n",
       "2357         1    80637721   501978948\n",
       "49071        0    53565392    89434955\n",
       "10858        1    77458419   426023153\n",
       "133164       0   563560139   653233648\n",
       "...        ...         ...         ...\n",
       "65603        1   659695305   700171302\n",
       "65604        1   773459545   776840249\n",
       "65605        1   750245639   780670219\n",
       "65606        1   532474266   621912422\n",
       "65607        1   777934190   779893406\n",
       "\n",
       "[269968 rows x 3 columns]"
      ]
     },
     "execution_count": 8,
     "metadata": {},
     "output_type": "execute_result"
    }
   ],
   "source": [
    "# говнокод, потом красивее сделаю, не запускать\n",
    "\n",
    "pairs = {}\n",
    "for target, v, u in zip(train_pairs.target, train_pairs.variantid1, train_pairs.variantid2):\n",
    "    if not target:\n",
    "        continue\n",
    "    if v not in pairs:\n",
    "        pairs[v] = {}\n",
    "    if u not in pairs:\n",
    "        pairs[u] = {}\n",
    "        \n",
    "    pairs[v][u] = pairs[u][v] = 1\n",
    "    \n",
    "new_pairs = set()\n",
    "for b in tqdm(pairs):\n",
    "    for a in pairs[b]:\n",
    "        for c in pairs[b]:\n",
    "            if a >= c:\n",
    "                continue\n",
    "            if pairs.get(a, {}).get(c, -1) != 1 and pairs.get(c, {}).get(a, -1) != 1:   \n",
    "                new_pairs.add((a, c))\n",
    "                \n",
    "print(len(new_pairs))\n",
    "\n",
    "tmp = []\n",
    "for a, c in new_pairs:\n",
    "    tmp.append({\n",
    "        'target': 1,\n",
    "        'variantid1': a,\n",
    "        'variantid2': c\n",
    "    })\n",
    "train_pairs = pd.concat([train_pairs, pd.DataFrame(tmp)])\n",
    "train_pairs"
   ]
  },
  {
   "cell_type": "code",
   "execution_count": 8,
   "id": "cd93d9d5",
   "metadata": {
    "ExecuteTime": {
     "end_time": "2023-05-24T09:14:06.912241300Z",
     "start_time": "2023-05-24T09:14:06.896197100Z"
    }
   },
   "outputs": [],
   "source": []
  },
  {
   "cell_type": "code",
   "execution_count": 10,
   "id": "0c25370d",
   "metadata": {
    "ExecuteTime": {
     "end_time": "2023-05-24T09:26:50.288717200Z",
     "start_time": "2023-05-24T09:26:50.275253800Z"
    }
   },
   "outputs": [],
   "source": [
    "class Args:\n",
    "    batch_size = 128\n",
    "    \n",
    "args = Args()"
   ]
  },
  {
   "cell_type": "code",
   "execution_count": 11,
   "id": "8955f29b",
   "metadata": {
    "ExecuteTime": {
     "end_time": "2023-05-24T09:26:50.327418700Z",
     "start_time": "2023-05-24T09:26:50.296275300Z"
    }
   },
   "outputs": [],
   "source": [
    "class ItemsDataset(Dataset):\n",
    "    def __init__(self, pairs, data):\n",
    "        super().__init__()\n",
    "        self.pairs = pairs.values\n",
    "        self.main_pic_embs = data['main_pic_embeddings_resnet_v1']\n",
    "        self.name_embs = data['name_bert_64']\n",
    "        self.name_labse_embs = name_labse_embs['name_labse_768']\n",
    "        self.pairs_len = len(self.pairs)\n",
    "        \n",
    "    def __len__(self):\n",
    "        return self.pairs_len\n",
    "\n",
    "    def __getitem__(self, idx):\n",
    "        target, id1, id2 = self.pairs[idx, :]\n",
    "        return (\n",
    "            torch.tensor(np.concatenate([self.main_pic_embs[id1][0], self.name_embs[id1], self.name_labse_embs[id1]])),\n",
    "            torch.tensor(np.concatenate([self.main_pic_embs[id2][0], self.name_embs[id2], self.name_labse_embs[id2]])),\n",
    "            target\n",
    "        )"
   ]
  },
  {
   "cell_type": "code",
   "execution_count": 12,
   "id": "e40e3ffd",
   "metadata": {
    "ExecuteTime": {
     "end_time": "2023-05-24T09:26:50.328417900Z",
     "start_time": "2023-05-24T09:26:50.312369500Z"
    }
   },
   "outputs": [],
   "source": [
    "def get_data_loader(pairs, data, batch_size, drop_last, shuffle):\n",
    "    dataset = ItemsDataset(pairs, data)\n",
    "    data_loader = torch.utils.data.DataLoader(\n",
    "        dataset=dataset,\n",
    "        batch_size=batch_size,\n",
    "        num_workers=0,\n",
    "        drop_last=drop_last,\n",
    "        shuffle=shuffle,\n",
    "        pin_memory=True\n",
    "    )\n",
    "    return data_loader"
   ]
  },
  {
   "cell_type": "code",
   "execution_count": 13,
   "id": "0e1ef7cc",
   "metadata": {
    "ExecuteTime": {
     "end_time": "2023-05-24T09:26:50.335201100Z",
     "start_time": "2023-05-24T09:26:50.324398600Z"
    }
   },
   "outputs": [],
   "source": [
    "def get_loaders(args):\n",
    "    train_loader = get_data_loader(\n",
    "        pairs=train_pairs,\n",
    "        data=train_data,\n",
    "        batch_size=args.batch_size,\n",
    "        drop_last=True,\n",
    "        shuffle=True\n",
    "    )\n",
    "    \n",
    "    val_loader = get_data_loader(\n",
    "        pairs=val_pairs,\n",
    "        data=train_data,\n",
    "        batch_size=args.batch_size,\n",
    "        drop_last=False,\n",
    "        shuffle=False\n",
    "    )\n",
    "    return train_loader, val_loader"
   ]
  },
  {
   "cell_type": "code",
   "execution_count": 14,
   "id": "7c6d7ad8",
   "metadata": {
    "ExecuteTime": {
     "end_time": "2023-05-24T09:26:50.410912Z",
     "start_time": "2023-05-24T09:26:50.337210700Z"
    }
   },
   "outputs": [
    {
     "data": {
      "text/plain": "(1596, 799)"
     },
     "execution_count": 14,
     "metadata": {},
     "output_type": "execute_result"
    }
   ],
   "source": [
    "train_loader, val_loader = get_loaders(args)\n",
    "len(train_loader), len(val_loader)"
   ]
  },
  {
   "cell_type": "code",
   "execution_count": 15,
   "id": "f78907fe",
   "metadata": {
    "ExecuteTime": {
     "end_time": "2023-05-24T09:26:53.477220300Z",
     "start_time": "2023-05-24T09:26:50.376144Z"
    }
   },
   "outputs": [
    {
     "data": {
      "text/plain": "[tensor([[-0.0033,  0.3253, -0.3316,  ...,  0.0320, -0.0337,  0.0175],\n         [ 0.5036,  1.1200,  0.4510,  ..., -0.0030, -0.0146,  0.0319],\n         [ 0.6642,  0.1197, -0.4183,  ..., -0.0487,  0.0181, -0.0069],\n         ...,\n         [ 0.1602,  0.4336,  1.1637,  ..., -0.0239, -0.0025,  0.0517],\n         [ 0.2676,  0.3940,  0.0577,  ..., -0.0442, -0.0347,  0.0413],\n         [ 0.3402, -0.2419,  0.6450,  ...,  0.0063,  0.0079,  0.0351]]),\n tensor([[-0.0436,  0.4931, -0.3070,  ...,  0.0513,  0.0016,  0.0265],\n         [ 0.4324,  0.8119,  0.3148,  ...,  0.0115, -0.0241,  0.0392],\n         [ 0.5154, -0.0099, -0.0911,  ..., -0.0433, -0.0030,  0.0253],\n         ...,\n         [ 0.2441,  0.4533,  1.0758,  ..., -0.0172, -0.0187,  0.0324],\n         [ 0.1112,  0.4518,  0.0059,  ..., -0.0591, -0.0101,  0.0195],\n         [ 0.3746, -0.2451,  0.7209,  ...,  0.0077, -0.0119,  0.0352]]),\n tensor([1, 1, 1, 1, 1, 1, 1, 0, 0, 1, 1, 1, 1, 0, 0, 1, 1, 0, 0, 0, 1, 1, 0, 1,\n         1, 1, 1, 1, 1, 1, 1, 1, 1, 0, 0, 0, 1, 0, 0, 0, 1, 1, 0, 1, 1, 1, 0, 0,\n         0, 0, 0, 0, 1, 1, 1, 0, 1, 1, 1, 0, 0, 0, 1, 0, 1, 1, 1, 0, 0, 0, 0, 1,\n         1, 1, 0, 0, 1, 0, 0, 0, 1, 1, 1, 1, 1, 1, 0, 0, 0, 1, 1, 1, 1, 1, 1, 1,\n         0, 0, 0, 0, 0, 1, 0, 0, 1, 1, 1, 1, 1, 1, 0, 1, 0, 1, 1, 1, 0, 0, 0, 0,\n         1, 1, 1, 0, 0, 0, 1, 1])]"
     },
     "execution_count": 15,
     "metadata": {},
     "output_type": "execute_result"
    }
   ],
   "source": [
    "next(iter(val_loader))"
   ]
  },
  {
   "cell_type": "code",
   "execution_count": 18,
   "id": "20026910",
   "metadata": {
    "ExecuteTime": {
     "end_time": "2023-05-24T09:45:37.636405600Z",
     "start_time": "2023-05-24T09:45:37.611598300Z"
    }
   },
   "outputs": [],
   "source": [
    "class EmbDeberta(pl.LightningModule):\n",
    "    margin = 0.75\n",
    "    \n",
    "    def __init__(self):\n",
    "        super(EmbDeberta, self).__init__()\n",
    "\n",
    "        features_num = 128 + 64 + 768\n",
    "\n",
    "        hidden_size = (features_num + 512) / 2\n",
    "\n",
    "        self.embedding_dropout = nn.Dropout2d(0.05)\n",
    "\n",
    "        deberta_cfg = DebertaV2Config(vocab_size = 100,\n",
    "                              hidden_size = hidden_size,\n",
    "                              num_hidden_layers = 8, # [1; 4]\n",
    "                              num_attention_heads = 3, # [1, 3]\n",
    "                              intermediate_size = 1024,\n",
    "                              hidden_act = 'gelu',\n",
    "                              hidden_dropout_prob = 0.1,\n",
    "                              attention_probs_dropout_prob = 0.1,\n",
    "                              max_position_embeddings = 512,\n",
    "                              type_vocab_size = 2,\n",
    "                              initializer_range = 0.02,\n",
    "                              layer_norm_eps = 1e-12,\n",
    "                              pad_token_id = 0,\n",
    "                              position_embedding_type = 'absolute',\n",
    "                              use_cache = True,\n",
    "                              classifier_dropout = None,\n",
    "                              )\n",
    "\n",
    "        self.deberta = DebertaV2Model(deberta_cfg, )\n",
    "\n",
    "        embedding_size = 256\n",
    "        self.neck = nn.Sequential(\n",
    "            nn.BatchNorm1d(features_num),\n",
    "            nn.Linear(features_num, embedding_size, bias=False),\n",
    "            nn.ReLU(inplace=True),\n",
    "            nn.BatchNorm1d(embedding_size),\n",
    "            nn.Linear(embedding_size, embedding_size, bias=False),\n",
    "            nn.BatchNorm1d(embedding_size),\n",
    "        )\n",
    "        \n",
    "    def forward(self, x):\n",
    "\n",
    "        concated_embeddings = torch.cat(x, dim=-1)\n",
    "        dropout_embeddings = self.embedding_dropout(concated_embeddings)\n",
    "\n",
    "        attention_mask = torch.ones(dropout_embeddings.size())\n",
    "        last_hidden = self.deberta.encoder(concated_embeddings, attention_mask)\n",
    "\n",
    "        last_hidden = torch.concat([last_hidden[0].mean(1), last_hidden[0].max(1)[0]], -1)\n",
    "\n",
    "        outputs = self.neck(last_hidden)\n",
    "\n",
    "        return outputs\n",
    "\n",
    "    \n",
    "    def configure_optimizers(self):\n",
    "        optimizer = torch.optim.AdamW(\n",
    "            self.parameters(), lr=1e-4, betas=(0.9, 0.999), weight_decay=0.05\n",
    "        )\n",
    "        # optimizer = torch.optim.SGD(self.parameters(), lr=1e-1, momentum=0.9, weight_decay=0.0001)\n",
    "        return (\n",
    "            {\n",
    "                \"optimizer\": optimizer,\n",
    "            },\n",
    "        )\n",
    "    \n",
    "    def training_step(self, batch, batch_idx):\n",
    "        # self.log('step', batch_idx, logger=True, on_epoch=True)\n",
    "        x1, x2, labels = batch\n",
    "        out1 = self.forward(x1)\n",
    "        out2 = self.forward(x2)\n",
    "        \n",
    "        fnorm = torch.norm(out1, p=2, dim=1, keepdim=True)\n",
    "        out1 = out1.div(fnorm.expand_as(out1))\n",
    "        fnorm = torch.norm(out2, p=2, dim=1, keepdim=True)\n",
    "        out2 = out2.div(fnorm.expand_as(out2))\n",
    "        \n",
    "        dists = nn.PairwiseDistance()(out1, out2)\n",
    "        loss = (labels) * torch.pow(dists, 2) + (1 - labels) * torch.pow(torch.clamp(self.margin - dists, min=0.0), 2)\n",
    "        loss = torch.mean(loss)\n",
    "        self.log(\"train_loss\", loss, on_step=False, logger=False, on_epoch=True, prog_bar=True)\n",
    "        return loss\n",
    "    \n",
    "    def validation_step(self, batch, batch_idx):        \n",
    "        x1, x2, labels = batch\n",
    "        out1 = self.forward(x1)\n",
    "        out2 = self.forward(x2)\n",
    "        \n",
    "        fnorm = torch.norm(out1, p=2, dim=1, keepdim=True)\n",
    "        out1 = out1.div(fnorm.expand_as(out1))\n",
    "        fnorm = torch.norm(out2, p=2, dim=1, keepdim=True)\n",
    "        out2 = out2.div(fnorm.expand_as(out2))\n",
    "        \n",
    "        dists = nn.PairwiseDistance()(out1, out2)\n",
    "        loss = (labels) * torch.pow(dists, 2) + (1 - labels) * torch.pow(torch.clamp(self.margin - dists, min=0.0), 2)\n",
    "        loss = torch.mean(loss)\n",
    "        self.log(\"val_loss\", loss, logger=False, on_epoch=True, prog_bar=True)   \n",
    "        \n",
    "        try:\n",
    "            auc = roc_auc_score(labels.detach().cpu(), 1 - dists.detach().cpu())\n",
    "        except:\n",
    "            auc = 0\n",
    "            \n",
    "        self.log(\"val_auc\", auc, logger=False, on_epoch=True, prog_bar=True)\n",
    "        \n",
    "    def train_dataloader(self):\n",
    "        return train_loader\n",
    "\n",
    "    def val_dataloader(self):\n",
    "        return val_loader\n",
    "    \n",
    "    def predict_step(self, batch, batch_idx):\n",
    "        x1, x2, labels = batch\n",
    "        out1 = self.forward(x1)\n",
    "        out2 = self.forward(x2)\n",
    "        \n",
    "        fnorm = torch.norm(out1, p=2, dim=1, keepdim=True)\n",
    "        out1 = out1.div(fnorm.expand_as(out1))\n",
    "        fnorm = torch.norm(out2, p=2, dim=1, keepdim=True)\n",
    "        out2 = out2.div(fnorm.expand_as(out2))\n",
    "        \n",
    "        dists = nn.PairwiseDistance()(out1, out2)\n",
    "        return torch.cat([out1, out2, (1 - dists).unsqueeze(-1)], dim=1).detach().cpu()"
   ]
  },
  {
   "cell_type": "code",
   "execution_count": 19,
   "id": "5ee41190",
   "metadata": {
    "ExecuteTime": {
     "end_time": "2023-05-24T09:45:38.732627900Z",
     "start_time": "2023-05-24T09:45:38.492065600Z"
    }
   },
   "outputs": [
    {
     "ename": "TypeError",
     "evalue": "empty(): argument 'size' must be tuple of ints, but found element of type float at pos 2",
     "output_type": "error",
     "traceback": [
      "\u001B[1;31m---------------------------------------------------------------------------\u001B[0m",
      "\u001B[1;31mTypeError\u001B[0m                                 Traceback (most recent call last)",
      "Cell \u001B[1;32mIn[19], line 1\u001B[0m\n\u001B[1;32m----> 1\u001B[0m model \u001B[38;5;241m=\u001B[39m \u001B[43mEmbDeberta\u001B[49m\u001B[43m(\u001B[49m\u001B[43m)\u001B[49m\n",
      "Cell \u001B[1;32mIn[18], line 31\u001B[0m, in \u001B[0;36mEmbDeberta.__init__\u001B[1;34m(self)\u001B[0m\n\u001B[0;32m     11\u001B[0m \u001B[38;5;28mself\u001B[39m\u001B[38;5;241m.\u001B[39membedding_dropout \u001B[38;5;241m=\u001B[39m nn\u001B[38;5;241m.\u001B[39mDropout2d(\u001B[38;5;241m0.05\u001B[39m)\n\u001B[0;32m     13\u001B[0m deberta_cfg \u001B[38;5;241m=\u001B[39m DebertaV2Config(vocab_size \u001B[38;5;241m=\u001B[39m \u001B[38;5;241m100\u001B[39m,\n\u001B[0;32m     14\u001B[0m                       hidden_size \u001B[38;5;241m=\u001B[39m hidden_size,\n\u001B[0;32m     15\u001B[0m                       num_hidden_layers \u001B[38;5;241m=\u001B[39m \u001B[38;5;241m8\u001B[39m, \u001B[38;5;66;03m# [1; 4]\u001B[39;00m\n\u001B[1;32m   (...)\u001B[0m\n\u001B[0;32m     28\u001B[0m                       classifier_dropout \u001B[38;5;241m=\u001B[39m \u001B[38;5;28;01mNone\u001B[39;00m,\n\u001B[0;32m     29\u001B[0m                       )\n\u001B[1;32m---> 31\u001B[0m \u001B[38;5;28mself\u001B[39m\u001B[38;5;241m.\u001B[39mdeberta \u001B[38;5;241m=\u001B[39m \u001B[43mDebertaV2Model\u001B[49m\u001B[43m(\u001B[49m\u001B[43mdeberta_cfg\u001B[49m\u001B[43m,\u001B[49m\u001B[43m \u001B[49m\u001B[43m)\u001B[49m\n\u001B[0;32m     33\u001B[0m embedding_size \u001B[38;5;241m=\u001B[39m \u001B[38;5;241m256\u001B[39m\n\u001B[0;32m     34\u001B[0m \u001B[38;5;28mself\u001B[39m\u001B[38;5;241m.\u001B[39mneck \u001B[38;5;241m=\u001B[39m nn\u001B[38;5;241m.\u001B[39mSequential(\n\u001B[0;32m     35\u001B[0m     nn\u001B[38;5;241m.\u001B[39mBatchNorm1d(features_num),\n\u001B[0;32m     36\u001B[0m     nn\u001B[38;5;241m.\u001B[39mLinear(features_num, embedding_size, bias\u001B[38;5;241m=\u001B[39m\u001B[38;5;28;01mFalse\u001B[39;00m),\n\u001B[1;32m   (...)\u001B[0m\n\u001B[0;32m     40\u001B[0m     nn\u001B[38;5;241m.\u001B[39mBatchNorm1d(embedding_size),\n\u001B[0;32m     41\u001B[0m )\n",
      "File \u001B[1;32mD:\\python_projects\\ozon-hack-2023\\venv\\lib\\site-packages\\transformers\\models\\deberta_v2\\modeling_deberta_v2.py:1016\u001B[0m, in \u001B[0;36mDebertaV2Model.__init__\u001B[1;34m(self, config)\u001B[0m\n\u001B[0;32m   1013\u001B[0m \u001B[38;5;28;01mdef\u001B[39;00m \u001B[38;5;21m__init__\u001B[39m(\u001B[38;5;28mself\u001B[39m, config):\n\u001B[0;32m   1014\u001B[0m     \u001B[38;5;28msuper\u001B[39m()\u001B[38;5;241m.\u001B[39m\u001B[38;5;21m__init__\u001B[39m(config)\n\u001B[1;32m-> 1016\u001B[0m     \u001B[38;5;28mself\u001B[39m\u001B[38;5;241m.\u001B[39membeddings \u001B[38;5;241m=\u001B[39m \u001B[43mDebertaV2Embeddings\u001B[49m\u001B[43m(\u001B[49m\u001B[43mconfig\u001B[49m\u001B[43m)\u001B[49m\n\u001B[0;32m   1017\u001B[0m     \u001B[38;5;28mself\u001B[39m\u001B[38;5;241m.\u001B[39mencoder \u001B[38;5;241m=\u001B[39m DebertaV2Encoder(config)\n\u001B[0;32m   1018\u001B[0m     \u001B[38;5;28mself\u001B[39m\u001B[38;5;241m.\u001B[39mz_steps \u001B[38;5;241m=\u001B[39m \u001B[38;5;241m0\u001B[39m\n",
      "File \u001B[1;32mD:\\python_projects\\ozon-hack-2023\\venv\\lib\\site-packages\\transformers\\models\\deberta_v2\\modeling_deberta_v2.py:848\u001B[0m, in \u001B[0;36mDebertaV2Embeddings.__init__\u001B[1;34m(self, config)\u001B[0m\n\u001B[0;32m    846\u001B[0m pad_token_id \u001B[38;5;241m=\u001B[39m \u001B[38;5;28mgetattr\u001B[39m(config, \u001B[38;5;124m\"\u001B[39m\u001B[38;5;124mpad_token_id\u001B[39m\u001B[38;5;124m\"\u001B[39m, \u001B[38;5;241m0\u001B[39m)\n\u001B[0;32m    847\u001B[0m \u001B[38;5;28mself\u001B[39m\u001B[38;5;241m.\u001B[39membedding_size \u001B[38;5;241m=\u001B[39m \u001B[38;5;28mgetattr\u001B[39m(config, \u001B[38;5;124m\"\u001B[39m\u001B[38;5;124membedding_size\u001B[39m\u001B[38;5;124m\"\u001B[39m, config\u001B[38;5;241m.\u001B[39mhidden_size)\n\u001B[1;32m--> 848\u001B[0m \u001B[38;5;28mself\u001B[39m\u001B[38;5;241m.\u001B[39mword_embeddings \u001B[38;5;241m=\u001B[39m \u001B[43mnn\u001B[49m\u001B[38;5;241;43m.\u001B[39;49m\u001B[43mEmbedding\u001B[49m\u001B[43m(\u001B[49m\u001B[43mconfig\u001B[49m\u001B[38;5;241;43m.\u001B[39;49m\u001B[43mvocab_size\u001B[49m\u001B[43m,\u001B[49m\u001B[43m \u001B[49m\u001B[38;5;28;43mself\u001B[39;49m\u001B[38;5;241;43m.\u001B[39;49m\u001B[43membedding_size\u001B[49m\u001B[43m,\u001B[49m\u001B[43m \u001B[49m\u001B[43mpadding_idx\u001B[49m\u001B[38;5;241;43m=\u001B[39;49m\u001B[43mpad_token_id\u001B[49m\u001B[43m)\u001B[49m\n\u001B[0;32m    850\u001B[0m \u001B[38;5;28mself\u001B[39m\u001B[38;5;241m.\u001B[39mposition_biased_input \u001B[38;5;241m=\u001B[39m \u001B[38;5;28mgetattr\u001B[39m(config, \u001B[38;5;124m\"\u001B[39m\u001B[38;5;124mposition_biased_input\u001B[39m\u001B[38;5;124m\"\u001B[39m, \u001B[38;5;28;01mTrue\u001B[39;00m)\n\u001B[0;32m    851\u001B[0m \u001B[38;5;28;01mif\u001B[39;00m \u001B[38;5;129;01mnot\u001B[39;00m \u001B[38;5;28mself\u001B[39m\u001B[38;5;241m.\u001B[39mposition_biased_input:\n",
      "File \u001B[1;32mD:\\python_projects\\ozon-hack-2023\\venv\\lib\\site-packages\\torch\\nn\\modules\\sparse.py:142\u001B[0m, in \u001B[0;36mEmbedding.__init__\u001B[1;34m(self, num_embeddings, embedding_dim, padding_idx, max_norm, norm_type, scale_grad_by_freq, sparse, _weight, _freeze, device, dtype)\u001B[0m\n\u001B[0;32m    140\u001B[0m \u001B[38;5;28mself\u001B[39m\u001B[38;5;241m.\u001B[39mscale_grad_by_freq \u001B[38;5;241m=\u001B[39m scale_grad_by_freq\n\u001B[0;32m    141\u001B[0m \u001B[38;5;28;01mif\u001B[39;00m _weight \u001B[38;5;129;01mis\u001B[39;00m \u001B[38;5;28;01mNone\u001B[39;00m:\n\u001B[1;32m--> 142\u001B[0m     \u001B[38;5;28mself\u001B[39m\u001B[38;5;241m.\u001B[39mweight \u001B[38;5;241m=\u001B[39m Parameter(torch\u001B[38;5;241m.\u001B[39mempty((num_embeddings, embedding_dim), \u001B[38;5;241m*\u001B[39m\u001B[38;5;241m*\u001B[39mfactory_kwargs),\n\u001B[0;32m    143\u001B[0m                             requires_grad\u001B[38;5;241m=\u001B[39m\u001B[38;5;129;01mnot\u001B[39;00m _freeze)\n\u001B[0;32m    144\u001B[0m     \u001B[38;5;28mself\u001B[39m\u001B[38;5;241m.\u001B[39mreset_parameters()\n\u001B[0;32m    145\u001B[0m \u001B[38;5;28;01melse\u001B[39;00m:\n",
      "\u001B[1;31mTypeError\u001B[0m: empty(): argument 'size' must be tuple of ints, but found element of type float at pos 2"
     ]
    }
   ],
   "source": [
    "model = EmbDeberta()"
   ]
  },
  {
   "cell_type": "code",
   "execution_count": null,
   "id": "55ef7cc2",
   "metadata": {},
   "outputs": [],
   "source": [
    "import torchinfo\n",
    "\n",
    "torchinfo.summary(model)"
   ]
  },
  {
   "cell_type": "code",
   "execution_count": 23,
   "id": "55224dc6",
   "metadata": {
    "scrolled": false
   },
   "outputs": [
    {
     "data": {
      "application/vnd.jupyter.widget-view+json": {
       "model_id": "",
       "version_major": 2,
       "version_minor": 0
      },
      "text/plain": [
       "Sanity Checking: 0it [00:00, ?it/s]"
      ]
     },
     "metadata": {},
     "output_type": "display_data"
    },
    {
     "name": "stderr",
     "output_type": "stream",
     "text": [
      "2023-05-22 19:24:24,280 [18672] WARNING  py.warnings:109: [JupyterRequire] C:\\Users\\Konder\\AppData\\Roaming\\Python\\Python38\\site-packages\\pytorch_lightning\\trainer\\connectors\\data_connector.py:430: PossibleUserWarning: The dataloader, val_dataloader, does not have many workers which may be a bottleneck. Consider increasing the value of the `num_workers` argument` (try 24 which is the number of cpus on this machine) in the `DataLoader` init to improve performance.\n",
      "  rank_zero_warn(\n",
      "\n",
      "2023-05-22 19:24:24,346 [18672] WARNING  py.warnings:109: [JupyterRequire] C:\\Users\\Konder\\AppData\\Roaming\\Python\\Python38\\site-packages\\pytorch_lightning\\trainer\\connectors\\data_connector.py:430: PossibleUserWarning: The dataloader, train_dataloader, does not have many workers which may be a bottleneck. Consider increasing the value of the `num_workers` argument` (try 24 which is the number of cpus on this machine) in the `DataLoader` init to improve performance.\n",
      "  rank_zero_warn(\n",
      "\n"
     ]
    },
    {
     "data": {
      "application/vnd.jupyter.widget-view+json": {
       "model_id": "149ba637b6124257b4910e05e9f817a8",
       "version_major": 2,
       "version_minor": 0
      },
      "text/plain": [
       "Training: 0it [00:00, ?it/s]"
      ]
     },
     "metadata": {},
     "output_type": "display_data"
    },
    {
     "data": {
      "application/vnd.jupyter.widget-view+json": {
       "model_id": "",
       "version_major": 2,
       "version_minor": 0
      },
      "text/plain": [
       "Validation: 0it [00:00, ?it/s]"
      ]
     },
     "metadata": {},
     "output_type": "display_data"
    },
    {
     "data": {
      "application/vnd.jupyter.widget-view+json": {
       "model_id": "",
       "version_major": 2,
       "version_minor": 0
      },
      "text/plain": [
       "Validation: 0it [00:00, ?it/s]"
      ]
     },
     "metadata": {},
     "output_type": "display_data"
    },
    {
     "data": {
      "application/vnd.jupyter.widget-view+json": {
       "model_id": "",
       "version_major": 2,
       "version_minor": 0
      },
      "text/plain": [
       "Validation: 0it [00:00, ?it/s]"
      ]
     },
     "metadata": {},
     "output_type": "display_data"
    },
    {
     "data": {
      "application/vnd.jupyter.widget-view+json": {
       "model_id": "",
       "version_major": 2,
       "version_minor": 0
      },
      "text/plain": [
       "Validation: 0it [00:00, ?it/s]"
      ]
     },
     "metadata": {},
     "output_type": "display_data"
    },
    {
     "data": {
      "application/vnd.jupyter.widget-view+json": {
       "model_id": "",
       "version_major": 2,
       "version_minor": 0
      },
      "text/plain": [
       "Validation: 0it [00:00, ?it/s]"
      ]
     },
     "metadata": {},
     "output_type": "display_data"
    },
    {
     "data": {
      "application/vnd.jupyter.widget-view+json": {
       "model_id": "",
       "version_major": 2,
       "version_minor": 0
      },
      "text/plain": [
       "Validation: 0it [00:00, ?it/s]"
      ]
     },
     "metadata": {},
     "output_type": "display_data"
    },
    {
     "data": {
      "application/vnd.jupyter.widget-view+json": {
       "model_id": "",
       "version_major": 2,
       "version_minor": 0
      },
      "text/plain": [
       "Validation: 0it [00:00, ?it/s]"
      ]
     },
     "metadata": {},
     "output_type": "display_data"
    },
    {
     "data": {
      "application/vnd.jupyter.widget-view+json": {
       "model_id": "",
       "version_major": 2,
       "version_minor": 0
      },
      "text/plain": [
       "Validation: 0it [00:00, ?it/s]"
      ]
     },
     "metadata": {},
     "output_type": "display_data"
    },
    {
     "data": {
      "application/vnd.jupyter.widget-view+json": {
       "model_id": "",
       "version_major": 2,
       "version_minor": 0
      },
      "text/plain": [
       "Validation: 0it [00:00, ?it/s]"
      ]
     },
     "metadata": {},
     "output_type": "display_data"
    },
    {
     "data": {
      "application/vnd.jupyter.widget-view+json": {
       "model_id": "",
       "version_major": 2,
       "version_minor": 0
      },
      "text/plain": [
       "Validation: 0it [00:00, ?it/s]"
      ]
     },
     "metadata": {},
     "output_type": "display_data"
    }
   ],
   "source": [
    "trainer = pl.Trainer(\n",
    "    logger=False, # CSVLogger('./'),\n",
    "    enable_checkpointing=False,\n",
    "    \n",
    "    accelerator='gpu', \n",
    "    devices=1,\n",
    "    profiler='advanced',\n",
    "    precision=16,\n",
    "    check_val_every_n_epoch=1,\n",
    "    max_epochs=10\n",
    ")\n",
    "\n",
    "trainer.fit(model)"
   ]
  },
  {
   "cell_type": "code",
   "execution_count": null,
   "id": "b9807888",
   "metadata": {},
   "outputs": [],
   "source": []
  },
  {
   "cell_type": "code",
   "execution_count": 24,
   "id": "f13a865e",
   "metadata": {},
   "outputs": [
    {
     "name": "stderr",
     "output_type": "stream",
     "text": [
      "2023-05-22 19:33:47,069 [18672] WARNING  py.warnings:109: [JupyterRequire] C:\\Users\\Konder\\AppData\\Roaming\\Python\\Python38\\site-packages\\pytorch_lightning\\trainer\\connectors\\data_connector.py:430: PossibleUserWarning: The dataloader, predict_dataloader, does not have many workers which may be a bottleneck. Consider increasing the value of the `num_workers` argument` (try 24 which is the number of cpus on this machine) in the `DataLoader` init to improve performance.\n",
      "  rank_zero_warn(\n",
      "\n"
     ]
    },
    {
     "data": {
      "application/vnd.jupyter.widget-view+json": {
       "model_id": "1048a3d1641445e583be791f07002884",
       "version_major": 2,
       "version_minor": 0
      },
      "text/plain": [
       "Predicting: 0it [00:00, ?it/s]"
      ]
     },
     "metadata": {},
     "output_type": "display_data"
    }
   ],
   "source": [
    "test_preds = trainer.predict(model, val_loader)"
   ]
  },
  {
   "cell_type": "code",
   "execution_count": 25,
   "id": "6d1f6db3",
   "metadata": {},
   "outputs": [
    {
     "data": {
      "text/plain": [
       "0.8705586711845904"
      ]
     },
     "execution_count": 25,
     "metadata": {},
     "output_type": "execute_result"
    }
   ],
   "source": [
    "roc_auc_score(val_pairs.target, np.concatenate([pred.numpy()[:, -1] for pred in test_preds]))"
   ]
  },
  {
   "cell_type": "raw",
   "id": "90b37a4f",
   "metadata": {},
   "source": [
    "0.8705586711845904"
   ]
  },
  {
   "cell_type": "code",
   "execution_count": null,
   "id": "f325131a",
   "metadata": {},
   "outputs": [],
   "source": []
  },
  {
   "cell_type": "code",
   "execution_count": 26,
   "id": "72f60750",
   "metadata": {},
   "outputs": [],
   "source": [
    "train_dataset = ItemsDataset(train_pairs, train_data)\n",
    "train_loader = torch.utils.data.DataLoader(\n",
    "    dataset=train_dataset,\n",
    "    batch_size=args.batch_size,\n",
    "    num_workers=0,\n",
    "    drop_last=False,\n",
    "    shuffle=False,\n",
    "    pin_memory=True\n",
    ")"
   ]
  },
  {
   "cell_type": "code",
   "execution_count": 27,
   "id": "48a697ef",
   "metadata": {},
   "outputs": [
    {
     "name": "stderr",
     "output_type": "stream",
     "text": [
      "2023-05-22 19:34:00,498 [18672] WARNING  py.warnings:109: [JupyterRequire] C:\\Users\\Konder\\AppData\\Roaming\\Python\\Python38\\site-packages\\pytorch_lightning\\trainer\\connectors\\data_connector.py:430: PossibleUserWarning: The dataloader, predict_dataloader, does not have many workers which may be a bottleneck. Consider increasing the value of the `num_workers` argument` (try 24 which is the number of cpus on this machine) in the `DataLoader` init to improve performance.\n",
      "  rank_zero_warn(\n",
      "\n"
     ]
    },
    {
     "data": {
      "application/vnd.jupyter.widget-view+json": {
       "model_id": "d93ae6c51c8048f9a5309281f2e12ce4",
       "version_major": 2,
       "version_minor": 0
      },
      "text/plain": [
       "Predicting: 0it [00:00, ?it/s]"
      ]
     },
     "metadata": {},
     "output_type": "display_data"
    }
   ],
   "source": [
    "features = np.concatenate([pred.numpy() for pred in trainer.predict(model, train_loader)])"
   ]
  },
  {
   "cell_type": "code",
   "execution_count": 28,
   "id": "c0c04635",
   "metadata": {},
   "outputs": [
    {
     "data": {
      "application/vnd.jupyter.widget-view+json": {
       "model_id": "8c1828546d8e4030aabe612b677e8349",
       "version_major": 2,
       "version_minor": 0
      },
      "text/plain": [
       "Predicting: 0it [00:00, ?it/s]"
      ]
     },
     "metadata": {},
     "output_type": "display_data"
    }
   ],
   "source": [
    "val_features = np.concatenate([pred.numpy() for pred in trainer.predict(model, val_loader)])"
   ]
  },
  {
   "cell_type": "code",
   "execution_count": 29,
   "id": "9c56e583",
   "metadata": {},
   "outputs": [
    {
     "name": "stderr",
     "output_type": "stream",
     "text": [
      "2023-05-22 19:34:49,961 [18672] WARNING  py.warnings:109: [JupyterRequire] C:\\Users\\Konder\\AppData\\Roaming\\Python\\Python38\\site-packages\\xgboost\\compat.py:36: FutureWarning: pandas.Int64Index is deprecated and will be removed from pandas in a future version. Use pandas.Index with the appropriate dtype instead.\n",
      "  from pandas import MultiIndex, Int64Index\n",
      "\n"
     ]
    }
   ],
   "source": [
    "from catboost import CatBoostClassifier, Pool, cv"
   ]
  },
  {
   "cell_type": "code",
   "execution_count": 30,
   "id": "1a434e41",
   "metadata": {},
   "outputs": [],
   "source": [
    "train_pool = Pool(\n",
    "    data=features,\n",
    "    label=train_pairs.target,\n",
    ")\n",
    "\n",
    "val_pool = Pool(\n",
    "    data=val_features,\n",
    "    label=val_pairs.target,\n",
    ")"
   ]
  },
  {
   "cell_type": "code",
   "execution_count": 47,
   "id": "9b04b2d3",
   "metadata": {},
   "outputs": [],
   "source": [
    "params = {\n",
    "    'loss_function': 'Logloss',\n",
    "    'custom_metric': ['AUC'],\n",
    "    'task_type': 'CPU',\n",
    "}"
   ]
  },
  {
   "cell_type": "code",
   "execution_count": 48,
   "id": "92df1dad",
   "metadata": {},
   "outputs": [
    {
     "data": {
      "application/vnd.jupyter.widget-view+json": {
       "model_id": "6b629a6fc70046a193abb7192dc3b9b4",
       "version_major": 2,
       "version_minor": 0
      },
      "text/plain": [
       "MetricVisualizer(layout=Layout(align_self='stretch', height='500px'))"
      ]
     },
     "metadata": {},
     "output_type": "display_data"
    },
    {
     "name": "stderr",
     "output_type": "stream",
     "text": [
      "Warning: less than 75% gpu memory available for training. Free: 5996.849999 Total: 8191.5625\n",
      "Default metric period is 5 because AUC is/are not implemented for GPU\n"
     ]
    },
    {
     "data": {
      "text/plain": [
       "<catboost.core.CatBoostClassifier at 0x1a692774700>"
      ]
     },
     "execution_count": 48,
     "metadata": {},
     "output_type": "execute_result"
    }
   ],
   "source": [
    "model_cb = CatBoostClassifier(**params, random_seed=56)\n",
    "model_cb.fit(train_pool, eval_set=val_pool, verbose=False, plot=True)"
   ]
  },
  {
   "cell_type": "code",
   "execution_count": 44,
   "id": "6a8d9853",
   "metadata": {},
   "outputs": [
    {
     "data": {
      "text/plain": [
       "0.8793450626201349"
      ]
     },
     "execution_count": 44,
     "metadata": {},
     "output_type": "execute_result"
    }
   ],
   "source": [
    "np.max(model_cb.get_evals_result()['validation']['AUC'])"
   ]
  },
  {
   "cell_type": "raw",
   "id": "415b3352",
   "metadata": {},
   "source": [
    "0.8504946241897238 -> 0.8662871438366898 -> 0.8733346676303434 -> 0.8793450626201349"
   ]
  },
  {
   "cell_type": "code",
   "execution_count": 46,
   "id": "790b06d5",
   "metadata": {},
   "outputs": [
    {
     "data": {
      "text/plain": [
       "0.7306184112482237"
      ]
     },
     "execution_count": 46,
     "metadata": {},
     "output_type": "execute_result"
    }
   ],
   "source": [
    "from sklearn.metrics import precision_recall_curve, auc\n",
    "\n",
    "precision, recall, thrs = precision_recall_curve(val_pairs.target, model_cb.predict_proba(val_pool)[:, 1])\n",
    "gt_prec_level_idx = np.where(precision >= 0.75)[0]\n",
    "auc(recall[gt_prec_level_idx], precision[gt_prec_level_idx])"
   ]
  },
  {
   "cell_type": "code",
   "execution_count": null,
   "id": "576c2891",
   "metadata": {},
   "outputs": [],
   "source": []
  }
 ],
 "metadata": {
  "finalized": {
   "timestamp": 1684602749696,
   "trusted": true
  },
  "kernelspec": {
   "display_name": "Python 3 (ipykernel)",
   "language": "python",
   "name": "python3"
  },
  "language_info": {
   "codemirror_mode": {
    "name": "ipython",
    "version": 3
   },
   "file_extension": ".py",
   "mimetype": "text/x-python",
   "name": "python",
   "nbconvert_exporter": "python",
   "pygments_lexer": "ipython3",
   "version": "3.8.13"
  }
 },
 "nbformat": 4,
 "nbformat_minor": 5
}
