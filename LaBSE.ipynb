{
 "cells": [
  {
   "cell_type": "code",
   "execution_count": 1,
   "id": "7c9a60f9",
   "metadata": {
    "ExecuteTime": {
     "end_time": "2023-05-28T23:43:39.679569500Z",
     "start_time": "2023-05-28T23:43:35.407831100Z"
    }
   },
   "outputs": [],
   "source": [
    "import gc\n",
    "import os\n",
    "\n",
    "import json\n",
    "import numpy as np\n",
    "import pandas as pd\n",
    "import random\n",
    "from sklearn.metrics import roc_auc_score\n",
    "from tqdm.notebook import tqdm\n",
    "\n",
    "import torch\n",
    "import torch.nn as nn\n",
    "from torch.utils.data import Dataset\n",
    "\n",
    "import lightning.pytorch as pl\n",
    "\n",
    "from transformers import AutoTokenizer, AutoModel\n",
    "\n",
    "os.environ['CUDA_LAUNCH_BLOCKING'] = \"1\"\n",
    "os.environ['TRANSFORMERS_CACHE'] = './cache/'\n",
    "os.environ[\"TOKENIZERS_PARALLELISM\"] = \"false\""
   ]
  },
  {
   "cell_type": "code",
   "execution_count": 2,
   "id": "d097842a-eaf6-4f26-bae2-dc74cb352c71",
   "metadata": {},
   "outputs": [],
   "source": [
    "import re\n",
    "\n",
    "def text_preprocess(text):\n",
    "    text = re.sub(\"[“”«»″]\", '\"', text)\n",
    "    text = re.sub(\"‘’\", '\"', text)\n",
    "    text = re.sub(\"’\", \"'\", text)\n",
    "    text = re.sub(\"[—–]+\", '-', text)\n",
    "    text = re.sub(\"【\", '(', text)\n",
    "    text = re.sub(\"】\", ')', text)\n",
    "    text = re.sub(\"[\\\\\\]+|/\", ' ', text)\n",
    "    text = re.sub(\"[\\n\\t\\xa0]\", ' ', text)\n",
    "    text = re.sub(\"[\\u200b\\xad•]\", '', text)\n",
    "    text = re.sub('\"+', '\"', text)\n",
    "    text = re.sub(\" +\", ' ', text)\n",
    "    text = text.strip()\n",
    "    return text"
   ]
  },
  {
   "cell_type": "code",
   "execution_count": 3,
   "id": "0a1d92d7",
   "metadata": {
    "ExecuteTime": {
     "end_time": "2023-05-28T23:43:39.738076100Z",
     "start_time": "2023-05-28T23:43:39.681571500Z"
    }
   },
   "outputs": [
    {
     "data": {
      "text/plain": [
       "('2.0.1+cu118', True)"
      ]
     },
     "execution_count": 3,
     "metadata": {},
     "output_type": "execute_result"
    }
   ],
   "source": [
    "torch.__version__, torch.cuda.is_available()"
   ]
  },
  {
   "cell_type": "code",
   "execution_count": 4,
   "id": "297a37ef",
   "metadata": {
    "ExecuteTime": {
     "end_time": "2023-05-28T23:43:39.747566400Z",
     "start_time": "2023-05-28T23:43:39.713409700Z"
    }
   },
   "outputs": [
    {
     "name": "stderr",
     "output_type": "stream",
     "text": [
      "Global seed set to 56\n"
     ]
    },
    {
     "data": {
      "text/plain": [
       "56"
      ]
     },
     "execution_count": 4,
     "metadata": {},
     "output_type": "execute_result"
    }
   ],
   "source": [
    "pl.seed_everything(56, workers=True)"
   ]
  },
  {
   "cell_type": "code",
   "execution_count": 5,
   "id": "b5c8115a",
   "metadata": {
    "ExecuteTime": {
     "end_time": "2023-05-28T23:43:39.747566400Z",
     "start_time": "2023-05-28T23:43:39.727360900Z"
    }
   },
   "outputs": [],
   "source": [
    "columns = ['variantid', 'name']"
   ]
  },
  {
   "cell_type": "code",
   "execution_count": 6,
   "id": "7cdb3499",
   "metadata": {
    "ExecuteTime": {
     "end_time": "2023-05-28T23:43:40.269632100Z",
     "start_time": "2023-05-28T23:43:39.744055100Z"
    }
   },
   "outputs": [
    {
     "data": {
      "text/html": [
       "<div>\n",
       "<style scoped>\n",
       "    .dataframe tbody tr th:only-of-type {\n",
       "        vertical-align: middle;\n",
       "    }\n",
       "\n",
       "    .dataframe tbody tr th {\n",
       "        vertical-align: top;\n",
       "    }\n",
       "\n",
       "    .dataframe thead th {\n",
       "        text-align: right;\n",
       "    }\n",
       "</style>\n",
       "<table border=\"1\" class=\"dataframe\">\n",
       "  <thead>\n",
       "    <tr style=\"text-align: right;\">\n",
       "      <th></th>\n",
       "      <th>name</th>\n",
       "    </tr>\n",
       "    <tr>\n",
       "      <th>variantid</th>\n",
       "      <th></th>\n",
       "    </tr>\n",
       "  </thead>\n",
       "  <tbody>\n",
       "    <tr>\n",
       "      <th>51195767</th>\n",
       "      <td>Удлинитель Партнер-Электро ПВС 2х0,75 ГОСТ,6A,...</td>\n",
       "    </tr>\n",
       "    <tr>\n",
       "      <th>53565809</th>\n",
       "      <td>Магнитный кабель USB 2.0 A (m) - USB Type-C (m...</td>\n",
       "    </tr>\n",
       "    <tr>\n",
       "      <th>56763357</th>\n",
       "      <td>Набор микропрепаратов Konus 25: \"Клетки и ткан...</td>\n",
       "    </tr>\n",
       "    <tr>\n",
       "      <th>56961772</th>\n",
       "      <td>Мобильный телефон BQ 1848 Step, черный</td>\n",
       "    </tr>\n",
       "    <tr>\n",
       "      <th>61054740</th>\n",
       "      <td>Штатив трипод Tripod 330A для фотоаппаратов, в...</td>\n",
       "    </tr>\n",
       "    <tr>\n",
       "      <th>...</th>\n",
       "      <td>...</td>\n",
       "    </tr>\n",
       "    <tr>\n",
       "      <th>820128810</th>\n",
       "      <td>Комплект 2 шт, Чернила Cactus CS-EPT6733B пурп...</td>\n",
       "    </tr>\n",
       "    <tr>\n",
       "      <th>821135769</th>\n",
       "      <td>Защитное стекло закаленное Xiaomi Redmi 7, Y3 ...</td>\n",
       "    </tr>\n",
       "    <tr>\n",
       "      <th>822095690</th>\n",
       "      <td>Системный блок ЮКОМС 9400-268 (AMD A6-9400 (3....</td>\n",
       "    </tr>\n",
       "    <tr>\n",
       "      <th>822101044</th>\n",
       "      <td>Системный блок ЮКОМС 9400-9 (AMD A6-9400 (3.4 ...</td>\n",
       "    </tr>\n",
       "    <tr>\n",
       "      <th>822394794</th>\n",
       "      <td>Смартфон Poco M5s 4/128Gb Grey 4/128 ГБ, серый</td>\n",
       "    </tr>\n",
       "  </tbody>\n",
       "</table>\n",
       "<p>457063 rows × 1 columns</p>\n",
       "</div>"
      ],
      "text/plain": [
       "                                                        name\n",
       "variantid                                                   \n",
       "51195767   Удлинитель Партнер-Электро ПВС 2х0,75 ГОСТ,6A,...\n",
       "53565809   Магнитный кабель USB 2.0 A (m) - USB Type-C (m...\n",
       "56763357   Набор микропрепаратов Konus 25: \"Клетки и ткан...\n",
       "56961772              Мобильный телефон BQ 1848 Step, черный\n",
       "61054740   Штатив трипод Tripod 330A для фотоаппаратов, в...\n",
       "...                                                      ...\n",
       "820128810  Комплект 2 шт, Чернила Cactus CS-EPT6733B пурп...\n",
       "821135769  Защитное стекло закаленное Xiaomi Redmi 7, Y3 ...\n",
       "822095690  Системный блок ЮКОМС 9400-268 (AMD A6-9400 (3....\n",
       "822101044  Системный блок ЮКОМС 9400-9 (AMD A6-9400 (3.4 ...\n",
       "822394794     Смартфон Poco M5s 4/128Gb Grey 4/128 ГБ, серый\n",
       "\n",
       "[457063 rows x 1 columns]"
      ]
     },
     "execution_count": 6,
     "metadata": {},
     "output_type": "execute_result"
    }
   ],
   "source": [
    "train_data = pd.read_parquet('./datasets/train_data.parquet', columns=columns).set_index('variantid')\n",
    "train_data"
   ]
  },
  {
   "cell_type": "code",
   "execution_count": 7,
   "id": "e7ed4350",
   "metadata": {
    "ExecuteTime": {
     "end_time": "2023-05-28T23:43:40.362193Z",
     "start_time": "2023-05-28T23:43:40.270634200Z"
    }
   },
   "outputs": [
    {
     "data": {
      "text/html": [
       "<div>\n",
       "<style scoped>\n",
       "    .dataframe tbody tr th:only-of-type {\n",
       "        vertical-align: middle;\n",
       "    }\n",
       "\n",
       "    .dataframe tbody tr th {\n",
       "        vertical-align: top;\n",
       "    }\n",
       "\n",
       "    .dataframe thead th {\n",
       "        text-align: right;\n",
       "    }\n",
       "</style>\n",
       "<table border=\"1\" class=\"dataframe\">\n",
       "  <thead>\n",
       "    <tr style=\"text-align: right;\">\n",
       "      <th></th>\n",
       "      <th>name</th>\n",
       "    </tr>\n",
       "    <tr>\n",
       "      <th>variantid</th>\n",
       "      <th></th>\n",
       "    </tr>\n",
       "  </thead>\n",
       "  <tbody>\n",
       "    <tr>\n",
       "      <th>51201254</th>\n",
       "      <td>Колодка TDM Electric четырехместная без заземл...</td>\n",
       "    </tr>\n",
       "    <tr>\n",
       "      <th>77151532</th>\n",
       "      <td>Клавиатура черная с черной рамкой для 25-011879</td>\n",
       "    </tr>\n",
       "    <tr>\n",
       "      <th>89664856</th>\n",
       "      <td>15.6\" Игровой ноутбук Acer Predator Helios 300...</td>\n",
       "    </tr>\n",
       "    <tr>\n",
       "      <th>90701982</th>\n",
       "      <td>Портативная колонка Borofone BR7 Empyreal Spor...</td>\n",
       "    </tr>\n",
       "    <tr>\n",
       "      <th>92484118</th>\n",
       "      <td>Аккумулятор для Meizu BA712 ( M6s )</td>\n",
       "    </tr>\n",
       "    <tr>\n",
       "      <th>...</th>\n",
       "      <td>...</td>\n",
       "    </tr>\n",
       "    <tr>\n",
       "      <th>702785891</th>\n",
       "      <td>Кабель USB - Lightning HOCO X21 PLUS (черно-бе...</td>\n",
       "    </tr>\n",
       "    <tr>\n",
       "      <th>704096517</th>\n",
       "      <td>Блок питания для ноутбука Asus f5gl (19V 90W 4...</td>\n",
       "    </tr>\n",
       "    <tr>\n",
       "      <th>705874953</th>\n",
       "      <td>Оперативная память HyperX FURY Black DDR4 2666...</td>\n",
       "    </tr>\n",
       "    <tr>\n",
       "      <th>706965102</th>\n",
       "      <td>8 ТБ Внутренний жесткий диск Toshiba TOSHIBA N...</td>\n",
       "    </tr>\n",
       "    <tr>\n",
       "      <th>707476739</th>\n",
       "      <td>Смартфон Redmi 9a 4/128 ГБ, зеленый</td>\n",
       "    </tr>\n",
       "  </tbody>\n",
       "</table>\n",
       "<p>35730 rows × 1 columns</p>\n",
       "</div>"
      ],
      "text/plain": [
       "                                                        name\n",
       "variantid                                                   \n",
       "51201254   Колодка TDM Electric четырехместная без заземл...\n",
       "77151532     Клавиатура черная с черной рамкой для 25-011879\n",
       "89664856   15.6\" Игровой ноутбук Acer Predator Helios 300...\n",
       "90701982   Портативная колонка Borofone BR7 Empyreal Spor...\n",
       "92484118                 Аккумулятор для Meizu BA712 ( M6s )\n",
       "...                                                      ...\n",
       "702785891  Кабель USB - Lightning HOCO X21 PLUS (черно-бе...\n",
       "704096517  Блок питания для ноутбука Asus f5gl (19V 90W 4...\n",
       "705874953  Оперативная память HyperX FURY Black DDR4 2666...\n",
       "706965102  8 ТБ Внутренний жесткий диск Toshiba TOSHIBA N...\n",
       "707476739                Смартфон Redmi 9a 4/128 ГБ, зеленый\n",
       "\n",
       "[35730 rows x 1 columns]"
      ]
     },
     "execution_count": 7,
     "metadata": {},
     "output_type": "execute_result"
    }
   ],
   "source": [
    "test_data = pd.read_parquet('./datasets/test_data.parquet', columns=columns).set_index('variantid')\n",
    "test_data"
   ]
  },
  {
   "cell_type": "code",
   "execution_count": 8,
   "id": "ec0ed20e",
   "metadata": {
    "ExecuteTime": {
     "end_time": "2023-05-28T23:43:40.363190800Z",
     "start_time": "2023-05-28T23:43:40.319906200Z"
    }
   },
   "outputs": [
    {
     "data": {
      "text/html": [
       "<div>\n",
       "<style scoped>\n",
       "    .dataframe tbody tr th:only-of-type {\n",
       "        vertical-align: middle;\n",
       "    }\n",
       "\n",
       "    .dataframe tbody tr th {\n",
       "        vertical-align: top;\n",
       "    }\n",
       "\n",
       "    .dataframe thead th {\n",
       "        text-align: right;\n",
       "    }\n",
       "</style>\n",
       "<table border=\"1\" class=\"dataframe\">\n",
       "  <thead>\n",
       "    <tr style=\"text-align: right;\">\n",
       "      <th></th>\n",
       "      <th>target</th>\n",
       "      <th>variantid1</th>\n",
       "      <th>variantid2</th>\n",
       "    </tr>\n",
       "  </thead>\n",
       "  <tbody>\n",
       "    <tr>\n",
       "      <th>0</th>\n",
       "      <td>0</td>\n",
       "      <td>51197862</td>\n",
       "      <td>51198054</td>\n",
       "    </tr>\n",
       "    <tr>\n",
       "      <th>1</th>\n",
       "      <td>1</td>\n",
       "      <td>53062686</td>\n",
       "      <td>536165289</td>\n",
       "    </tr>\n",
       "    <tr>\n",
       "      <th>2</th>\n",
       "      <td>1</td>\n",
       "      <td>53602615</td>\n",
       "      <td>587809782</td>\n",
       "    </tr>\n",
       "    <tr>\n",
       "      <th>3</th>\n",
       "      <td>1</td>\n",
       "      <td>53888651</td>\n",
       "      <td>89598677</td>\n",
       "    </tr>\n",
       "    <tr>\n",
       "      <th>4</th>\n",
       "      <td>0</td>\n",
       "      <td>56930698</td>\n",
       "      <td>551526166</td>\n",
       "    </tr>\n",
       "    <tr>\n",
       "      <th>...</th>\n",
       "      <td>...</td>\n",
       "      <td>...</td>\n",
       "      <td>...</td>\n",
       "    </tr>\n",
       "    <tr>\n",
       "      <th>306535</th>\n",
       "      <td>0</td>\n",
       "      <td>817327230</td>\n",
       "      <td>822083612</td>\n",
       "    </tr>\n",
       "    <tr>\n",
       "      <th>306536</th>\n",
       "      <td>0</td>\n",
       "      <td>817560551</td>\n",
       "      <td>818069912</td>\n",
       "    </tr>\n",
       "    <tr>\n",
       "      <th>306537</th>\n",
       "      <td>0</td>\n",
       "      <td>817854719</td>\n",
       "      <td>817857267</td>\n",
       "    </tr>\n",
       "    <tr>\n",
       "      <th>306538</th>\n",
       "      <td>0</td>\n",
       "      <td>820036017</td>\n",
       "      <td>820037019</td>\n",
       "    </tr>\n",
       "    <tr>\n",
       "      <th>306539</th>\n",
       "      <td>0</td>\n",
       "      <td>821514120</td>\n",
       "      <td>821514311</td>\n",
       "    </tr>\n",
       "  </tbody>\n",
       "</table>\n",
       "<p>306540 rows × 3 columns</p>\n",
       "</div>"
      ],
      "text/plain": [
       "        target  variantid1  variantid2\n",
       "0            0    51197862    51198054\n",
       "1            1    53062686   536165289\n",
       "2            1    53602615   587809782\n",
       "3            1    53888651    89598677\n",
       "4            0    56930698   551526166\n",
       "...        ...         ...         ...\n",
       "306535       0   817327230   822083612\n",
       "306536       0   817560551   818069912\n",
       "306537       0   817854719   817857267\n",
       "306538       0   820036017   820037019\n",
       "306539       0   821514120   821514311\n",
       "\n",
       "[306540 rows x 3 columns]"
      ]
     },
     "execution_count": 8,
     "metadata": {},
     "output_type": "execute_result"
    }
   ],
   "source": [
    "train_pairs = pd.read_parquet('./datasets/train_pairs_w_target.parquet')\n",
    "train_pairs['target'] = train_pairs['target'].astype(int)\n",
    "train_pairs"
   ]
  },
  {
   "cell_type": "code",
   "execution_count": 9,
   "id": "40b40d7c",
   "metadata": {
    "ExecuteTime": {
     "end_time": "2023-05-28T23:43:40.363190800Z",
     "start_time": "2023-05-28T23:43:40.347821Z"
    }
   },
   "outputs": [
    {
     "data": {
      "text/html": [
       "<div>\n",
       "<style scoped>\n",
       "    .dataframe tbody tr th:only-of-type {\n",
       "        vertical-align: middle;\n",
       "    }\n",
       "\n",
       "    .dataframe tbody tr th {\n",
       "        vertical-align: top;\n",
       "    }\n",
       "\n",
       "    .dataframe thead th {\n",
       "        text-align: right;\n",
       "    }\n",
       "</style>\n",
       "<table border=\"1\" class=\"dataframe\">\n",
       "  <thead>\n",
       "    <tr style=\"text-align: right;\">\n",
       "      <th></th>\n",
       "      <th>variantid1</th>\n",
       "      <th>variantid2</th>\n",
       "    </tr>\n",
       "  </thead>\n",
       "  <tbody>\n",
       "    <tr>\n",
       "      <th>0</th>\n",
       "      <td>52076340</td>\n",
       "      <td>290590137</td>\n",
       "    </tr>\n",
       "    <tr>\n",
       "      <th>1</th>\n",
       "      <td>64525522</td>\n",
       "      <td>204128919</td>\n",
       "    </tr>\n",
       "    <tr>\n",
       "      <th>2</th>\n",
       "      <td>77243372</td>\n",
       "      <td>479860557</td>\n",
       "    </tr>\n",
       "    <tr>\n",
       "      <th>3</th>\n",
       "      <td>86065820</td>\n",
       "      <td>540678372</td>\n",
       "    </tr>\n",
       "    <tr>\n",
       "      <th>4</th>\n",
       "      <td>91566575</td>\n",
       "      <td>258840506</td>\n",
       "    </tr>\n",
       "    <tr>\n",
       "      <th>...</th>\n",
       "      <td>...</td>\n",
       "      <td>...</td>\n",
       "    </tr>\n",
       "    <tr>\n",
       "      <th>18079</th>\n",
       "      <td>666998614</td>\n",
       "      <td>667074522</td>\n",
       "    </tr>\n",
       "    <tr>\n",
       "      <th>18080</th>\n",
       "      <td>670036240</td>\n",
       "      <td>670048449</td>\n",
       "    </tr>\n",
       "    <tr>\n",
       "      <th>18081</th>\n",
       "      <td>670284509</td>\n",
       "      <td>684323809</td>\n",
       "    </tr>\n",
       "    <tr>\n",
       "      <th>18082</th>\n",
       "      <td>692172005</td>\n",
       "      <td>704805270</td>\n",
       "    </tr>\n",
       "    <tr>\n",
       "      <th>18083</th>\n",
       "      <td>704060220</td>\n",
       "      <td>704096517</td>\n",
       "    </tr>\n",
       "  </tbody>\n",
       "</table>\n",
       "<p>18084 rows × 2 columns</p>\n",
       "</div>"
      ],
      "text/plain": [
       "       variantid1  variantid2\n",
       "0        52076340   290590137\n",
       "1        64525522   204128919\n",
       "2        77243372   479860557\n",
       "3        86065820   540678372\n",
       "4        91566575   258840506\n",
       "...           ...         ...\n",
       "18079   666998614   667074522\n",
       "18080   670036240   670048449\n",
       "18081   670284509   684323809\n",
       "18082   692172005   704805270\n",
       "18083   704060220   704096517\n",
       "\n",
       "[18084 rows x 2 columns]"
      ]
     },
     "execution_count": 9,
     "metadata": {},
     "output_type": "execute_result"
    }
   ],
   "source": [
    "test_pairs = pd.read_parquet('./datasets/test_pairs_wo_target.parquet')\n",
    "test_pairs"
   ]
  },
  {
   "cell_type": "code",
   "execution_count": 10,
   "id": "11072565",
   "metadata": {
    "ExecuteTime": {
     "end_time": "2023-05-28T23:43:40.565319400Z",
     "start_time": "2023-05-28T23:43:40.362193Z"
    }
   },
   "outputs": [],
   "source": [
    "val_pairs = train_pairs[pd.read_csv('./datasets/val_idx.csv', index_col=0).values].copy()\n",
    "train_pairs = train_pairs[pd.read_csv('./datasets/train_idx.csv', index_col=0).values].copy()"
   ]
  },
  {
   "cell_type": "code",
   "execution_count": 11,
   "id": "dfa304b2",
   "metadata": {
    "ExecuteTime": {
     "end_time": "2023-05-28T23:43:40.565319400Z",
     "start_time": "2023-05-28T23:43:40.519281Z"
    }
   },
   "outputs": [],
   "source": [
    "class Args:\n",
    "    batch_size = 96\n",
    "    epochs = 5\n",
    "    lr = 1e-5\n",
    "    lr_warmup_epochs = 5\n",
    "    lr_warmup_decay = 0.01\n",
    "    lr_min = 1e-5\n",
    "    \n",
    "args = Args()"
   ]
  },
  {
   "cell_type": "code",
   "execution_count": 12,
   "id": "c8c36c3e",
   "metadata": {
    "ExecuteTime": {
     "end_time": "2023-05-28T23:43:40.566862900Z",
     "start_time": "2023-05-28T23:43:40.534609100Z"
    }
   },
   "outputs": [],
   "source": [
    "class ItemsDataset(Dataset):\n",
    "    def __init__(self, pairs, data):\n",
    "        super().__init__()\n",
    "        self.pairs = pairs.values\n",
    "        self.pairs_len = len(self.pairs)\n",
    "            \n",
    "        self.names = data['name'].apply(text_preprocess)\n",
    "        \n",
    "    def __len__(self):\n",
    "        return self.pairs_len\n",
    "\n",
    "    def __getitem__(self, idx):\n",
    "        target, id1, id2 = self.pairs[idx, :]\n",
    "        return (\n",
    "            self.names[id1],\n",
    "            self.names[id2],\n",
    "            target\n",
    "        )"
   ]
  },
  {
   "cell_type": "code",
   "execution_count": 13,
   "id": "acd9db73",
   "metadata": {
    "ExecuteTime": {
     "end_time": "2023-05-28T23:43:40.566862900Z",
     "start_time": "2023-05-28T23:43:40.547757300Z"
    }
   },
   "outputs": [],
   "source": [
    "def get_data_loader(pairs, data, batch_size, drop_last, shuffle):\n",
    "    dataset = ItemsDataset(pairs, data)\n",
    "    data_loader = torch.utils.data.DataLoader(\n",
    "        dataset=dataset,\n",
    "        batch_size=batch_size,\n",
    "        num_workers=35,\n",
    "        drop_last=drop_last,\n",
    "        shuffle=shuffle,\n",
    "        pin_memory=True\n",
    "    )\n",
    "    return data_loader"
   ]
  },
  {
   "cell_type": "code",
   "execution_count": 14,
   "id": "64798087",
   "metadata": {
    "ExecuteTime": {
     "end_time": "2023-05-28T23:43:40.580632100Z",
     "start_time": "2023-05-28T23:43:40.565319400Z"
    }
   },
   "outputs": [],
   "source": [
    "def get_loaders(args):\n",
    "    train_loader = get_data_loader(\n",
    "        pairs=train_pairs,\n",
    "        data=train_data,\n",
    "        batch_size=args.batch_size,\n",
    "        drop_last=True,\n",
    "        shuffle=True\n",
    "    )\n",
    "    \n",
    "    val_loader = get_data_loader(\n",
    "        pairs=val_pairs,\n",
    "        data=train_data,\n",
    "        batch_size=args.batch_size,\n",
    "        drop_last=False,\n",
    "        shuffle=False\n",
    "    )\n",
    "    return train_loader, val_loader"
   ]
  },
  {
   "cell_type": "code",
   "execution_count": 15,
   "id": "d89ff69d",
   "metadata": {
    "ExecuteTime": {
     "end_time": "2023-05-28T23:43:40.638Z",
     "start_time": "2023-05-28T23:43:40.578630200Z"
    }
   },
   "outputs": [
    {
     "data": {
      "text/plain": [
       "(2128, 1065)"
      ]
     },
     "execution_count": 15,
     "metadata": {},
     "output_type": "execute_result"
    }
   ],
   "source": [
    "train_loader, val_loader = get_loaders(args)\n",
    "len(train_loader), len(val_loader)"
   ]
  },
  {
   "cell_type": "code",
   "execution_count": 16,
   "id": "334738da",
   "metadata": {
    "ExecuteTime": {
     "end_time": "2023-05-28T23:43:42.084829100Z",
     "start_time": "2023-05-28T23:43:40.597628800Z"
    },
    "tags": []
   },
   "outputs": [],
   "source": [
    "#next(iter(val_loader)) # Спок"
   ]
  },
  {
   "cell_type": "code",
   "execution_count": 17,
   "id": "6f0b1a28",
   "metadata": {
    "ExecuteTime": {
     "end_time": "2023-05-28T23:43:42.123057200Z",
     "start_time": "2023-05-28T23:43:42.102948700Z"
    }
   },
   "outputs": [],
   "source": [
    "class LaBSE(pl.LightningModule):\n",
    "    margin = 0.75\n",
    "    \n",
    "    def __init__(self):\n",
    "        super(LaBSE, self).__init__()\n",
    "        \n",
    "        self.tokenizer = AutoTokenizer.from_pretrained('cointegrated/LaBSE-en-ru')\n",
    "        self.model = AutoModel.from_pretrained('cointegrated/LaBSE-en-ru')\n",
    "        \n",
    "        self.fc = nn.Linear(768, 768)\n",
    "        \n",
    "        #for param in self.model.embeddings.parameters():\n",
    "        #    param.requires_grad = False\n",
    "        #for param in self.model.encoder.parameters():\n",
    "        #    param.requires_grad = False\n",
    "        \n",
    "    def forward(self, x):\n",
    "        encoded_input = self.tokenizer(x, padding=True, truncation=True, max_length=256, return_tensors='pt').to('cuda')\n",
    "        model_output = self.model(**encoded_input)\n",
    "        \n",
    "        embeddings = torch.nn.functional.normalize(model_output.pooler_output)    \n",
    "        embeddings = self.fc(embeddings)\n",
    "        return embeddings\n",
    "\n",
    "    \n",
    "    def configure_optimizers(self):\n",
    "        optimizer = torch.optim.AdamW(\n",
    "            self.parameters(), lr=args.lr, betas=(0.9, 0.999), weight_decay=0.05\n",
    "        )\n",
    "        return optimizer\n",
    "    \n",
    "    def training_step(self, batch, batch_idx):\n",
    "        # self.log('step', batch_idx, logger=True, on_epoch=True)\n",
    "        x1, x2, labels = batch\n",
    "        out1 = self.forward(x1)\n",
    "        out2 = self.forward(x2)\n",
    "        \n",
    "        dists = nn.PairwiseDistance()(out1, out2)\n",
    "        loss = (labels) * torch.pow(dists, 2) + (1 - labels) * torch.pow(torch.clamp(self.margin - dists, min=0.0), 2)\n",
    "        loss = torch.mean(loss)\n",
    "        self.log(\"train_loss\", loss, on_step=False, logger=False, on_epoch=True, prog_bar=True)\n",
    "        return loss\n",
    "    \n",
    "    def validation_step(self, batch, batch_idx):        \n",
    "        x1, x2, labels = batch\n",
    "        out1 = self.forward(x1)\n",
    "        out2 = self.forward(x2)\n",
    "        \n",
    "        dists = nn.PairwiseDistance()(out1, out2)\n",
    "        loss = (labels) * torch.pow(dists, 2) + (1 - labels) * torch.pow(torch.clamp(self.margin - dists, min=0.0), 2)\n",
    "        loss = torch.mean(loss)\n",
    "        self.log(\"val_loss\", loss, logger=False, on_epoch=True, prog_bar=True)   \n",
    "        \n",
    "        try:\n",
    "            auc = roc_auc_score(labels.detach().cpu(), 1 - dists.detach().cpu())\n",
    "        except:\n",
    "            auc = 0\n",
    "            \n",
    "        self.log(\"val_auc\", auc, logger=False, on_epoch=True, prog_bar=True)\n",
    "        \n",
    "    def train_dataloader(self):\n",
    "        return train_loader\n",
    "\n",
    "    def val_dataloader(self):\n",
    "        return val_loader\n",
    "    \n",
    "    def predict_step(self, batch, batch_idx):\n",
    "        x1, x2, labels = batch\n",
    "        out1 = self.forward(x1)\n",
    "        out2 = self.forward(x2)\n",
    "        \n",
    "        dists = nn.PairwiseDistance()(out1, out2)\n",
    "        return torch.cat([out1, out2, (1 - dists).unsqueeze(-1)], dim=1).detach().cpu()"
   ]
  },
  {
   "cell_type": "code",
   "execution_count": 18,
   "id": "f7bfc2c8",
   "metadata": {
    "ExecuteTime": {
     "end_time": "2023-05-28T23:43:44.135102600Z",
     "start_time": "2023-05-28T23:43:42.123057200Z"
    }
   },
   "outputs": [
    {
     "name": "stderr",
     "output_type": "stream",
     "text": [
      "Some weights of the model checkpoint at cointegrated/LaBSE-en-ru were not used when initializing BertModel: ['cls.predictions.transform.dense.bias', 'cls.predictions.transform.LayerNorm.weight', 'cls.seq_relationship.bias', 'cls.predictions.decoder.bias', 'cls.predictions.transform.LayerNorm.bias', 'cls.predictions.decoder.weight', 'cls.seq_relationship.weight', 'cls.predictions.transform.dense.weight', 'cls.predictions.bias']\n",
      "- This IS expected if you are initializing BertModel from the checkpoint of a model trained on another task or with another architecture (e.g. initializing a BertForSequenceClassification model from a BertForPreTraining model).\n",
      "- This IS NOT expected if you are initializing BertModel from the checkpoint of a model that you expect to be exactly identical (initializing a BertForSequenceClassification model from a BertForSequenceClassification model).\n"
     ]
    }
   ],
   "source": [
    "model = LaBSE()"
   ]
  },
  {
   "cell_type": "code",
   "execution_count": 19,
   "id": "e0a78b8a-de99-48f1-95e2-cc3ad4acd49a",
   "metadata": {},
   "outputs": [],
   "source": [
    "#model"
   ]
  },
  {
   "cell_type": "code",
   "execution_count": 20,
   "id": "b169b49c",
   "metadata": {
    "ExecuteTime": {
     "end_time": "2023-05-28T23:43:44.175539800Z",
     "start_time": "2023-05-28T23:43:44.132917600Z"
    }
   },
   "outputs": [
    {
     "data": {
      "text/plain": [
       "================================================================================\n",
       "Layer (type:depth-idx)                                  Param #\n",
       "================================================================================\n",
       "LaBSE                                                   --\n",
       "├─BertModel: 1-1                                        --\n",
       "│    └─BertEmbeddings: 2-1                              --\n",
       "│    │    └─Embedding: 3-1                              42,303,744\n",
       "│    │    └─Embedding: 3-2                              393,216\n",
       "│    │    └─Embedding: 3-3                              1,536\n",
       "│    │    └─LayerNorm: 3-4                              1,536\n",
       "│    │    └─Dropout: 3-5                                --\n",
       "│    └─BertEncoder: 2-2                                 --\n",
       "│    │    └─ModuleList: 3-6                             85,054,464\n",
       "│    └─BertPooler: 2-3                                  --\n",
       "│    │    └─Linear: 3-7                                 590,592\n",
       "│    │    └─Tanh: 3-8                                   --\n",
       "├─Linear: 1-2                                           590,592\n",
       "================================================================================\n",
       "Total params: 128,935,680\n",
       "Trainable params: 128,935,680\n",
       "Non-trainable params: 0\n",
       "================================================================================"
      ]
     },
     "execution_count": 20,
     "metadata": {},
     "output_type": "execute_result"
    }
   ],
   "source": [
    "import torchinfo\n",
    "\n",
    "torchinfo.summary(model)"
   ]
  },
  {
   "cell_type": "code",
   "execution_count": null,
   "id": "170cd77f",
   "metadata": {
    "ExecuteTime": {
     "start_time": "2023-05-28T23:43:44.177684400Z"
    },
    "is_executing": true,
    "jupyter": {
     "outputs_hidden": true
    },
    "tags": []
   },
   "outputs": [],
   "source": [
    "trainer = pl.Trainer(\n",
    "    logger=False, # CSVLogger('./'),\n",
    "    enable_checkpointing=False,\n",
    "    \n",
    "    accelerator='gpu', \n",
    "    devices=[0],\n",
    "    profiler='advanced',\n",
    "    precision=\"16-mixed\",\n",
    "    check_val_every_n_epoch=1,\n",
    "    max_epochs=args.epochs\n",
    ")\n",
    "\n",
    "trainer.fit(model)"
   ]
  },
  {
   "cell_type": "code",
   "execution_count": null,
   "id": "7141643b",
   "metadata": {
    "jupyter": {
     "outputs_hidden": true
    },
    "tags": []
   },
   "outputs": [],
   "source": [
    "test_preds = trainer.predict(model, val_loader)"
   ]
  },
  {
   "cell_type": "code",
   "execution_count": 24,
   "id": "ed56113e",
   "metadata": {},
   "outputs": [
    {
     "data": {
      "text/plain": [
       "0.8869868830887131"
      ]
     },
     "execution_count": 24,
     "metadata": {},
     "output_type": "execute_result"
    }
   ],
   "source": [
    "roc_auc_score(val_pairs.target, np.concatenate([pred.numpy()[:, -1] for pred in test_preds]))"
   ]
  },
  {
   "cell_type": "markdown",
   "id": "3962e3f6-88f7-421e-b778-3ce126f4d4cf",
   "metadata": {},
   "source": [
    "# Инференс"
   ]
  },
  {
   "cell_type": "code",
   "execution_count": 25,
   "id": "c1355ae7-9d39-4da9-81cf-b2385dcb55d3",
   "metadata": {},
   "outputs": [],
   "source": [
    "train_dataset = ItemsDataset(train_pairs, train_data)\n",
    "train_loader = torch.utils.data.DataLoader(\n",
    "    dataset=train_dataset,\n",
    "    batch_size=args.batch_size,\n",
    "    num_workers=37,\n",
    "    drop_last=False,\n",
    "    shuffle=False,\n",
    "    pin_memory=True\n",
    ")"
   ]
  },
  {
   "cell_type": "code",
   "execution_count": null,
   "id": "660e311d-6fa5-4fcf-a673-fdb926789986",
   "metadata": {
    "jupyter": {
     "outputs_hidden": true
    },
    "tags": []
   },
   "outputs": [],
   "source": [
    "features = np.concatenate([pred.numpy() for pred in trainer.predict(model, train_loader)])"
   ]
  },
  {
   "cell_type": "code",
   "execution_count": null,
   "id": "7faaef0f-6157-4bcf-b7e0-b1351100b25e",
   "metadata": {
    "jupyter": {
     "outputs_hidden": true
    },
    "tags": []
   },
   "outputs": [],
   "source": [
    "val_features = np.concatenate([pred.numpy() for pred in trainer.predict(model, val_loader)])"
   ]
  },
  {
   "cell_type": "code",
   "execution_count": 28,
   "id": "514ffff2-d26c-4431-80df-f269421814ba",
   "metadata": {},
   "outputs": [],
   "source": [
    "from catboost import CatBoostClassifier, Pool, cv"
   ]
  },
  {
   "cell_type": "code",
   "execution_count": 29,
   "id": "1ba4ba1e-72d4-49bc-9623-edd44a6f773e",
   "metadata": {},
   "outputs": [],
   "source": [
    "train_pool = Pool(\n",
    "    data=features,\n",
    "    label=train_pairs.target,\n",
    ")\n",
    "\n",
    "val_pool = Pool(\n",
    "    data=val_features,\n",
    "    label=val_pairs.target,\n",
    ")"
   ]
  },
  {
   "cell_type": "code",
   "execution_count": 30,
   "id": "f2c90f34-3623-4e7e-ab05-c85af47563de",
   "metadata": {},
   "outputs": [],
   "source": [
    "params = {\n",
    "    'loss_function': 'Logloss',\n",
    "    'custom_metric': ['AUC'],\n",
    "    'task_type': 'CPU',\n",
    "}"
   ]
  },
  {
   "cell_type": "code",
   "execution_count": 31,
   "id": "20160857-9088-4dbe-93b8-6169e3cf61e2",
   "metadata": {},
   "outputs": [
    {
     "data": {
      "application/vnd.jupyter.widget-view+json": {
       "model_id": "5ac2f4fa78b04632b059e452decc6742",
       "version_major": 2,
       "version_minor": 0
      },
      "text/plain": [
       "MetricVisualizer(layout=Layout(align_self='stretch', height='500px'))"
      ]
     },
     "metadata": {},
     "output_type": "display_data"
    },
    {
     "data": {
      "text/plain": [
       "<catboost.core.CatBoostClassifier at 0x7ff7681ba610>"
      ]
     },
     "execution_count": 31,
     "metadata": {},
     "output_type": "execute_result"
    }
   ],
   "source": [
    "model_cb = CatBoostClassifier(**params, random_seed=56)\n",
    "model_cb.fit(train_pool, eval_set=val_pool, verbose=False, plot=True, early_stopping_rounds=100)"
   ]
  },
  {
   "cell_type": "code",
   "execution_count": 32,
   "id": "1ff0462a-8db6-4ec2-bf94-d0cc6d6d2ac4",
   "metadata": {},
   "outputs": [
    {
     "data": {
      "text/plain": [
       "0.908631905205787"
      ]
     },
     "execution_count": 32,
     "metadata": {},
     "output_type": "execute_result"
    }
   ],
   "source": [
    "np.max(model_cb.get_evals_result()['validation']['AUC'])"
   ]
  },
  {
   "cell_type": "code",
   "execution_count": 33,
   "id": "66dfdc23-2419-4020-9a24-9e8522eef6d0",
   "metadata": {},
   "outputs": [
    {
     "data": {
      "application/vnd.jupyter.widget-view+json": {
       "model_id": "e8fe43fc4105415fba079cf23cef74e9",
       "version_major": 2,
       "version_minor": 0
      },
      "text/plain": [
       "MetricVisualizer(layout=Layout(align_self='stretch', height='500px'))"
      ]
     },
     "metadata": {},
     "output_type": "display_data"
    },
    {
     "name": "stdout",
     "output_type": "stream",
     "text": [
      "Training on fold [0/3]\n",
      "\n",
      "bestTest = 0.3730102263\n",
      "bestIteration = 998\n",
      "\n",
      "Training on fold [1/3]\n",
      "\n",
      "bestTest = 0.3740584124\n",
      "bestIteration = 999\n",
      "\n",
      "Training on fold [2/3]\n",
      "\n",
      "bestTest = 0.3787170071\n",
      "bestIteration = 999\n",
      "\n"
     ]
    }
   ],
   "source": [
    "cv_data = cv(\n",
    "    params=params,\n",
    "    pool=val_pool,\n",
    "    fold_count=3,\n",
    "    shuffle=True,\n",
    "    partition_random_seed=0,\n",
    "    plot=True,\n",
    "    stratified=True,\n",
    "    verbose=False\n",
    ")"
   ]
  },
  {
   "cell_type": "code",
   "execution_count": 34,
   "id": "d4c7c1be-6de2-4d5e-a3be-4606c90ab275",
   "metadata": {},
   "outputs": [
    {
     "name": "stdout",
     "output_type": "stream",
     "text": [
      "Best iteration: 999\n",
      "Best AUC: 0.9095±0.0016\n"
     ]
    }
   ],
   "source": [
    "max_iter = cv_data['test-AUC-mean'].argmax()\n",
    "print(f\"Best iteration: {max_iter}\\nBest AUC: {round(cv_data.iloc[max_iter]['test-AUC-mean'], 4)}±{round(cv_data.iloc[max_iter]['test-AUC-std'], 4)}\")"
   ]
  },
  {
   "cell_type": "code",
   "execution_count": null,
   "id": "88548daa-7357-4034-8199-78aa3131086a",
   "metadata": {},
   "outputs": [],
   "source": []
  },
  {
   "cell_type": "code",
   "execution_count": 35,
   "id": "1c232b01-123f-4808-be93-845798d3282e",
   "metadata": {},
   "outputs": [],
   "source": [
    "test_pairs['target'] = -1\n",
    "test_pairs = test_pairs[['target', 'variantid1', 'variantid2']]\n",
    "test_dataset = ItemsDataset(test_pairs, test_data)\n",
    "test_loader = torch.utils.data.DataLoader(\n",
    "    dataset=test_dataset,\n",
    "    batch_size=args.batch_size,\n",
    "    num_workers=0,\n",
    "    drop_last=False,\n",
    "    shuffle=False,\n",
    "    pin_memory=True\n",
    ")"
   ]
  },
  {
   "cell_type": "code",
   "execution_count": null,
   "id": "5f152aef-f697-46b4-a97d-3247e8ed6102",
   "metadata": {
    "jupyter": {
     "outputs_hidden": true
    },
    "tags": []
   },
   "outputs": [],
   "source": [
    "test_features = np.concatenate([pred.numpy() for pred in trainer.predict(model, test_loader)])"
   ]
  },
  {
   "cell_type": "code",
   "execution_count": 37,
   "id": "0bca3ce6-8c15-4c44-99aa-599c26d8251f",
   "metadata": {},
   "outputs": [
    {
     "data": {
      "text/plain": [
       "variantid\n",
       "51195767     [0.0023719287, 0.04152827, 0.0018715167, 0.035...\n",
       "53565809     [0.022112135, -0.007468411, -0.0068747965, 0.0...\n",
       "56763357                                                   NaN\n",
       "56961772                                                   NaN\n",
       "61054740     [0.01275732, 0.034349203, 0.008032634, 0.03303...\n",
       "                                   ...                        \n",
       "820128810                                                  NaN\n",
       "821135769    [-0.015492215, -0.01956236, -0.008062369, -0.0...\n",
       "822095690                                                  NaN\n",
       "822101044                                                  NaN\n",
       "822394794                                                  NaN\n",
       "Name: labse_tuned_768, Length: 457063, dtype: object"
      ]
     },
     "execution_count": 37,
     "metadata": {},
     "output_type": "execute_result"
    }
   ],
   "source": [
    "train_embeds = pd.Series(index=train_data.index, dtype='object', name='labse_tuned_768')\n",
    "train_embeds[val_pairs.variantid1] = list(val_features[:, :768])\n",
    "train_embeds[val_pairs.variantid2] = list(val_features[:, 768:768*2])\n",
    "train_embeds"
   ]
  },
  {
   "cell_type": "code",
   "execution_count": 38,
   "id": "2fc9b3a3-94f0-4bb1-b64c-7a2ad8fed722",
   "metadata": {},
   "outputs": [
    {
     "data": {
      "text/plain": [
       "variantid\n",
       "51201254     [-0.0036340018, 0.05191699, -0.019618921, 0.03...\n",
       "77151532     [0.020562124, -0.027739627, 0.003007357, 0.033...\n",
       "89664856     [0.008961296, 0.0074943216, -0.0042574126, 0.0...\n",
       "90701982     [0.0002899492, 0.00082552544, -0.0036707376, 0...\n",
       "92484118     [0.0523341, -0.028439298, -0.0205805, 0.019437...\n",
       "                                   ...                        \n",
       "702785891    [0.015837612, -0.020126382, 0.01076397, 0.0433...\n",
       "704096517    [-0.0046698838, -0.00089860754, -0.025120754, ...\n",
       "705874953    [-0.012161249, 0.049054068, -0.02890747, 0.063...\n",
       "706965102    [-0.021119665, 0.045512594, -0.011890485, 0.03...\n",
       "707476739    [0.004665166, 0.03663141, 0.003135435, 0.04310...\n",
       "Name: labse_tuned_768, Length: 35730, dtype: object"
      ]
     },
     "execution_count": 38,
     "metadata": {},
     "output_type": "execute_result"
    }
   ],
   "source": [
    "test_embeds = pd.Series(index=test_data.index, dtype='object', name='labse_tuned_768')\n",
    "test_embeds[test_pairs.variantid1] = list(test_features[:, :768])\n",
    "test_embeds[test_pairs.variantid2] = list(test_features[:, 768:768*2])\n",
    "test_embeds"
   ]
  },
  {
   "cell_type": "code",
   "execution_count": 39,
   "id": "cab1feaa-125e-4579-a66f-bc95ed360b68",
   "metadata": {},
   "outputs": [],
   "source": [
    "train_embeds.to_pickle('./datasets/labse_tuned_train.pickle')"
   ]
  },
  {
   "cell_type": "code",
   "execution_count": 40,
   "id": "d8b71d97-971f-4eab-bd66-beefd70fe05a",
   "metadata": {},
   "outputs": [],
   "source": [
    "test_embeds.to_pickle('./datasets/labse_tuned_test.pickle')"
   ]
  },
  {
   "cell_type": "code",
   "execution_count": 42,
   "id": "c2ee5a21-000f-4269-ad4e-b127e39e3617",
   "metadata": {},
   "outputs": [],
   "source": [
    "torch.save(model.state_dict(), \"./LaBSE.pt\")"
   ]
  },
  {
   "cell_type": "code",
   "execution_count": null,
   "id": "f1bb003b-f9bb-43fb-b5a9-3f85704b7e4c",
   "metadata": {},
   "outputs": [],
   "source": []
  }
 ],
 "metadata": {
  "kernelspec": {
   "display_name": "Python 3 (ipykernel)",
   "language": "python",
   "name": "python3"
  },
  "language_info": {
   "codemirror_mode": {
    "name": "ipython",
    "version": 3
   },
   "file_extension": ".py",
   "mimetype": "text/x-python",
   "name": "python",
   "nbconvert_exporter": "python",
   "pygments_lexer": "ipython3",
   "version": "3.9.12"
  }
 },
 "nbformat": 4,
 "nbformat_minor": 5
}
