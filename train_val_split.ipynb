{
 "cells": [
  {
   "cell_type": "code",
   "execution_count": 1,
   "id": "b1d552ac",
   "metadata": {},
   "outputs": [],
   "source": [
    "import json\n",
    "import pandas as pd"
   ]
  },
  {
   "cell_type": "code",
   "execution_count": 2,
   "id": "389b1243",
   "metadata": {},
   "outputs": [
    {
     "data": {
      "text/html": [
       "<div>\n",
       "<style scoped>\n",
       "    .dataframe tbody tr th:only-of-type {\n",
       "        vertical-align: middle;\n",
       "    }\n",
       "\n",
       "    .dataframe tbody tr th {\n",
       "        vertical-align: top;\n",
       "    }\n",
       "\n",
       "    .dataframe thead th {\n",
       "        text-align: right;\n",
       "    }\n",
       "</style>\n",
       "<table border=\"1\" class=\"dataframe\">\n",
       "  <thead>\n",
       "    <tr style=\"text-align: right;\">\n",
       "      <th></th>\n",
       "      <th>target</th>\n",
       "      <th>variantid1</th>\n",
       "      <th>variantid2</th>\n",
       "    </tr>\n",
       "  </thead>\n",
       "  <tbody>\n",
       "    <tr>\n",
       "      <th>0</th>\n",
       "      <td>0.0</td>\n",
       "      <td>51197862</td>\n",
       "      <td>51198054</td>\n",
       "    </tr>\n",
       "    <tr>\n",
       "      <th>1</th>\n",
       "      <td>1.0</td>\n",
       "      <td>53062686</td>\n",
       "      <td>536165289</td>\n",
       "    </tr>\n",
       "    <tr>\n",
       "      <th>2</th>\n",
       "      <td>1.0</td>\n",
       "      <td>53602615</td>\n",
       "      <td>587809782</td>\n",
       "    </tr>\n",
       "    <tr>\n",
       "      <th>3</th>\n",
       "      <td>1.0</td>\n",
       "      <td>53888651</td>\n",
       "      <td>89598677</td>\n",
       "    </tr>\n",
       "    <tr>\n",
       "      <th>4</th>\n",
       "      <td>0.0</td>\n",
       "      <td>56930698</td>\n",
       "      <td>551526166</td>\n",
       "    </tr>\n",
       "    <tr>\n",
       "      <th>...</th>\n",
       "      <td>...</td>\n",
       "      <td>...</td>\n",
       "      <td>...</td>\n",
       "    </tr>\n",
       "    <tr>\n",
       "      <th>306535</th>\n",
       "      <td>0.0</td>\n",
       "      <td>817327230</td>\n",
       "      <td>822083612</td>\n",
       "    </tr>\n",
       "    <tr>\n",
       "      <th>306536</th>\n",
       "      <td>0.0</td>\n",
       "      <td>817560551</td>\n",
       "      <td>818069912</td>\n",
       "    </tr>\n",
       "    <tr>\n",
       "      <th>306537</th>\n",
       "      <td>0.0</td>\n",
       "      <td>817854719</td>\n",
       "      <td>817857267</td>\n",
       "    </tr>\n",
       "    <tr>\n",
       "      <th>306538</th>\n",
       "      <td>0.0</td>\n",
       "      <td>820036017</td>\n",
       "      <td>820037019</td>\n",
       "    </tr>\n",
       "    <tr>\n",
       "      <th>306539</th>\n",
       "      <td>0.0</td>\n",
       "      <td>821514120</td>\n",
       "      <td>821514311</td>\n",
       "    </tr>\n",
       "  </tbody>\n",
       "</table>\n",
       "<p>306540 rows × 3 columns</p>\n",
       "</div>"
      ],
      "text/plain": [
       "        target  variantid1  variantid2\n",
       "0          0.0    51197862    51198054\n",
       "1          1.0    53062686   536165289\n",
       "2          1.0    53602615   587809782\n",
       "3          1.0    53888651    89598677\n",
       "4          0.0    56930698   551526166\n",
       "...        ...         ...         ...\n",
       "306535     0.0   817327230   822083612\n",
       "306536     0.0   817560551   818069912\n",
       "306537     0.0   817854719   817857267\n",
       "306538     0.0   820036017   820037019\n",
       "306539     0.0   821514120   821514311\n",
       "\n",
       "[306540 rows x 3 columns]"
      ]
     },
     "execution_count": 2,
     "metadata": {},
     "output_type": "execute_result"
    }
   ],
   "source": [
    "train_pairs = pd.read_parquet('./datasets/train_pairs_w_target.parquet')\n",
    "train_pairs"
   ]
  },
  {
   "cell_type": "code",
   "execution_count": 3,
   "id": "dbe354f0",
   "metadata": {},
   "outputs": [],
   "source": [
    "columns = ['variantid', 'categories']\n",
    "train_data = pd.read_parquet('./datasets/train_data.parquet', columns=columns).set_index('variantid')\n",
    "train_data['categories'] = train_data['categories'].apply(lambda x: json.loads(x))\n",
    "train_data['cat2'] = train_data['categories'].apply(lambda x: x['2'])\n",
    "test_data = pd.read_parquet('./datasets/test_data.parquet', columns=columns).set_index('variantid')\n",
    "test_data['categories'] = test_data['categories'].apply(lambda x: json.loads(x))\n",
    "test_data['cat2'] = test_data['categories'].apply(lambda x: x['2'])"
   ]
  },
  {
   "cell_type": "code",
   "execution_count": 4,
   "id": "f0421cf5",
   "metadata": {},
   "outputs": [
    {
     "data": {
      "text/html": [
       "<div>\n",
       "<style scoped>\n",
       "    .dataframe tbody tr th:only-of-type {\n",
       "        vertical-align: middle;\n",
       "    }\n",
       "\n",
       "    .dataframe tbody tr th {\n",
       "        vertical-align: top;\n",
       "    }\n",
       "\n",
       "    .dataframe thead th {\n",
       "        text-align: right;\n",
       "    }\n",
       "</style>\n",
       "<table border=\"1\" class=\"dataframe\">\n",
       "  <thead>\n",
       "    <tr style=\"text-align: right;\">\n",
       "      <th></th>\n",
       "      <th>categories</th>\n",
       "      <th>cat2</th>\n",
       "    </tr>\n",
       "    <tr>\n",
       "      <th>variantid</th>\n",
       "      <th></th>\n",
       "      <th></th>\n",
       "    </tr>\n",
       "  </thead>\n",
       "  <tbody>\n",
       "    <tr>\n",
       "      <th>51195767</th>\n",
       "      <td>{'1': 'EPG', '2': 'Электроника', '3': 'Сетевые...</td>\n",
       "      <td>Электроника</td>\n",
       "    </tr>\n",
       "    <tr>\n",
       "      <th>53565809</th>\n",
       "      <td>{'1': 'EPG', '2': 'Электроника', '3': 'Кабели ...</td>\n",
       "      <td>Электроника</td>\n",
       "    </tr>\n",
       "    <tr>\n",
       "      <th>56763357</th>\n",
       "      <td>{'1': 'EPG', '2': 'Электроника', '3': 'Оптичес...</td>\n",
       "      <td>Электроника</td>\n",
       "    </tr>\n",
       "    <tr>\n",
       "      <th>56961772</th>\n",
       "      <td>{'1': 'EPG', '2': 'Электроника', '3': 'Смартфо...</td>\n",
       "      <td>Электроника</td>\n",
       "    </tr>\n",
       "    <tr>\n",
       "      <th>61054740</th>\n",
       "      <td>{'1': 'EPG', '2': 'Электроника', '3': 'Штативы...</td>\n",
       "      <td>Электроника</td>\n",
       "    </tr>\n",
       "    <tr>\n",
       "      <th>...</th>\n",
       "      <td>...</td>\n",
       "      <td>...</td>\n",
       "    </tr>\n",
       "    <tr>\n",
       "      <th>820128810</th>\n",
       "      <td>{'1': 'EPG', '2': 'Электроника', '3': 'Расходн...</td>\n",
       "      <td>Электроника</td>\n",
       "    </tr>\n",
       "    <tr>\n",
       "      <th>821135769</th>\n",
       "      <td>{'1': 'EPG', '2': 'Электроника', '3': 'Защитны...</td>\n",
       "      <td>Электроника</td>\n",
       "    </tr>\n",
       "    <tr>\n",
       "      <th>822095690</th>\n",
       "      <td>{'1': 'EPG', '2': 'Электроника', '3': 'Компьют...</td>\n",
       "      <td>Электроника</td>\n",
       "    </tr>\n",
       "    <tr>\n",
       "      <th>822101044</th>\n",
       "      <td>{'1': 'EPG', '2': 'Электроника', '3': 'Компьют...</td>\n",
       "      <td>Электроника</td>\n",
       "    </tr>\n",
       "    <tr>\n",
       "      <th>822394794</th>\n",
       "      <td>{'1': 'EPG', '2': 'Электроника', '3': 'Смартфо...</td>\n",
       "      <td>Электроника</td>\n",
       "    </tr>\n",
       "  </tbody>\n",
       "</table>\n",
       "<p>457063 rows × 2 columns</p>\n",
       "</div>"
      ],
      "text/plain": [
       "                                                  categories         cat2\n",
       "variantid                                                                \n",
       "51195767   {'1': 'EPG', '2': 'Электроника', '3': 'Сетевые...  Электроника\n",
       "53565809   {'1': 'EPG', '2': 'Электроника', '3': 'Кабели ...  Электроника\n",
       "56763357   {'1': 'EPG', '2': 'Электроника', '3': 'Оптичес...  Электроника\n",
       "56961772   {'1': 'EPG', '2': 'Электроника', '3': 'Смартфо...  Электроника\n",
       "61054740   {'1': 'EPG', '2': 'Электроника', '3': 'Штативы...  Электроника\n",
       "...                                                      ...          ...\n",
       "820128810  {'1': 'EPG', '2': 'Электроника', '3': 'Расходн...  Электроника\n",
       "821135769  {'1': 'EPG', '2': 'Электроника', '3': 'Защитны...  Электроника\n",
       "822095690  {'1': 'EPG', '2': 'Электроника', '3': 'Компьют...  Электроника\n",
       "822101044  {'1': 'EPG', '2': 'Электроника', '3': 'Компьют...  Электроника\n",
       "822394794  {'1': 'EPG', '2': 'Электроника', '3': 'Смартфо...  Электроника\n",
       "\n",
       "[457063 rows x 2 columns]"
      ]
     },
     "execution_count": 4,
     "metadata": {},
     "output_type": "execute_result"
    }
   ],
   "source": [
    "train_data"
   ]
  },
  {
   "cell_type": "code",
   "execution_count": 5,
   "id": "ddc71155",
   "metadata": {},
   "outputs": [
    {
     "data": {
      "text/html": [
       "<div>\n",
       "<style scoped>\n",
       "    .dataframe tbody tr th:only-of-type {\n",
       "        vertical-align: middle;\n",
       "    }\n",
       "\n",
       "    .dataframe tbody tr th {\n",
       "        vertical-align: top;\n",
       "    }\n",
       "\n",
       "    .dataframe thead th {\n",
       "        text-align: right;\n",
       "    }\n",
       "</style>\n",
       "<table border=\"1\" class=\"dataframe\">\n",
       "  <thead>\n",
       "    <tr style=\"text-align: right;\">\n",
       "      <th></th>\n",
       "      <th>categories</th>\n",
       "      <th>cat2</th>\n",
       "    </tr>\n",
       "    <tr>\n",
       "      <th>variantid</th>\n",
       "      <th></th>\n",
       "      <th></th>\n",
       "    </tr>\n",
       "  </thead>\n",
       "  <tbody>\n",
       "    <tr>\n",
       "      <th>51201254</th>\n",
       "      <td>{'1': 'EPG', '2': 'Электроника', '3': 'Сетевые...</td>\n",
       "      <td>Электроника</td>\n",
       "    </tr>\n",
       "    <tr>\n",
       "      <th>77151532</th>\n",
       "      <td>{'1': 'EPG', '2': 'Электроника', '3': 'Запчаст...</td>\n",
       "      <td>Электроника</td>\n",
       "    </tr>\n",
       "    <tr>\n",
       "      <th>89664856</th>\n",
       "      <td>{'1': 'EPG', '2': 'Электроника', '3': 'Компьют...</td>\n",
       "      <td>Электроника</td>\n",
       "    </tr>\n",
       "    <tr>\n",
       "      <th>90701982</th>\n",
       "      <td>{'1': 'EPG', '2': 'Электроника', '3': 'Акустик...</td>\n",
       "      <td>Электроника</td>\n",
       "    </tr>\n",
       "    <tr>\n",
       "      <th>92484118</th>\n",
       "      <td>{'1': 'EPG', '2': 'Электроника', '3': 'Батарей...</td>\n",
       "      <td>Электроника</td>\n",
       "    </tr>\n",
       "    <tr>\n",
       "      <th>...</th>\n",
       "      <td>...</td>\n",
       "      <td>...</td>\n",
       "    </tr>\n",
       "    <tr>\n",
       "      <th>702785891</th>\n",
       "      <td>{'1': 'EPG', '2': 'Электроника', '3': 'Кабели ...</td>\n",
       "      <td>Электроника</td>\n",
       "    </tr>\n",
       "    <tr>\n",
       "      <th>704096517</th>\n",
       "      <td>{'1': 'EPG', '2': 'Электроника', '3': 'Зарядны...</td>\n",
       "      <td>Электроника</td>\n",
       "    </tr>\n",
       "    <tr>\n",
       "      <th>705874953</th>\n",
       "      <td>{'1': 'EPG', '2': 'Электроника', '3': 'Операти...</td>\n",
       "      <td>Электроника</td>\n",
       "    </tr>\n",
       "    <tr>\n",
       "      <th>706965102</th>\n",
       "      <td>{'1': 'EPG', '2': 'Электроника', '3': 'Жесткие...</td>\n",
       "      <td>Электроника</td>\n",
       "    </tr>\n",
       "    <tr>\n",
       "      <th>707476739</th>\n",
       "      <td>{'1': 'EPG', '2': 'Электроника', '3': 'Смартфо...</td>\n",
       "      <td>Электроника</td>\n",
       "    </tr>\n",
       "  </tbody>\n",
       "</table>\n",
       "<p>35730 rows × 2 columns</p>\n",
       "</div>"
      ],
      "text/plain": [
       "                                                  categories         cat2\n",
       "variantid                                                                \n",
       "51201254   {'1': 'EPG', '2': 'Электроника', '3': 'Сетевые...  Электроника\n",
       "77151532   {'1': 'EPG', '2': 'Электроника', '3': 'Запчаст...  Электроника\n",
       "89664856   {'1': 'EPG', '2': 'Электроника', '3': 'Компьют...  Электроника\n",
       "90701982   {'1': 'EPG', '2': 'Электроника', '3': 'Акустик...  Электроника\n",
       "92484118   {'1': 'EPG', '2': 'Электроника', '3': 'Батарей...  Электроника\n",
       "...                                                      ...          ...\n",
       "702785891  {'1': 'EPG', '2': 'Электроника', '3': 'Кабели ...  Электроника\n",
       "704096517  {'1': 'EPG', '2': 'Электроника', '3': 'Зарядны...  Электроника\n",
       "705874953  {'1': 'EPG', '2': 'Электроника', '3': 'Операти...  Электроника\n",
       "706965102  {'1': 'EPG', '2': 'Электроника', '3': 'Жесткие...  Электроника\n",
       "707476739  {'1': 'EPG', '2': 'Электроника', '3': 'Смартфо...  Электроника\n",
       "\n",
       "[35730 rows x 2 columns]"
      ]
     },
     "execution_count": 5,
     "metadata": {},
     "output_type": "execute_result"
    }
   ],
   "source": [
    "test_data"
   ]
  },
  {
   "cell_type": "code",
   "execution_count": null,
   "id": "eb0f1386",
   "metadata": {},
   "outputs": [],
   "source": []
  },
  {
   "cell_type": "code",
   "execution_count": 6,
   "id": "d4f0dd71",
   "metadata": {},
   "outputs": [
    {
     "data": {
      "text/plain": [
       "0.0725050883433815"
      ]
     },
     "execution_count": 6,
     "metadata": {},
     "output_type": "execute_result"
    }
   ],
   "source": [
    "len(test_data) / (len(train_data) + len(test_data))"
   ]
  },
  {
   "cell_type": "code",
   "execution_count": 7,
   "id": "087eb093",
   "metadata": {},
   "outputs": [
    {
     "data": {
      "text/plain": [
       "(3021, 0.006168176212605049)"
      ]
     },
     "execution_count": 7,
     "metadata": {},
     "output_type": "execute_result"
    }
   ],
   "source": [
    "len(set(test_data.index) & set(train_data.index)), \\\n",
    "len(set(test_data.index) & set(train_data.index)) / len(set(test_data.index) | set(train_data.index))"
   ]
  },
  {
   "cell_type": "code",
   "execution_count": null,
   "id": "dbdcc9f5",
   "metadata": {},
   "outputs": [],
   "source": []
  },
  {
   "cell_type": "code",
   "execution_count": 8,
   "id": "a5f58c7d",
   "metadata": {},
   "outputs": [
    {
     "data": {
      "text/plain": [
       "(array(['Электроника', 'Автотовары', 'Хобби и творчество',\n",
       "        'Строительство и ремонт', 'Спорт и отдых', 'Канцелярские товары',\n",
       "        'Бытовая химия', 'Дом и сад', 'Детские товары', 'Бытовая техника',\n",
       "        'Товары для взрослых', 'Галантерея и украшения',\n",
       "        'Товары для животных'], dtype=object),\n",
       " array(['Электроника'], dtype=object))"
      ]
     },
     "execution_count": 8,
     "metadata": {},
     "output_type": "execute_result"
    }
   ],
   "source": [
    "train_data['cat2'].unique(), test_data['cat2'].unique()"
   ]
  },
  {
   "cell_type": "code",
   "execution_count": 9,
   "id": "75f81f2b",
   "metadata": {},
   "outputs": [
    {
     "data": {
      "text/plain": [
       "234"
      ]
     },
     "execution_count": 9,
     "metadata": {},
     "output_type": "execute_result"
    }
   ],
   "source": [
    "another_cat_mask = (train_data.loc[train_pairs.variantid1, 'cat2'] != 'Электроника').values | (train_data.loc[train_pairs.variantid2, 'cat2'] != 'Электроника').values \n",
    "another_cat_mask.sum()"
   ]
  },
  {
   "cell_type": "markdown",
   "id": "e3d77b38",
   "metadata": {},
   "source": [
    "Category 2 is useless"
   ]
  },
  {
   "cell_type": "code",
   "execution_count": null,
   "id": "3ce46a3f",
   "metadata": {},
   "outputs": [],
   "source": []
  },
  {
   "cell_type": "code",
   "execution_count": 10,
   "id": "53cd9cb9",
   "metadata": {},
   "outputs": [
    {
     "data": {
      "text/plain": [
       "(373191, 83872)"
      ]
     },
     "execution_count": 10,
     "metadata": {},
     "output_type": "execute_result"
    }
   ],
   "source": [
    "from sklearn.model_selection import train_test_split\n",
    "\n",
    "# 0.1634 - 70/30%\n",
    "# 0.1835 - 66/33%\n",
    "train_variants, val_variants = train_test_split(train_data.index, test_size = 0.1835, random_state=56)\n",
    "len(train_variants), len(val_variants)"
   ]
  },
  {
   "cell_type": "code",
   "execution_count": 11,
   "id": "7cb9bfea",
   "metadata": {},
   "outputs": [
    {
     "data": {
      "text/plain": [
       "(0.6667188621387095, 0.33328113786129054)"
      ]
     },
     "execution_count": 11,
     "metadata": {},
     "output_type": "execute_result"
    }
   ],
   "source": [
    "train_idx = train_pairs.variantid1.isin(train_variants) & train_pairs.variantid2.isin(train_variants)\n",
    "val_idx = ~train_idx\n",
    "train_idx.sum() / len(train_pairs), val_idx.sum() / len(train_pairs)"
   ]
  },
  {
   "cell_type": "code",
   "execution_count": 12,
   "id": "c93dc39c",
   "metadata": {},
   "outputs": [
    {
     "data": {
      "text/plain": [
       "(28328, 0.06202202123304017)"
      ]
     },
     "execution_count": 12,
     "metadata": {},
     "output_type": "execute_result"
    }
   ],
   "source": [
    "variants_in_train = set(train_pairs[train_idx].variantid1) | set(train_pairs[train_idx].variantid2)\n",
    "variants_in_val = set(train_pairs[val_idx].variantid1) | set(train_pairs[val_idx].variantid2)\n",
    "len(variants_in_train & variants_in_val), \\\n",
    "len(variants_in_train & variants_in_val) / len(variants_in_train | variants_in_val)"
   ]
  },
  {
   "cell_type": "markdown",
   "id": "4daadbbd",
   "metadata": {},
   "source": [
    "random: 0.108\n",
    "\n",
    "this: 0.062"
   ]
  },
  {
   "cell_type": "code",
   "execution_count": 13,
   "id": "6cdfd68f",
   "metadata": {},
   "outputs": [],
   "source": [
    "train_idx.to_csv('./datasets/train_idx.csv')\n",
    "val_idx.to_csv('./datasets/val_idx.csv')"
   ]
  },
  {
   "cell_type": "code",
   "execution_count": null,
   "id": "b612a826",
   "metadata": {},
   "outputs": [],
   "source": []
  },
  {
   "cell_type": "markdown",
   "id": "2368ea10",
   "metadata": {},
   "source": [
    "how use:\n",
    "```Py\n",
    "val_pairs = train_pairs[pd.read_csv('./datasets/val_idx.csv', index_col=0).values].copy()\n",
    "train_pairs = train_pairs[pd.read_csv('./datasets/train_idx.csv', index_col=0).values].copy()\n",
    "```"
   ]
  },
  {
   "cell_type": "code",
   "execution_count": null,
   "id": "0c7fa0c6",
   "metadata": {},
   "outputs": [],
   "source": []
  }
 ],
 "metadata": {
  "kernelspec": {
   "display_name": "Python 3 (ipykernel)",
   "language": "python",
   "name": "python3"
  },
  "language_info": {
   "codemirror_mode": {
    "name": "ipython",
    "version": 3
   },
   "file_extension": ".py",
   "mimetype": "text/x-python",
   "name": "python",
   "nbconvert_exporter": "python",
   "pygments_lexer": "ipython3",
   "version": "3.8.13"
  }
 },
 "nbformat": 4,
 "nbformat_minor": 5
}
