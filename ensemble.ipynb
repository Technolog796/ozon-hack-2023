{
 "cells": [
  {
   "cell_type": "markdown",
   "id": "30fa4063",
   "metadata": {},
   "source": [
    "# Libraries"
   ]
  },
  {
   "cell_type": "code",
   "execution_count": null,
   "id": "8f31faa9",
   "metadata": {},
   "outputs": [],
   "source": [
    "import json\n",
    "import pandas as pd\n",
    "\n",
    "from nltk.tokenize import RegexpTokenizer\n",
    "\n",
    "import gc\n",
    "from thefuzz import fuzz\n",
    "import numpy as np\n",
    "from tqdm.auto import tqdm\n",
    "\n",
    "from catboost import CatBoostClassifier, Pool\n",
    "\n",
    "import warnings"
   ]
  },
  {
   "cell_type": "code",
   "execution_count": null,
   "id": "b6714c8a",
   "metadata": {},
   "outputs": [],
   "source": [
    "pd.set_option('display.max_columns', 256)\n",
    "warnings.filterwarnings('ignore')"
   ]
  },
  {
   "cell_type": "markdown",
   "id": "48e7c9a8",
   "metadata": {},
   "source": [
    "# Data"
   ]
  },
  {
   "cell_type": "code",
   "execution_count": null,
   "id": "65cda67e",
   "metadata": {},
   "outputs": [],
   "source": [
    "train_pairs = pd.read_parquet('./datasets/train_pairs_w_target.parquet')\n",
    "train_pairs['target'] = train_pairs['target'].astype(int)\n",
    "rtrain_pairs = train_pairs.copy()\n",
    "rtrain_pairs.variantid1, rtrain_pairs.variantid2 = rtrain_pairs.variantid2, rtrain_pairs.variantid1\n",
    "train_pairs"
   ]
  },
  {
   "cell_type": "code",
   "execution_count": null,
   "id": "d738a509",
   "metadata": {},
   "outputs": [],
   "source": [
    "test_pairs = pd.read_parquet('./datasets/test_pairs_wo_target.parquet')\n",
    "rtest_pairs = test_pairs.copy()\n",
    "rtest_pairs.variantid1, rtest_pairs.variantid2 = rtest_pairs.variantid2, rtest_pairs.variantid1\n",
    "test_pairs"
   ]
  },
  {
   "cell_type": "code",
   "execution_count": null,
   "id": "304a28c8",
   "metadata": {},
   "outputs": [],
   "source": [
    "train_data = pd.read_parquet('./datasets/train_data.parquet').set_index('variantid')\n",
    "train_data['characteristic_attributes_mapping'] = train_data['characteristic_attributes_mapping'].fillna('{}').apply(lambda x: json.loads(x))\n",
    "train_data['categories'] = train_data['categories'].apply(lambda x: json.loads(x))\n",
    "train_data['main_pic_embeddings_resnet_v1'] = train_data['main_pic_embeddings_resnet_v1'].apply(lambda x: x[0])\n",
    "train_data = pd.concat([train_data, pd.read_parquet('./datasets/name_labse_embs_train.parquet').set_index('variantid')], axis=1)\n",
    "train_data = pd.concat([train_data, pd.read_pickle('./datasets/neuro_embeds_train.pickle')], axis=1)\n",
    "train_data = pd.concat([train_data, pd.read_pickle('./datasets/labse_tuned_train.pickle')], axis=1)\n",
    "train_data = pd.concat([train_data, pd.read_pickle('./datasets/multimodal_tuned_train.pickle')], axis=1)\n",
    "train_data"
   ]
  },
  {
   "cell_type": "code",
   "execution_count": null,
   "id": "3db57194",
   "metadata": {},
   "outputs": [],
   "source": [
    "test_data = pd.read_parquet('./datasets/test_data.parquet').set_index('variantid')\n",
    "test_data['characteristic_attributes_mapping'] = test_data['characteristic_attributes_mapping'].fillna('{}').apply(lambda x: json.loads(x))\n",
    "test_data['categories'] = test_data['categories'].apply(lambda x: json.loads(x))\n",
    "test_data['main_pic_embeddings_resnet_v1'] = test_data['main_pic_embeddings_resnet_v1'].apply(lambda x: x[0])\n",
    "test_data = pd.concat([test_data, pd.read_parquet('./datasets/name_labse_embs_test.parquet').set_index('variantid')], axis=1)\n",
    "test_data = pd.concat([test_data, pd.read_pickle('./datasets/neuro_embeds_test.pickle')], axis=1)\n",
    "test_data = pd.concat([test_data, pd.read_pickle('./datasets/labse_tuned_test.pickle')], axis=1)\n",
    "test_data = pd.concat([test_data, pd.read_pickle('./datasets/multimodal_tuned_test.pickle')], axis=1)\n",
    "test_data"
   ]
  },
  {
   "cell_type": "code",
   "execution_count": null,
   "id": "079ee577",
   "metadata": {},
   "outputs": [],
   "source": []
  },
  {
   "cell_type": "code",
   "execution_count": null,
   "id": "db67ac6f",
   "metadata": {},
   "outputs": [],
   "source": [
    "train_df = pd.read_pickle('./dataframes/train_df.pickle')\n",
    "rtrain_df = pd.read_pickle('./dataframes/rtrain_df.pickle')\n",
    "test_df = pd.read_pickle('./dataframes/test_df.pickle')\n",
    "rtest_df = pd.read_pickle('./dataframes/rtest_df.pickle')"
   ]
  },
  {
   "cell_type": "code",
   "execution_count": null,
   "id": "a9a87797",
   "metadata": {},
   "outputs": [],
   "source": [
    "cat_features = [\n",
    "    'cat3', 'cat4',\n",
    "    'Страна-изготовитель_1', 'Страна-изготовитель_2', \n",
    "    'Оперативная память_1', 'Оперативная память_2',\n",
    "    'Бренд процессора_1', 'Бренд процессора_2',\n",
    "    'Модуль связи Bluetooth_1', 'Модуль связи Bluetooth_2',\n",
    "    'Назначение_1', 'Назначение_2',\n",
    "]\n",
    "embedding_features = ['main_pic_1', 'main_pic_2', 'name_bert_1', 'name_bert_2', 'name_labse_1', 'name_labse_2']"
   ]
  },
  {
   "cell_type": "code",
   "execution_count": null,
   "id": "b56a23aa",
   "metadata": {},
   "outputs": [],
   "source": [
    "train_pool = Pool(\n",
    "    data=train_df.drop(['target']+embedding_features, axis = 1),\n",
    "    cat_features=cat_features,\n",
    ")\n",
    "rtrain_pool = Pool(\n",
    "    data=rtrain_df.drop(['target']+embedding_features, axis = 1),\n",
    "    cat_features=cat_features,\n",
    ")\n",
    "test_pool = Pool(\n",
    "    data=test_df.drop(embedding_features, axis = 1),\n",
    "    cat_features=cat_features,\n",
    ")\n",
    "rtest_pool = Pool(\n",
    "    data=rtest_df.drop(embedding_features, axis = 1),\n",
    "    cat_features=cat_features,\n",
    ")"
   ]
  },
  {
   "cell_type": "code",
   "execution_count": null,
   "id": "37400295",
   "metadata": {},
   "outputs": [],
   "source": [
    "model_cb_pseudo = CatBoostClassifier().load_model('./models/golden_model_cb_pseudo.cbm')"
   ]
  },
  {
   "cell_type": "code",
   "execution_count": null,
   "id": "e0872ad5",
   "metadata": {},
   "outputs": [],
   "source": [
    "train_pairs['cb_pseudo_pred'] = rtrain_pairs['cb_pseudo_pred'] = \\\n",
    "(model_cb_pseudo.predict_proba(train_pool)[:, 1] + model_cb_pseudo.predict_proba(rtrain_pool)[:, 1]) / 2.\n",
    "\n",
    "test_pairs['cb_pseudo_pred'] = rtest_pairs['cb_pseudo_pred'] = \\\n",
    "(model_cb_pseudo.predict_proba(test_pool)[:, 1] + model_cb_pseudo.predict_proba(rtest_pool)[:, 1]) / 2."
   ]
  },
  {
   "cell_type": "code",
   "execution_count": null,
   "id": "eb9f5aba",
   "metadata": {},
   "outputs": [],
   "source": [
    "train_pool = Pool(\n",
    "    data=train_df.drop(['target'], axis = 1),\n",
    "    cat_features=cat_features,\n",
    "    embedding_features=embedding_features\n",
    ")\n",
    "rtrain_pool = Pool(\n",
    "    data=rtrain_df.drop(['target'], axis = 1),\n",
    "    cat_features=cat_features,\n",
    "    embedding_features=embedding_features\n",
    ")\n",
    "test_pool = Pool(\n",
    "    data=test_df,\n",
    "    cat_features=cat_features,\n",
    "    embedding_features=embedding_features\n",
    ")\n",
    "rtest_pool = Pool(\n",
    "    data=rtest_df,\n",
    "    cat_features=cat_features,\n",
    "    embedding_features=embedding_features\n",
    ")"
   ]
  },
  {
   "cell_type": "code",
   "execution_count": null,
   "id": "a5c3e3b5",
   "metadata": {},
   "outputs": [],
   "source": [
    "model_cb = CatBoostClassifier().load_model('./models/golden_model_cb.cbm')"
   ]
  },
  {
   "cell_type": "code",
   "execution_count": null,
   "id": "38ed6595",
   "metadata": {},
   "outputs": [],
   "source": [
    "%%time\n",
    "train_pairs['cb_pred'] = rtrain_pairs['cb_pred'] = \\\n",
    "(model_cb.predict_proba(train_pool)[:, 1] + model_cb.predict_proba(rtrain_pool)[:, 1]) / 2.\n",
    "\n",
    "test_pairs['cb_pred'] = rtest_pairs['cb_pred'] = \\\n",
    "(model_cb.predict_proba(test_pool)[:, 1] + model_cb.predict_proba(rtest_pool)[:, 1]) / 2."
   ]
  },
  {
   "cell_type": "code",
   "execution_count": null,
   "id": "85676fec",
   "metadata": {},
   "outputs": [],
   "source": []
  },
  {
   "cell_type": "code",
   "execution_count": null,
   "id": "900f4eab",
   "metadata": {},
   "outputs": [],
   "source": [
    "prev_cols = []\n",
    "for col in train_df.columns:\n",
    "    if col == 'target':\n",
    "        continue\n",
    "    if col.startswith('diff_'):\n",
    "        break\n",
    "    prev_cols.append(col)\n",
    "len(prev_cols)"
   ]
  },
  {
   "cell_type": "code",
   "execution_count": null,
   "id": "f39e16ef",
   "metadata": {},
   "outputs": [],
   "source": [
    "train_pairs = pd.concat([train_pairs, train_df[prev_cols]], axis=1)\n",
    "rtrain_pairs = pd.concat([rtrain_pairs, rtrain_df[prev_cols]], axis=1)\n",
    "test_pairs = pd.concat([test_pairs, test_df[prev_cols]], axis=1)\n",
    "rtest_pairs = pd.concat([rtest_pairs, rtest_df[prev_cols]], axis=1)"
   ]
  },
  {
   "cell_type": "code",
   "execution_count": null,
   "id": "f18c1397",
   "metadata": {},
   "outputs": [],
   "source": []
  },
  {
   "cell_type": "code",
   "execution_count": null,
   "id": "8ce03ccb",
   "metadata": {},
   "outputs": [],
   "source": [
    "train_pairs = train_pairs[pd.read_csv('./datasets/val_idx.csv', index_col=0).values].copy()\n",
    "rtrain_pairs = rtrain_pairs[pd.read_csv('./datasets/val_idx.csv', index_col=0).values].copy()"
   ]
  },
  {
   "cell_type": "code",
   "execution_count": null,
   "id": "80031551",
   "metadata": {},
   "outputs": [],
   "source": [
    "idx = list(train_pairs.index)"
   ]
  },
  {
   "cell_type": "code",
   "execution_count": null,
   "id": "7c1dfe00",
   "metadata": {},
   "outputs": [],
   "source": [
    "from sklearn.model_selection import train_test_split\n",
    "\n",
    "idx_train, idx_val = train_test_split(idx, test_size=0.2, random_state=56)\n",
    "len(idx_train), len(idx_val)"
   ]
  },
  {
   "cell_type": "code",
   "execution_count": null,
   "id": "5ebc9e29",
   "metadata": {},
   "outputs": [],
   "source": [
    "val_pairs = train_pairs.loc[idx_val].copy()\n",
    "rval_pairs = rtrain_pairs.loc[idx_val].copy()\n",
    "train_pairs = train_pairs.loc[idx_train].copy()\n",
    "rtrain_pairs = rtrain_pairs.loc[idx_train].copy()"
   ]
  },
  {
   "cell_type": "code",
   "execution_count": null,
   "id": "aa488341",
   "metadata": {},
   "outputs": [],
   "source": []
  },
  {
   "cell_type": "code",
   "execution_count": null,
   "id": "65b4a4ec",
   "metadata": {},
   "outputs": [],
   "source": [
    "train_pairs"
   ]
  },
  {
   "cell_type": "code",
   "execution_count": null,
   "id": "878667d7",
   "metadata": {},
   "outputs": [],
   "source": [
    "val_pairs"
   ]
  },
  {
   "cell_type": "code",
   "execution_count": null,
   "id": "c69ec9f1",
   "metadata": {},
   "outputs": [],
   "source": [
    "test_pairs"
   ]
  },
  {
   "cell_type": "markdown",
   "id": "916a3752",
   "metadata": {},
   "source": [
    "# Features"
   ]
  },
  {
   "cell_type": "code",
   "execution_count": null,
   "id": "49d14038",
   "metadata": {},
   "outputs": [],
   "source": [
    "colors_mapper = {\n",
    " 'ярко-синий': 'ярко-синий',\n",
    " 'ярко-розовый': 'ярко-розовый',\n",
    " 'ярко-зеленый': 'ярко-зеленый',\n",
    " 'ярко-желтый': 'ярко-желтый',\n",
    " 'янтарный': 'янтарный',\n",
    " 'электрик': 'электрик',\n",
    " 'экрю': 'экрю',\n",
    " 'шоколадный': 'шоколадный',\n",
    " 'черный': 'черный',\n",
    " 'черно-синий': 'черно-синий',\n",
    " 'черно-серый': 'черно-серый',\n",
    " 'черно-красный': 'черно-красный',\n",
    " 'черно-зеленый': 'черно-зеленый',\n",
    " 'черн': 'черный',\n",
    " 'чер': 'черный',\n",
    " 'циан': 'бирюзовый',\n",
    " 'цементный': 'цементный',\n",
    " 'хаки': 'хаки',\n",
    " 'фуксия': 'фуксия',\n",
    " 'фисташковый': 'фисташковый',\n",
    " 'фиолетовый': 'фиолетовый',\n",
    " 'фиолетово-синий': 'фиолетово-синий',\n",
    " 'фиолет': 'фиолетовый',\n",
    " 'фиол': 'фиолетовый',\n",
    " 'фиалковый': 'фиалковый',\n",
    " 'тыквенный': 'тыквенный',\n",
    " 'тыква': 'тыквенный',\n",
    " 'травяной': 'травяной',\n",
    " 'томатный': 'томатный',\n",
    " 'тиффани': 'тиффани',\n",
    " 'терракотовый': 'терракотовый',\n",
    " 'терракота': 'терракотовый',\n",
    " 'темно-фиолетовый': 'темно-фиолетовый',\n",
    " 'темно-синий': 'темно-синий',\n",
    " 'темно-серый': 'темно-серый',\n",
    " 'темно-розовый': 'темно-розовый',\n",
    " 'темно-оранжевый': 'темно-оранжевый',\n",
    " 'темно-оливковый': 'темно-оливковый',\n",
    " 'темно-красный': 'темно-красный',\n",
    " 'темно-коричневый': 'темно-коричневый',\n",
    " 'темно-зеленый': 'темно-зеленый',\n",
    " 'темно-голубой': 'темно-голубой',\n",
    " 'темно-бирюзовый': 'темно-бирюзовый',\n",
    " 'темно-бежевый': 'темно-бежевый',\n",
    " 'сливовый': 'сливовый',\n",
    " 'сиреневый': 'сиреневый',\n",
    " 'синий': 'синий',\n",
    " 'сине-зеленый': 'сине-зеленый',\n",
    " 'син': 'синий',\n",
    " 'серый': 'серый',\n",
    " 'серовато-зеленый': 'серовато-зеленый',\n",
    " 'серо-коричневый': 'серо-коричневый',\n",
    " 'серо-зеленый': 'серо-зеленый',\n",
    " 'серо-голубой': 'серо-голубой',\n",
    " 'серо-бежевый': 'серо-бежевый',\n",
    " 'серебряный': 'серебряный',\n",
    " 'серебристый': 'серебристый',\n",
    " 'серебристо-серый': 'серебристо-серый',\n",
    " 'сер': 'серый',\n",
    " 'сепия': 'сепия',\n",
    " 'светло-фиолетовый': 'светло-фиолетовый',\n",
    " 'светло-синий': 'светло-синий',\n",
    " 'светло-серый': 'светло-серый',\n",
    " 'светло-розовый': 'светло-розовый',\n",
    " 'светло-пурпурный': 'светло-пурпурный',\n",
    " 'светло-коричневый': 'светло-коричневый',\n",
    " 'светло-золотистый': 'светло-золотистый',\n",
    " 'светло-зеленый': 'светло-зеленый',\n",
    " 'светло-желтый': 'светло-желтый',\n",
    " 'светло-голубой': 'светло-голубой',\n",
    " 'светло-бирюзовый': 'светло-бирюзовый',\n",
    " 'светло-бежевый': 'светло-бежевый',\n",
    " 'сапфировый': 'сапфировый',\n",
    " 'салатовый': 'салатовый',\n",
    " 'рыжий': 'рыжий',\n",
    " 'розовый': 'розовый',\n",
    " 'розово-фиолетовый': 'розово-фиолетовый',\n",
    " 'розово-золотой': 'розово-золотой',\n",
    " 'разноцветный': 'разноцветный',\n",
    " 'пурпурный': 'пурпурный',\n",
    " 'пурпурно-фиолетовый': 'пурпурно-фиолетовый',\n",
    " 'песочный': 'песочный',\n",
    " 'перу': 'перу',\n",
    " 'персиковый': 'персиковый',\n",
    " 'охра': 'охра',\n",
    " 'орхидея': 'орхидея',\n",
    " 'оранжевый': 'оранжевый',\n",
    " 'оранжево-розовый': 'оранжево-розовый',\n",
    " 'оливковый': 'оливковый',\n",
    " 'огненно-красный': 'огненно-красный',\n",
    " 'нефритовый': 'нефритовый',\n",
    " 'небесный': 'небесный',\n",
    " 'мятный': 'мятный',\n",
    " 'мятно-зеленый': 'мятно-зеленый',\n",
    " 'мята': 'мятный',\n",
    " 'мультиколор': 'мультиколор',\n",
    " 'морковный': 'морковный',\n",
    " 'молочный': 'молочный',\n",
    " 'многоцветный': 'многоцветный',\n",
    " 'медный': 'медный',\n",
    " 'марсала': 'марсала',\n",
    " 'малиновый': 'малиновый',\n",
    " 'малиново-красный': 'малиново-красный',\n",
    " 'малахитовый': 'малахитовый',\n",
    " 'льняной': 'льняной',\n",
    " 'лимонный': 'лимонный',\n",
    " 'лиловый': 'лиловый',\n",
    " 'латунный': 'латунный',\n",
    " 'лаймовый': 'лаймовый',\n",
    " 'лайм': 'лаймовый',\n",
    " 'лазурный': 'лазурный',\n",
    " 'лавандовый': 'лавандовый',\n",
    " 'лаванда': 'лавандовый',\n",
    " 'кремовый': 'кремовый',\n",
    " 'красный': 'красный',\n",
    " 'красновато-коричневый': 'красновато-коричневый',\n",
    " 'красно-оранжевый': 'красно-оранжевый',\n",
    " 'красно-коричневый': 'красно-коричневый',\n",
    " 'красн': 'красный',\n",
    " 'крас': 'красный',\n",
    " 'кофейный': 'кофейный',\n",
    " 'космос': 'космос',\n",
    " 'коричневый': 'коричневый',\n",
    " 'коричнево-красный': 'коричнево-красный',\n",
    " 'коричнево-бежевый': 'коричнево-бежевый',\n",
    " 'коралловый': 'коралловый',\n",
    " 'кораллово-красный': 'кораллово-красный',\n",
    " 'кобальтовый': 'кобальтовый',\n",
    " 'кирпичный': 'кирпичный',\n",
    " 'кирпично-красный': 'кирпично-красный',\n",
    " 'кварцевый': 'кварцевый',\n",
    " 'кардинал': 'кардинал',\n",
    " 'канареечный': 'канареечный',\n",
    " 'камуфляжный': 'камуфляжный',\n",
    " 'индиго': 'индиго',\n",
    " 'изумрудный': 'изумрудный',\n",
    " 'изумрудно-зеленый': 'изумрудно-зеленый',\n",
    " 'изумруд': 'изумрудный',\n",
    " 'золотой': 'золотой',\n",
    " 'золотистый': 'золотистый',\n",
    " 'зеленый': 'зеленый',\n",
    " 'зелено-серый': 'зелено-серый',\n",
    " 'зел': 'зеленый',\n",
    " 'жемчужно-белый': 'жемчужно-белый',\n",
    " 'желтый': 'желтый',\n",
    " 'желто-розовый': 'желто-розовый',\n",
    " 'желто-зеленый': 'желто-зеленый',\n",
    " 'желт': 'желтый',\n",
    " 'гусеница': 'гусеница',\n",
    " 'грушевый': 'грушевый',\n",
    " 'графит': 'графит',\n",
    " 'гранитный': 'гранитный',\n",
    " 'гранатовый': 'гранатовый',\n",
    " 'горчичный': 'горчичный',\n",
    " 'голубой': 'голубой',\n",
    " 'голуб': 'голубой',\n",
    " 'глициния': 'глициния',\n",
    " 'вишня': 'вишневый',\n",
    " 'вишневый': 'вишневый',\n",
    " 'васильковый': 'васильковый',\n",
    " 'ванильный': 'ванильный',\n",
    " 'бурый': 'бурый',\n",
    " 'бронзовый': 'бронзовый',\n",
    " 'бордовый': 'бордовый',\n",
    " 'бордо': 'бордовый',\n",
    " 'болотный': 'болотный',\n",
    " 'бледно-розовый': 'бледно-розовый',\n",
    " 'бледно-пурпурный': 'бледно-пурпурный',\n",
    " 'бледно-желтый': 'бледно-желтый',\n",
    " 'бирюзовый': 'бирюзовый',\n",
    " 'бирюзово-зеленый': 'бирюзово-зеленый',\n",
    " 'белый': 'белый',\n",
    " 'белоснежный': 'белоснежный',\n",
    " 'бело-зеленый': 'бело-зеленый',\n",
    " 'бел': 'белый',\n",
    " 'бежевый': 'бежевый',\n",
    " 'бежево-серый': 'бежево-серый',\n",
    " 'бежево-розовый': 'бежево-розовый',\n",
    " 'баклажановый': 'баклажановый',\n",
    " 'антрацитовый': 'антрацитовый',\n",
    " 'аметистовый': 'аметистовый',\n",
    " 'алый': 'алый',\n",
    " 'аквамариновый': 'аквамариновый',\n",
    " 'аква': 'аква',\n",
    " 'абрикосовый': 'абрикосовый',\n",
    " 'yellow': 'желтый',\n",
    " 'wine': 'wine',\n",
    " 'white': 'белый',\n",
    " 'violet': 'фиолетовый',\n",
    " 'vanilla': 'ванильный',\n",
    " 'ultramarine': 'ultramarine',\n",
    " 'turquoise': 'бирюзовый',\n",
    " 'tomato': 'томатный',\n",
    " 'teal': 'teal',\n",
    " 'tan': 'tan',\n",
    " 'snow': 'snow',\n",
    " 'silver': 'серебряный',\n",
    " 'sapphire': 'сапфировый',\n",
    " 'red': 'красный',\n",
    " 'purple': 'фиолетовый',\n",
    " 'pink': 'розовый',\n",
    " 'peru': 'перу',\n",
    " 'pear': 'грушевый',\n",
    " 'peach': 'персиковый',\n",
    " 'orchid': 'орхидея',\n",
    " 'orange': 'оранжевый',\n",
    " 'olive': 'оливковый',\n",
    " 'navy': 'navy',\n",
    " 'magenta': 'пурпурный',\n",
    " 'linen': 'linen',\n",
    " 'lime': 'лаймовый',\n",
    " 'lilac': 'сиреневый',\n",
    " 'lemon': 'lemon',\n",
    " 'lavender': 'лавандовый',\n",
    " 'khaki': 'хаки',\n",
    " 'jade': 'нефритовый',\n",
    " 'ivory': 'ivory',\n",
    " 'indigo': 'индиго',\n",
    " 'grey': 'серый',\n",
    " 'green': 'зеленый',\n",
    " 'gray': 'серый',\n",
    " 'gold': 'золотой',\n",
    " 'fuchsia': 'фуксия',\n",
    " 'flax': 'flax',\n",
    " 'emerald': 'emerald',\n",
    " 'denim': 'denim',\n",
    " 'cyan': 'бирюзовый',\n",
    " 'cream': 'кремовый',\n",
    " 'corn': 'corn',\n",
    " 'coral': 'коралловый',\n",
    " 'copper': 'медный',\n",
    " 'cobalt': 'кобальтовый',\n",
    " 'chocolate': 'шоколадный',\n",
    " 'burgundy': 'бордовый',\n",
    " 'buff': 'buff',\n",
    " 'brown': 'коричневый',\n",
    " 'bronze': 'бронзовый',\n",
    " 'brass': 'латунный',\n",
    " 'blue': 'голубой',\n",
    " 'blond': 'blond',\n",
    " 'black': 'черный',\n",
    " 'beige': 'бежевый',\n",
    " 'azure': 'лазурный',\n",
    " 'aquamarine': 'аквамариновый',\n",
    " 'aqua': 'аквамариновый',\n",
    " 'amethyst': 'аметистовый',\n",
    " 'amber': 'янтарный'\n",
    "}"
   ]
  },
  {
   "cell_type": "code",
   "execution_count": null,
   "id": "eebf1d6b",
   "metadata": {},
   "outputs": [],
   "source": [
    "clar_tokenizer = RegexpTokenizer(r\"\\([^()]+\\)\")"
   ]
  },
  {
   "cell_type": "code",
   "execution_count": null,
   "id": "699cc0eb",
   "metadata": {},
   "outputs": [],
   "source": [
    "def calc_dists(df, prefix, embs_1, embs_2):\n",
    "    l1_dists, l2_dists, cos_dists, inf_dists = [], [], [], []\n",
    "    for emb_1, emb_2 in zip(embs_1, embs_2):\n",
    "        len_1 = (emb_1**2).sum()**0.5\n",
    "        len_2 = (emb_2**2).sum()**0.5\n",
    "        l1_dists.append(\n",
    "            np.abs(emb_1 - emb_2).sum()\n",
    "        )\n",
    "        l2_dists.append(\n",
    "            ((emb_1 - emb_2)**2).sum()**0.5\n",
    "        )\n",
    "        cos_dists.append(\n",
    "            (emb_1 @ emb_2) / len_1 / len_2\n",
    "        )\n",
    "        inf_dists.append(\n",
    "            np.abs(emb_1 - emb_2).max()\n",
    "        )\n",
    "    df[f'{prefix}_l1_dist'] = l1_dists\n",
    "    df[f'{prefix}_l2_dist'] = l2_dists\n",
    "    df[f'{prefix}_cos_dist'] = cos_dists"
   ]
  },
  {
   "cell_type": "code",
   "execution_count": null,
   "id": "7f90bd9c",
   "metadata": {},
   "outputs": [],
   "source": [
    "def make_features(pairs, data):\n",
    "    gc.collect()\n",
    "    df = pairs.copy()   \n",
    "    df['cb_mean_pred'] = (df['cb_pseudo_pred'] + df['cb_pred']) / 2\n",
    "    \n",
    "    # multi modal\n",
    "    multimodal_tuned_1 = data.loc[df.variantid1, 'multimodal_tuned_768'].values\n",
    "    multimodal_tuned_2 = data.loc[df.variantid2, 'multimodal_tuned_768'].values\n",
    "    calc_dists(\n",
    "        df, 'multimodal_tuned', \n",
    "        multimodal_tuned_1,\n",
    "        multimodal_tuned_2\n",
    "    )\n",
    "    \n",
    "    # labse\n",
    "    labse_tuned_1 = data.loc[df.variantid1, 'labse_tuned_768'].values\n",
    "    labse_tuned_2 = data.loc[df.variantid2, 'labse_tuned_768'].values\n",
    "    calc_dists(\n",
    "        df, 'labse_tuned', \n",
    "        labse_tuned_1,\n",
    "        labse_tuned_2\n",
    "    )\n",
    "    \n",
    "    # fix\n",
    "    names_1 = data.loc[pairs.variantid1, 'name']\n",
    "    names_2 = data.loc[pairs.variantid2, 'name']\n",
    "    colors_1 = data.loc[pairs.variantid1, 'color_parsed']\n",
    "    colors_2 = data.loc[pairs.variantid2, 'color_parsed']\n",
    "    \n",
    "    same_colors = []\n",
    "    all_colors = []\n",
    "    for color_1, color_2, name_1, name_2 in tqdm(zip(colors_1, colors_2, names_1, names_2), total=len(df)):\n",
    "        if color_1 is None:\n",
    "            color_1 = []\n",
    "        if color_2 is None:\n",
    "            color_2 = []\n",
    "            \n",
    "        color_1 = set([colors_mapper[c] for c in color_1])\n",
    "        color_2 = set([colors_mapper[c] for c in color_2])\n",
    "        for color in colors_mapper:\n",
    "            if color + ' ' in name_1 or ' ' + color in name_1:\n",
    "                color_1.add(colors_mapper[color])\n",
    "            if color + ' ' in name_2 or ' ' + color in name_2:\n",
    "                color_2.add(colors_mapper[color])\n",
    "        \n",
    "        same_colors.append(\n",
    "            len(color_1 & color_2)\n",
    "        )\n",
    "        all_colors.append(\n",
    "            len(color_1 | color_2)\n",
    "        )\n",
    "    df['same_colors'] = same_colors\n",
    "    df['all_colors'] = all_colors\n",
    "    df['iou_colors'] = df['same_colors'] / df['all_colors']\n",
    "    df.loc[df['all_colors']==0, 'iou_colors'] = 0\n",
    "    df['not_same_colors'] = df['all_colors'] - df['same_colors']\n",
    "    \n",
    "    clars_set_dist = []\n",
    "    for name_1, name_2 in zip(names_1, names_2): \n",
    "        clars_1 = clar_tokenizer.tokenize(name_1)\n",
    "        clars_2 = clar_tokenizer.tokenize(name_2)\n",
    "        if len(clars_1) == 0 or len(clars_2) == 0:\n",
    "            clars_set_dist.append(100 * (1 + (len(clars_1) == 0) + (len(clars_2) == 0)))\n",
    "        else:\n",
    "            clars_1 = [v[1:-1] for v in clars_1]\n",
    "            clars_2 = [v[1:-1] for v in clars_2]\n",
    "            clars_set_dist.append(\n",
    "                fuzz.token_set_ratio(clars_1, clars_2)\n",
    "            )\n",
    "    df['clars_set_dist'] = clars_set_dist\n",
    "        \n",
    "    # embeddings    \n",
    "    df['multimodal_tuned_1'] = list(data.loc[pairs.variantid1, 'multimodal_tuned_768'])\n",
    "    df['multimodal_tuned_2'] = list(data.loc[pairs.variantid2, 'multimodal_tuned_768'])\n",
    "    df['labse_tuned_tuned_1'] = list(data.loc[pairs.variantid1, 'labse_tuned_768'])\n",
    "    df['labse_tuned_tuned_2'] = list(data.loc[pairs.variantid2, 'labse_tuned_768'])\n",
    "    \n",
    "    return df.drop(['variantid1', 'variantid2'], axis=1)"
   ]
  },
  {
   "cell_type": "code",
   "execution_count": null,
   "id": "768f6d75",
   "metadata": {},
   "outputs": [],
   "source": [
    "%%time\n",
    "train_df = make_features(train_pairs, train_data)\n",
    "train_df"
   ]
  },
  {
   "cell_type": "code",
   "execution_count": null,
   "id": "77181039",
   "metadata": {},
   "outputs": [],
   "source": [
    "rtrain_df = make_features(rtrain_pairs, train_data)\n",
    "val_df = make_features(val_pairs, train_data)\n",
    "rval_df = make_features(rval_pairs, train_data)"
   ]
  },
  {
   "cell_type": "markdown",
   "id": "2bca5322",
   "metadata": {},
   "source": [
    "# Model"
   ]
  },
  {
   "cell_type": "code",
   "execution_count": null,
   "id": "73867c75",
   "metadata": {},
   "outputs": [],
   "source": [
    "all_train = pd.concat([train_df, rtrain_df], axis=0)\n",
    "all_val = pd.concat([val_df, rval_df], axis=0)\n",
    "all_train"
   ]
  },
  {
   "cell_type": "code",
   "execution_count": null,
   "id": "51c335bb",
   "metadata": {},
   "outputs": [],
   "source": [
    "cat_features = ['cat3', 'cat4']\n",
    "embedding_features = ['multimodal_tuned_1', 'multimodal_tuned_2', 'labse_tuned_tuned_1', 'labse_tuned_tuned_2']"
   ]
  },
  {
   "cell_type": "code",
   "execution_count": null,
   "id": "6eca3eed",
   "metadata": {},
   "outputs": [],
   "source": [
    "train_pool = Pool(\n",
    "    data=all_train.drop('target', axis = 1),\n",
    "    label=all_train['target'].values,\n",
    "    cat_features=cat_features,\n",
    "    embedding_features=embedding_features,\n",
    "    baseline=all_train['cb_pseudo_pred']\n",
    ")\n",
    "\n",
    "val_pool = Pool(\n",
    "    data=all_val.drop('target', axis = 1),\n",
    "    label=all_val['target'].values,\n",
    "    cat_features=cat_features,\n",
    "    embedding_features=embedding_features,\n",
    "    baseline=all_val['cb_pseudo_pred']\n",
    ")"
   ]
  },
  {
   "cell_type": "code",
   "execution_count": null,
   "id": "4d93fd9c",
   "metadata": {},
   "outputs": [],
   "source": [
    "params = {\n",
    "    'loss_function': 'CrossEntropy',\n",
    "    'eval_metric': 'PRAUC',\n",
    "    'task_type': 'CPU',\n",
    "    'max_depth': 8,\n",
    "    'learning_rate': 0.04,\n",
    "    'iterations': 2000\n",
    "}"
   ]
  },
  {
   "cell_type": "raw",
   "id": "70441188",
   "metadata": {},
   "source": [
    "7 0.05 0.9118090711450036\n",
    "8 0.05 0.9120743925051071\n",
    "8 0.04 0.9121008825082275"
   ]
  },
  {
   "cell_type": "code",
   "execution_count": null,
   "id": "7d8cfc58",
   "metadata": {},
   "outputs": [],
   "source": [
    "%%time\n",
    "model_cb = CatBoostClassifier(**params, random_seed=56, cat_features=cat_features, embedding_features=embedding_features)\n",
    "model_cb.fit(train_pool, eval_set=val_pool, verbose=250, plot=True, use_best_model=True, early_stopping_rounds=300)"
   ]
  },
  {
   "cell_type": "code",
   "execution_count": null,
   "id": "b1ad6d83",
   "metadata": {},
   "outputs": [],
   "source": [
    "np.max(model_cb.get_evals_result()['validation']['PRAUC'])"
   ]
  },
  {
   "cell_type": "raw",
   "id": "e7850be8",
   "metadata": {},
   "source": [
    "0.9123281552528533"
   ]
  },
  {
   "cell_type": "code",
   "execution_count": null,
   "id": "22029364",
   "metadata": {},
   "outputs": [],
   "source": [
    "imp = model_cb.get_feature_importance(prettified=True)\n",
    "imp.head(10)"
   ]
  },
  {
   "cell_type": "code",
   "execution_count": null,
   "id": "56bf3dd0",
   "metadata": {},
   "outputs": [],
   "source": [
    "pd.concat([val_pairs, rval_pairs], axis=0)[all_val.target != model_cb.predict(val_pool)]"
   ]
  },
  {
   "cell_type": "markdown",
   "id": "fdfc4d36",
   "metadata": {},
   "source": [
    "# Inference"
   ]
  },
  {
   "cell_type": "code",
   "execution_count": null,
   "id": "20ace3ee",
   "metadata": {},
   "outputs": [],
   "source": [
    "test_df = make_features(test_pairs, test_data)\n",
    "rtest_df = make_features(rtest_pairs, test_data)"
   ]
  },
  {
   "cell_type": "code",
   "execution_count": null,
   "id": "d3ba11fa",
   "metadata": {},
   "outputs": [],
   "source": [
    "test_pool = Pool(\n",
    "    data=test_df,\n",
    "    cat_features=cat_features,\n",
    "    embedding_features=embedding_features,\n",
    "    baseline=test_df['cb_pseudo_pred']\n",
    ")\n",
    "\n",
    "rtest_pool = Pool(\n",
    "    data=rtest_df,\n",
    "    cat_features=cat_features,\n",
    "    embedding_features=embedding_features,\n",
    "    baseline=rtest_df['cb_pseudo_pred']\n",
    ")"
   ]
  },
  {
   "cell_type": "code",
   "execution_count": null,
   "id": "810ac33a",
   "metadata": {},
   "outputs": [],
   "source": [
    "preds = model_cb.predict_proba(test_pool)[:,1]\n",
    "preds"
   ]
  },
  {
   "cell_type": "code",
   "execution_count": null,
   "id": "04692b05",
   "metadata": {},
   "outputs": [],
   "source": [
    "rpreds = model_cb.predict_proba(rtest_pool)[:,1]\n",
    "rpreds"
   ]
  },
  {
   "cell_type": "code",
   "execution_count": null,
   "id": "d0420493",
   "metadata": {},
   "outputs": [],
   "source": [
    "final_preds = (preds + rpreds) / 2.\n",
    "final_preds"
   ]
  },
  {
   "cell_type": "code",
   "execution_count": null,
   "id": "229b02db",
   "metadata": {},
   "outputs": [],
   "source": [
    "test_pairs['target'] = final_preds\n",
    "test_pairs.to_csv('./golden_submit_ens.csv', index=False)\n",
    "test_pairs.drop('target', axis=1, inplace=True)"
   ]
  },
  {
   "cell_type": "code",
   "execution_count": null,
   "id": "a9d4f59a",
   "metadata": {},
   "outputs": [],
   "source": []
  },
  {
   "cell_type": "code",
   "execution_count": null,
   "id": "da98895d",
   "metadata": {},
   "outputs": [],
   "source": [
    "val_pool = Pool(\n",
    "    data=all_val.drop('target', axis = 1),\n",
    "    label=all_val['target'],\n",
    "    cat_features=cat_features,\n",
    "    embedding_features=embedding_features,\n",
    "    baseline=all_val['cb_pseudo_pred']\n",
    ")\n",
    "\n",
    "init_target = model_cb.predict_proba(val_pool)[:, 1]\n",
    "mean_target = init_target.copy()\n",
    "mean_target[:len(val_df)] += init_target[len(val_df):]\n",
    "mean_target[len(val_df):] += init_target[:len(val_df)]\n",
    "mean_target /= 2.\n",
    "pseudo_all_val = all_val.copy().drop('target', axis=1)\n",
    "pseudo_all_val['target'] = mean_target"
   ]
  },
  {
   "cell_type": "code",
   "execution_count": null,
   "id": "04b51da5",
   "metadata": {},
   "outputs": [],
   "source": [
    "pseudo_test = test_df.copy()\n",
    "pseudo_test['target'] = final_preds\n",
    "pseudo_rtest = rtest_df.copy()\n",
    "pseudo_rtest['target'] = final_preds"
   ]
  },
  {
   "cell_type": "code",
   "execution_count": null,
   "id": "e6bd07ee",
   "metadata": {},
   "outputs": [],
   "source": [
    "pseudo_all_train = pd.concat([all_train, pseudo_all_val, pseudo_test, pseudo_rtest], axis=0)\n",
    "pseudo_all_train"
   ]
  },
  {
   "cell_type": "code",
   "execution_count": null,
   "id": "5d33e784",
   "metadata": {},
   "outputs": [],
   "source": [
    "train_pool = Pool(\n",
    "    data=pseudo_all_train.drop(['target']+embedding_features, axis = 1),\n",
    "    label=pseudo_all_train['target'],\n",
    "    cat_features=cat_features,\n",
    "    baseline=pseudo_all_train['cb_pseudo_pred']\n",
    ")\n",
    "\n",
    "val_pool = Pool(\n",
    "    data=all_val.drop(['target']+embedding_features, axis = 1),\n",
    "    label=all_val['target'],\n",
    "    cat_features=cat_features,\n",
    "    baseline=all_val['cb_pseudo_pred']\n",
    ")"
   ]
  },
  {
   "cell_type": "code",
   "execution_count": null,
   "id": "15a14d7a",
   "metadata": {},
   "outputs": [],
   "source": [
    "params = {\n",
    "    'loss_function': 'CrossEntropy',\n",
    "    'eval_metric': 'PRAUC',\n",
    "    'task_type': 'CPU',\n",
    "    'max_depth': 8,\n",
    "    'learning_rate': 0.04,\n",
    "    'iterations': 2000\n",
    "}"
   ]
  },
  {
   "cell_type": "code",
   "execution_count": null,
   "id": "d0e1ea85",
   "metadata": {},
   "outputs": [],
   "source": [
    "%%time\n",
    "model_cb_pseudo = CatBoostClassifier(**params, random_seed=56, cat_features=cat_features, train_dir='./1/')\n",
    "model_cb_pseudo.fit(train_pool, eval_set=val_pool, verbose=250, plot=True, use_best_model=True, early_stopping_rounds=300)"
   ]
  },
  {
   "cell_type": "code",
   "execution_count": null,
   "id": "27c98d52",
   "metadata": {},
   "outputs": [],
   "source": [
    "np.max(model_cb_pseudo.get_evals_result()['validation']['PRAUC']) # 0.9127931864562437"
   ]
  },
  {
   "cell_type": "code",
   "execution_count": null,
   "id": "96493969",
   "metadata": {},
   "outputs": [],
   "source": [
    "model_cb_pseudo.get_feature_importance(prettified=True).head(10)"
   ]
  },
  {
   "cell_type": "code",
   "execution_count": null,
   "id": "9a0a46f1",
   "metadata": {},
   "outputs": [],
   "source": []
  },
  {
   "cell_type": "code",
   "execution_count": null,
   "id": "14ec2dcc",
   "metadata": {},
   "outputs": [],
   "source": [
    "models = []\n",
    "for seed in tqdm((7, 13, 19, 23, 31, 56)):\n",
    "    model = CatBoostClassifier(**params, random_seed=seed, cat_features=cat_features, train_dir='./1/')\n",
    "    model.fit(train_pool, eval_set=val_pool, verbose=250, plot=True, use_best_model=True, early_stopping_rounds=300)\n",
    "    models.append(model)"
   ]
  },
  {
   "cell_type": "code",
   "execution_count": null,
   "id": "dc32d02e",
   "metadata": {},
   "outputs": [],
   "source": []
  },
  {
   "cell_type": "code",
   "execution_count": null,
   "id": "0d2ef3e3",
   "metadata": {},
   "outputs": [],
   "source": [
    "test_pool = Pool(\n",
    "    data=test_df.drop(embedding_features, axis=1),\n",
    "    cat_features=cat_features,\n",
    "    baseline=test_df['cb_pseudo_pred']\n",
    ")"
   ]
  },
  {
   "cell_type": "code",
   "execution_count": null,
   "id": "023b6368",
   "metadata": {},
   "outputs": [],
   "source": [
    "rtest_pool = Pool(\n",
    "    data=rtest_df.drop(embedding_features, axis=1),\n",
    "    cat_features=cat_features,\n",
    "    baseline=rtest_df['cb_pseudo_pred']\n",
    ")"
   ]
  },
  {
   "cell_type": "code",
   "execution_count": null,
   "id": "5ac57415",
   "metadata": {},
   "outputs": [],
   "source": [
    "preds = model_cb_pseudo.predict_proba(test_pool)[:,1]\n",
    "preds"
   ]
  },
  {
   "cell_type": "code",
   "execution_count": null,
   "id": "8c83f6c2",
   "metadata": {},
   "outputs": [],
   "source": [
    "rpreds = model_cb_pseudo.predict_proba(rtest_pool)[:,1]\n",
    "rpreds"
   ]
  },
  {
   "cell_type": "code",
   "execution_count": null,
   "id": "6b9dcef2",
   "metadata": {},
   "outputs": [],
   "source": [
    "final_preds = (preds + rpreds) / 2.\n",
    "final_preds"
   ]
  },
  {
   "cell_type": "code",
   "execution_count": null,
   "id": "31b7512d",
   "metadata": {},
   "outputs": [],
   "source": [
    "test_pairs['target'] = final_preds\n",
    "test_pairs.to_csv('./golden_submit_ens_pseudo.csv', index=False)\n",
    "test_pairs.drop('target', axis=1, inplace=True)"
   ]
  },
  {
   "cell_type": "code",
   "execution_count": null,
   "id": "83475fc9",
   "metadata": {},
   "outputs": [],
   "source": []
  },
  {
   "cell_type": "code",
   "execution_count": null,
   "id": "6d3f25bf",
   "metadata": {},
   "outputs": [],
   "source": [
    "preds = 0\n",
    "rpreds = 0\n",
    "for model in models:\n",
    "    preds += model.predict_proba(test_pool)[:,1]\n",
    "    rpreds += model.predict_proba(rtest_pool)[:,1]\n",
    "preds /= len(models)    \n",
    "rpreds /= len(models)    "
   ]
  },
  {
   "cell_type": "code",
   "execution_count": null,
   "id": "58aa4f97",
   "metadata": {},
   "outputs": [],
   "source": [
    "final_preds = (preds + rpreds) / 2.\n",
    "final_preds"
   ]
  },
  {
   "cell_type": "code",
   "execution_count": null,
   "id": "b9a04b43",
   "metadata": {},
   "outputs": [],
   "source": [
    "test_pairs['target'] = final_preds\n",
    "test_pairs.to_csv('./golden_submit_ens_pseudo_seeds.csv', index=False)\n",
    "test_pairs.drop('target', axis=1, inplace=True)"
   ]
  },
  {
   "cell_type": "code",
   "execution_count": null,
   "id": "7e6e7e79",
   "metadata": {},
   "outputs": [],
   "source": []
  }
 ],
 "metadata": {
  "kernelspec": {
   "display_name": "Python 3 (ipykernel)",
   "language": "python",
   "name": "python3"
  },
  "language_info": {
   "codemirror_mode": {
    "name": "ipython",
    "version": 3
   },
   "file_extension": ".py",
   "mimetype": "text/x-python",
   "name": "python",
   "nbconvert_exporter": "python",
   "pygments_lexer": "ipython3",
   "version": "3.9.12"
  }
 },
 "nbformat": 4,
 "nbformat_minor": 5
}
